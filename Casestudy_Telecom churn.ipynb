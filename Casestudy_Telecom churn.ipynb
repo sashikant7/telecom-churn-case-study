{
 "cells": [
  {
   "cell_type": "markdown",
   "metadata": {},
   "source": [
    "## Problem Statement\n",
    "\n",
    "### Business Problem Overview\n",
    "In the telecom industry, customers are able to choose from multiple service providers and actively switch from one operator to another. In this highly competitive market, the telecommunications industry experiences an average of 15-25% annual churn rate. Given the fact that it costs 5-10 times more to acquire a new customer than to retain an existing one, customer retention has now become even more important than customer acquisition.\n",
    "\n",
    " \n",
    "\n",
    "For many incumbent operators, retaining high profitable customers is the number one business goal.\n",
    "\n",
    " \n",
    "\n",
    "To reduce customer churn, telecom companies need to predict which customers are at high risk of churn.\n",
    "\n",
    " \n",
    "\n",
    "In this project, you will analyse customer-level data of a leading telecom firm, build predictive models to identify customers at high risk of churn and identify the main indicators of churn.\n",
    "\n",
    " \n",
    "\n",
    "### Understanding and Defining Churn\n",
    "There are two main models of payment in the telecom industry - postpaid (customers pay a monthly/annual bill after using the services) and prepaid (customers pay/recharge with a certain amount in advance and then use the services).\n",
    "\n",
    " \n",
    "\n",
    "In the postpaid model, when customers want to switch to another operator, they usually inform the existing operator to terminate the services, and you directly know that this is an instance of churn.\n",
    "\n",
    " \n",
    "\n",
    "However, in the prepaid model, customers who want to switch to another network can simply stop using the services without any notice, and it is hard to know whether someone has actually churned or is simply not using the services temporarily (e.g. someone may be on a trip abroad for a month or two and then intend to resume using the services again).\n",
    "\n",
    " \n",
    "\n",
    "Thus, churn prediction is usually more critical (and non-trivial) for prepaid customers, and the term ‘churn’ should be defined carefully.  Also, prepaid is the most common model in India and southeast Asia, while postpaid is more common in Europe in North America.\n",
    "\n",
    " \n",
    "\n",
    "This project is based on the Indian and Southeast Asian market.\n",
    "\n",
    " \n",
    "\n",
    "### Definitions of Churn\n",
    "There are various ways to define churn, such as:\n",
    "\n",
    "#### Revenue-based churn: \n",
    "Customers who have not utilised any revenue-generating facilities such as mobile internet, outgoing calls, SMS etc. over a given period of time. One could also use aggregate metrics such as ‘customers who have generated less than INR 4 per month in total/average/median revenue’.\n",
    "\n",
    " \n",
    "\n",
    "The main shortcoming of this definition is that there are customers who only receive calls/SMSes from their wage-earning counterparts, i.e. they don’t generate revenue but use the services. For example, many users in rural areas only receive calls from their wage-earning siblings in urban areas.\n",
    "\n",
    " \n",
    "\n",
    "#### Usage-based churn:\n",
    "Customers who have not done any usage, either incoming or outgoing - in terms of calls, internet etc. over a period of time.\n",
    "\n",
    " \n",
    "\n",
    "A potential shortcoming of this definition is that when the customer has stopped using the services for a while, it may be too late to take any corrective actions to retain them. For e.g., if you define churn based on a ‘two-months zero usage’ period, predicting churn could be useless since by that time the customer would have already switched to another operator.\n",
    "\n",
    " \n",
    "\n",
    "In this project, you will use the usage-based definition to define churn.\n",
    "\n",
    " \n",
    "\n",
    "#### High-value Churn:\n",
    "In the Indian and the southeast Asian market, approximately 80% of revenue comes from the top 20% customers (called high-value customers). Thus, if we can reduce churn of the high-value customers, we will be able to reduce significant revenue leakage.\n",
    "\n",
    " \n",
    "\n",
    "In this project, you will define high-value customers based on a certain metric (mentioned later below) and predict churn only on high-value customers.\n",
    "\n",
    " \n",
    "\n",
    "### Understanding the Business Objective and the Data\n",
    "The dataset contains customer-level information for a span of four consecutive months - June, July, August and September. The months are encoded as 6, 7, 8 and 9, respectively. \n",
    "\n",
    "\n",
    "The business objective is to predict the churn in the last (i.e. the ninth) month using the data (features) from the first three months. To do this task well, understanding the typical customer behaviour during churn will be helpful.\n",
    "\n",
    " \n",
    "\n",
    "### Understanding Customer Behaviour During Churn\n",
    "Customers usually do not decide to switch to another competitor instantly, but rather over a period of time (this is especially applicable to high-value customers). In churn prediction, we assume that there are three phases of customer lifecycle :\n",
    "\n",
    "The ‘good’ phase: In this phase, the customer is happy with the service and behaves as usual.\n",
    "\n",
    "The ‘action’ phase: The customer experience starts to sore in this phase, for e.g. he/she gets a compelling offer from a  competitor, faces unjust charges, becomes unhappy with service quality etc. In this phase, the customer usually shows different behaviour than the ‘good’ months. Also, it is crucial to identify high-churn-risk customers in this phase, since some corrective actions can be taken at this point (such as matching the competitor’s offer/improving the service quality etc.)\n",
    "\n",
    "The ‘churn’ phase: In this phase, the customer is said to have churned. You define churn based on this phase. Also, it is important to note that at the time of prediction (i.e. the action months), this data is not available to you for prediction. Thus, after tagging churn as 1/0 based on this phase, you discard all data corresponding to this phase."
   ]
  },
  {
   "cell_type": "code",
   "execution_count": 219,
   "metadata": {},
   "outputs": [],
   "source": [
    "#Importing Libraries\n",
    "from __future__ import division\n",
    "import numpy as np\n",
    "import pandas as pd\n",
    "import seaborn as sns\n",
    "import matplotlib.pyplot as plt\n",
    "import warnings\n",
    "#Ignore warnings\n",
    "warnings.filterwarnings('ignore')\n",
    "\n",
    "#Importing sklearn libraries\n",
    "from sklearn.preprocessing import scale\n",
    "from sklearn.preprocessing import LabelEncoder\n",
    "from sklearn.model_selection import train_test_split\n",
    "from sklearn.model_selection import KFold\n",
    "from sklearn.model_selection import cross_val_score\n",
    "from sklearn.model_selection import GridSearchCV\n",
    "import gc\n",
    "import os"
   ]
  },
  {
   "cell_type": "code",
   "execution_count": 220,
   "metadata": {},
   "outputs": [
    {
     "data": {
      "text/html": [
       "<div>\n",
       "<style scoped>\n",
       "    .dataframe tbody tr th:only-of-type {\n",
       "        vertical-align: middle;\n",
       "    }\n",
       "\n",
       "    .dataframe tbody tr th {\n",
       "        vertical-align: top;\n",
       "    }\n",
       "\n",
       "    .dataframe thead th {\n",
       "        text-align: right;\n",
       "    }\n",
       "</style>\n",
       "<table border=\"1\" class=\"dataframe\">\n",
       "  <thead>\n",
       "    <tr style=\"text-align: right;\">\n",
       "      <th></th>\n",
       "      <th>mobile_number</th>\n",
       "      <th>circle_id</th>\n",
       "      <th>loc_og_t2o_mou</th>\n",
       "      <th>std_og_t2o_mou</th>\n",
       "      <th>loc_ic_t2o_mou</th>\n",
       "      <th>last_date_of_month_6</th>\n",
       "      <th>last_date_of_month_7</th>\n",
       "      <th>last_date_of_month_8</th>\n",
       "      <th>last_date_of_month_9</th>\n",
       "      <th>arpu_6</th>\n",
       "      <th>...</th>\n",
       "      <th>sachet_3g_9</th>\n",
       "      <th>fb_user_6</th>\n",
       "      <th>fb_user_7</th>\n",
       "      <th>fb_user_8</th>\n",
       "      <th>fb_user_9</th>\n",
       "      <th>aon</th>\n",
       "      <th>aug_vbc_3g</th>\n",
       "      <th>jul_vbc_3g</th>\n",
       "      <th>jun_vbc_3g</th>\n",
       "      <th>sep_vbc_3g</th>\n",
       "    </tr>\n",
       "  </thead>\n",
       "  <tbody>\n",
       "    <tr>\n",
       "      <th>0</th>\n",
       "      <td>7000842753</td>\n",
       "      <td>109</td>\n",
       "      <td>0.0</td>\n",
       "      <td>0.0</td>\n",
       "      <td>0.0</td>\n",
       "      <td>6/30/2014</td>\n",
       "      <td>7/31/2014</td>\n",
       "      <td>8/31/2014</td>\n",
       "      <td>9/30/2014</td>\n",
       "      <td>197.385</td>\n",
       "      <td>...</td>\n",
       "      <td>0</td>\n",
       "      <td>1.0</td>\n",
       "      <td>1.0</td>\n",
       "      <td>1.0</td>\n",
       "      <td>NaN</td>\n",
       "      <td>968</td>\n",
       "      <td>30.4</td>\n",
       "      <td>0.0</td>\n",
       "      <td>101.20</td>\n",
       "      <td>3.58</td>\n",
       "    </tr>\n",
       "    <tr>\n",
       "      <th>1</th>\n",
       "      <td>7001865778</td>\n",
       "      <td>109</td>\n",
       "      <td>0.0</td>\n",
       "      <td>0.0</td>\n",
       "      <td>0.0</td>\n",
       "      <td>6/30/2014</td>\n",
       "      <td>7/31/2014</td>\n",
       "      <td>8/31/2014</td>\n",
       "      <td>9/30/2014</td>\n",
       "      <td>34.047</td>\n",
       "      <td>...</td>\n",
       "      <td>0</td>\n",
       "      <td>NaN</td>\n",
       "      <td>1.0</td>\n",
       "      <td>1.0</td>\n",
       "      <td>NaN</td>\n",
       "      <td>1006</td>\n",
       "      <td>0.0</td>\n",
       "      <td>0.0</td>\n",
       "      <td>0.00</td>\n",
       "      <td>0.00</td>\n",
       "    </tr>\n",
       "    <tr>\n",
       "      <th>2</th>\n",
       "      <td>7001625959</td>\n",
       "      <td>109</td>\n",
       "      <td>0.0</td>\n",
       "      <td>0.0</td>\n",
       "      <td>0.0</td>\n",
       "      <td>6/30/2014</td>\n",
       "      <td>7/31/2014</td>\n",
       "      <td>8/31/2014</td>\n",
       "      <td>9/30/2014</td>\n",
       "      <td>167.690</td>\n",
       "      <td>...</td>\n",
       "      <td>0</td>\n",
       "      <td>NaN</td>\n",
       "      <td>NaN</td>\n",
       "      <td>NaN</td>\n",
       "      <td>1.0</td>\n",
       "      <td>1103</td>\n",
       "      <td>0.0</td>\n",
       "      <td>0.0</td>\n",
       "      <td>4.17</td>\n",
       "      <td>0.00</td>\n",
       "    </tr>\n",
       "    <tr>\n",
       "      <th>3</th>\n",
       "      <td>7001204172</td>\n",
       "      <td>109</td>\n",
       "      <td>0.0</td>\n",
       "      <td>0.0</td>\n",
       "      <td>0.0</td>\n",
       "      <td>6/30/2014</td>\n",
       "      <td>7/31/2014</td>\n",
       "      <td>8/31/2014</td>\n",
       "      <td>9/30/2014</td>\n",
       "      <td>221.338</td>\n",
       "      <td>...</td>\n",
       "      <td>0</td>\n",
       "      <td>NaN</td>\n",
       "      <td>NaN</td>\n",
       "      <td>NaN</td>\n",
       "      <td>NaN</td>\n",
       "      <td>2491</td>\n",
       "      <td>0.0</td>\n",
       "      <td>0.0</td>\n",
       "      <td>0.00</td>\n",
       "      <td>0.00</td>\n",
       "    </tr>\n",
       "    <tr>\n",
       "      <th>4</th>\n",
       "      <td>7000142493</td>\n",
       "      <td>109</td>\n",
       "      <td>0.0</td>\n",
       "      <td>0.0</td>\n",
       "      <td>0.0</td>\n",
       "      <td>6/30/2014</td>\n",
       "      <td>7/31/2014</td>\n",
       "      <td>8/31/2014</td>\n",
       "      <td>9/30/2014</td>\n",
       "      <td>261.636</td>\n",
       "      <td>...</td>\n",
       "      <td>0</td>\n",
       "      <td>0.0</td>\n",
       "      <td>NaN</td>\n",
       "      <td>NaN</td>\n",
       "      <td>NaN</td>\n",
       "      <td>1526</td>\n",
       "      <td>0.0</td>\n",
       "      <td>0.0</td>\n",
       "      <td>0.00</td>\n",
       "      <td>0.00</td>\n",
       "    </tr>\n",
       "  </tbody>\n",
       "</table>\n",
       "<p>5 rows × 226 columns</p>\n",
       "</div>"
      ],
      "text/plain": [
       "   mobile_number  circle_id  loc_og_t2o_mou  std_og_t2o_mou  loc_ic_t2o_mou  \\\n",
       "0     7000842753        109             0.0             0.0             0.0   \n",
       "1     7001865778        109             0.0             0.0             0.0   \n",
       "2     7001625959        109             0.0             0.0             0.0   \n",
       "3     7001204172        109             0.0             0.0             0.0   \n",
       "4     7000142493        109             0.0             0.0             0.0   \n",
       "\n",
       "  last_date_of_month_6 last_date_of_month_7 last_date_of_month_8  \\\n",
       "0            6/30/2014            7/31/2014            8/31/2014   \n",
       "1            6/30/2014            7/31/2014            8/31/2014   \n",
       "2            6/30/2014            7/31/2014            8/31/2014   \n",
       "3            6/30/2014            7/31/2014            8/31/2014   \n",
       "4            6/30/2014            7/31/2014            8/31/2014   \n",
       "\n",
       "  last_date_of_month_9   arpu_6  ...  sachet_3g_9  fb_user_6  fb_user_7  \\\n",
       "0            9/30/2014  197.385  ...            0        1.0        1.0   \n",
       "1            9/30/2014   34.047  ...            0        NaN        1.0   \n",
       "2            9/30/2014  167.690  ...            0        NaN        NaN   \n",
       "3            9/30/2014  221.338  ...            0        NaN        NaN   \n",
       "4            9/30/2014  261.636  ...            0        0.0        NaN   \n",
       "\n",
       "   fb_user_8  fb_user_9   aon  aug_vbc_3g  jul_vbc_3g  jun_vbc_3g  sep_vbc_3g  \n",
       "0        1.0        NaN   968        30.4         0.0      101.20        3.58  \n",
       "1        1.0        NaN  1006         0.0         0.0        0.00        0.00  \n",
       "2        NaN        1.0  1103         0.0         0.0        4.17        0.00  \n",
       "3        NaN        NaN  2491         0.0         0.0        0.00        0.00  \n",
       "4        NaN        NaN  1526         0.0         0.0        0.00        0.00  \n",
       "\n",
       "[5 rows x 226 columns]"
      ]
     },
     "execution_count": 220,
     "metadata": {},
     "output_type": "execute_result"
    }
   ],
   "source": [
    "#Data loading\n",
    "\n",
    "df = pd.read_csv('telecom_churn_data.csv')\n",
    "df.head()"
   ]
  },
  {
   "cell_type": "code",
   "execution_count": 221,
   "metadata": {},
   "outputs": [
    {
     "data": {
      "text/plain": [
       "(99999, 226)"
      ]
     },
     "execution_count": 221,
     "metadata": {},
     "output_type": "execute_result"
    }
   ],
   "source": [
    "df.shape"
   ]
  },
  {
   "cell_type": "code",
   "execution_count": 222,
   "metadata": {},
   "outputs": [
    {
     "data": {
      "text/plain": [
       "['mobile_number',\n",
       " 'circle_id',\n",
       " 'loc_og_t2o_mou',\n",
       " 'std_og_t2o_mou',\n",
       " 'loc_ic_t2o_mou',\n",
       " 'last_date_of_month_6',\n",
       " 'last_date_of_month_7',\n",
       " 'last_date_of_month_8',\n",
       " 'last_date_of_month_9',\n",
       " 'arpu_6',\n",
       " 'arpu_7',\n",
       " 'arpu_8',\n",
       " 'arpu_9',\n",
       " 'onnet_mou_6',\n",
       " 'onnet_mou_7',\n",
       " 'onnet_mou_8',\n",
       " 'onnet_mou_9',\n",
       " 'offnet_mou_6',\n",
       " 'offnet_mou_7',\n",
       " 'offnet_mou_8',\n",
       " 'offnet_mou_9',\n",
       " 'roam_ic_mou_6',\n",
       " 'roam_ic_mou_7',\n",
       " 'roam_ic_mou_8',\n",
       " 'roam_ic_mou_9',\n",
       " 'roam_og_mou_6',\n",
       " 'roam_og_mou_7',\n",
       " 'roam_og_mou_8',\n",
       " 'roam_og_mou_9',\n",
       " 'loc_og_t2t_mou_6',\n",
       " 'loc_og_t2t_mou_7',\n",
       " 'loc_og_t2t_mou_8',\n",
       " 'loc_og_t2t_mou_9',\n",
       " 'loc_og_t2m_mou_6',\n",
       " 'loc_og_t2m_mou_7',\n",
       " 'loc_og_t2m_mou_8',\n",
       " 'loc_og_t2m_mou_9',\n",
       " 'loc_og_t2f_mou_6',\n",
       " 'loc_og_t2f_mou_7',\n",
       " 'loc_og_t2f_mou_8',\n",
       " 'loc_og_t2f_mou_9',\n",
       " 'loc_og_t2c_mou_6',\n",
       " 'loc_og_t2c_mou_7',\n",
       " 'loc_og_t2c_mou_8',\n",
       " 'loc_og_t2c_mou_9',\n",
       " 'loc_og_mou_6',\n",
       " 'loc_og_mou_7',\n",
       " 'loc_og_mou_8',\n",
       " 'loc_og_mou_9',\n",
       " 'std_og_t2t_mou_6',\n",
       " 'std_og_t2t_mou_7',\n",
       " 'std_og_t2t_mou_8',\n",
       " 'std_og_t2t_mou_9',\n",
       " 'std_og_t2m_mou_6',\n",
       " 'std_og_t2m_mou_7',\n",
       " 'std_og_t2m_mou_8',\n",
       " 'std_og_t2m_mou_9',\n",
       " 'std_og_t2f_mou_6',\n",
       " 'std_og_t2f_mou_7',\n",
       " 'std_og_t2f_mou_8',\n",
       " 'std_og_t2f_mou_9',\n",
       " 'std_og_t2c_mou_6',\n",
       " 'std_og_t2c_mou_7',\n",
       " 'std_og_t2c_mou_8',\n",
       " 'std_og_t2c_mou_9',\n",
       " 'std_og_mou_6',\n",
       " 'std_og_mou_7',\n",
       " 'std_og_mou_8',\n",
       " 'std_og_mou_9',\n",
       " 'isd_og_mou_6',\n",
       " 'isd_og_mou_7',\n",
       " 'isd_og_mou_8',\n",
       " 'isd_og_mou_9',\n",
       " 'spl_og_mou_6',\n",
       " 'spl_og_mou_7',\n",
       " 'spl_og_mou_8',\n",
       " 'spl_og_mou_9',\n",
       " 'og_others_6',\n",
       " 'og_others_7',\n",
       " 'og_others_8',\n",
       " 'og_others_9',\n",
       " 'total_og_mou_6',\n",
       " 'total_og_mou_7',\n",
       " 'total_og_mou_8',\n",
       " 'total_og_mou_9',\n",
       " 'loc_ic_t2t_mou_6',\n",
       " 'loc_ic_t2t_mou_7',\n",
       " 'loc_ic_t2t_mou_8',\n",
       " 'loc_ic_t2t_mou_9',\n",
       " 'loc_ic_t2m_mou_6',\n",
       " 'loc_ic_t2m_mou_7',\n",
       " 'loc_ic_t2m_mou_8',\n",
       " 'loc_ic_t2m_mou_9',\n",
       " 'loc_ic_t2f_mou_6',\n",
       " 'loc_ic_t2f_mou_7',\n",
       " 'loc_ic_t2f_mou_8',\n",
       " 'loc_ic_t2f_mou_9',\n",
       " 'loc_ic_mou_6',\n",
       " 'loc_ic_mou_7',\n",
       " 'loc_ic_mou_8',\n",
       " 'loc_ic_mou_9',\n",
       " 'std_ic_t2t_mou_6',\n",
       " 'std_ic_t2t_mou_7',\n",
       " 'std_ic_t2t_mou_8',\n",
       " 'std_ic_t2t_mou_9',\n",
       " 'std_ic_t2m_mou_6',\n",
       " 'std_ic_t2m_mou_7',\n",
       " 'std_ic_t2m_mou_8',\n",
       " 'std_ic_t2m_mou_9',\n",
       " 'std_ic_t2f_mou_6',\n",
       " 'std_ic_t2f_mou_7',\n",
       " 'std_ic_t2f_mou_8',\n",
       " 'std_ic_t2f_mou_9',\n",
       " 'std_ic_t2o_mou_6',\n",
       " 'std_ic_t2o_mou_7',\n",
       " 'std_ic_t2o_mou_8',\n",
       " 'std_ic_t2o_mou_9',\n",
       " 'std_ic_mou_6',\n",
       " 'std_ic_mou_7',\n",
       " 'std_ic_mou_8',\n",
       " 'std_ic_mou_9',\n",
       " 'total_ic_mou_6',\n",
       " 'total_ic_mou_7',\n",
       " 'total_ic_mou_8',\n",
       " 'total_ic_mou_9',\n",
       " 'spl_ic_mou_6',\n",
       " 'spl_ic_mou_7',\n",
       " 'spl_ic_mou_8',\n",
       " 'spl_ic_mou_9',\n",
       " 'isd_ic_mou_6',\n",
       " 'isd_ic_mou_7',\n",
       " 'isd_ic_mou_8',\n",
       " 'isd_ic_mou_9',\n",
       " 'ic_others_6',\n",
       " 'ic_others_7',\n",
       " 'ic_others_8',\n",
       " 'ic_others_9',\n",
       " 'total_rech_num_6',\n",
       " 'total_rech_num_7',\n",
       " 'total_rech_num_8',\n",
       " 'total_rech_num_9',\n",
       " 'total_rech_amt_6',\n",
       " 'total_rech_amt_7',\n",
       " 'total_rech_amt_8',\n",
       " 'total_rech_amt_9',\n",
       " 'max_rech_amt_6',\n",
       " 'max_rech_amt_7',\n",
       " 'max_rech_amt_8',\n",
       " 'max_rech_amt_9',\n",
       " 'date_of_last_rech_6',\n",
       " 'date_of_last_rech_7',\n",
       " 'date_of_last_rech_8',\n",
       " 'date_of_last_rech_9',\n",
       " 'last_day_rch_amt_6',\n",
       " 'last_day_rch_amt_7',\n",
       " 'last_day_rch_amt_8',\n",
       " 'last_day_rch_amt_9',\n",
       " 'date_of_last_rech_data_6',\n",
       " 'date_of_last_rech_data_7',\n",
       " 'date_of_last_rech_data_8',\n",
       " 'date_of_last_rech_data_9',\n",
       " 'total_rech_data_6',\n",
       " 'total_rech_data_7',\n",
       " 'total_rech_data_8',\n",
       " 'total_rech_data_9',\n",
       " 'max_rech_data_6',\n",
       " 'max_rech_data_7',\n",
       " 'max_rech_data_8',\n",
       " 'max_rech_data_9',\n",
       " 'count_rech_2g_6',\n",
       " 'count_rech_2g_7',\n",
       " 'count_rech_2g_8',\n",
       " 'count_rech_2g_9',\n",
       " 'count_rech_3g_6',\n",
       " 'count_rech_3g_7',\n",
       " 'count_rech_3g_8',\n",
       " 'count_rech_3g_9',\n",
       " 'av_rech_amt_data_6',\n",
       " 'av_rech_amt_data_7',\n",
       " 'av_rech_amt_data_8',\n",
       " 'av_rech_amt_data_9',\n",
       " 'vol_2g_mb_6',\n",
       " 'vol_2g_mb_7',\n",
       " 'vol_2g_mb_8',\n",
       " 'vol_2g_mb_9',\n",
       " 'vol_3g_mb_6',\n",
       " 'vol_3g_mb_7',\n",
       " 'vol_3g_mb_8',\n",
       " 'vol_3g_mb_9',\n",
       " 'arpu_3g_6',\n",
       " 'arpu_3g_7',\n",
       " 'arpu_3g_8',\n",
       " 'arpu_3g_9',\n",
       " 'arpu_2g_6',\n",
       " 'arpu_2g_7',\n",
       " 'arpu_2g_8',\n",
       " 'arpu_2g_9',\n",
       " 'night_pck_user_6',\n",
       " 'night_pck_user_7',\n",
       " 'night_pck_user_8',\n",
       " 'night_pck_user_9',\n",
       " 'monthly_2g_6',\n",
       " 'monthly_2g_7',\n",
       " 'monthly_2g_8',\n",
       " 'monthly_2g_9',\n",
       " 'sachet_2g_6',\n",
       " 'sachet_2g_7',\n",
       " 'sachet_2g_8',\n",
       " 'sachet_2g_9',\n",
       " 'monthly_3g_6',\n",
       " 'monthly_3g_7',\n",
       " 'monthly_3g_8',\n",
       " 'monthly_3g_9',\n",
       " 'sachet_3g_6',\n",
       " 'sachet_3g_7',\n",
       " 'sachet_3g_8',\n",
       " 'sachet_3g_9',\n",
       " 'fb_user_6',\n",
       " 'fb_user_7',\n",
       " 'fb_user_8',\n",
       " 'fb_user_9',\n",
       " 'aon',\n",
       " 'aug_vbc_3g',\n",
       " 'jul_vbc_3g',\n",
       " 'jun_vbc_3g',\n",
       " 'sep_vbc_3g']"
      ]
     },
     "execution_count": 222,
     "metadata": {},
     "output_type": "execute_result"
    }
   ],
   "source": [
    "#Checking the columns\n",
    "\n",
    "df.columns.tolist()\n"
   ]
  },
  {
   "cell_type": "code",
   "execution_count": 223,
   "metadata": {
    "scrolled": true
   },
   "outputs": [
    {
     "data": {
      "text/html": [
       "<div>\n",
       "<style scoped>\n",
       "    .dataframe tbody tr th:only-of-type {\n",
       "        vertical-align: middle;\n",
       "    }\n",
       "\n",
       "    .dataframe tbody tr th {\n",
       "        vertical-align: top;\n",
       "    }\n",
       "\n",
       "    .dataframe thead th {\n",
       "        text-align: right;\n",
       "    }\n",
       "</style>\n",
       "<table border=\"1\" class=\"dataframe\">\n",
       "  <thead>\n",
       "    <tr style=\"text-align: right;\">\n",
       "      <th></th>\n",
       "      <th>Acronyms</th>\n",
       "      <th>Descriptions</th>\n",
       "    </tr>\n",
       "  </thead>\n",
       "  <tbody>\n",
       "    <tr>\n",
       "      <th>0</th>\n",
       "      <td>MOBILE_NUMBER</td>\n",
       "      <td>Customer phone number</td>\n",
       "    </tr>\n",
       "    <tr>\n",
       "      <th>1</th>\n",
       "      <td>CIRCLE_ID</td>\n",
       "      <td>Telecom circle area to which the customer belo...</td>\n",
       "    </tr>\n",
       "    <tr>\n",
       "      <th>2</th>\n",
       "      <td>LOC</td>\n",
       "      <td>Local calls - within same telecom circle</td>\n",
       "    </tr>\n",
       "    <tr>\n",
       "      <th>3</th>\n",
       "      <td>STD</td>\n",
       "      <td>STD calls - outside the calling circle</td>\n",
       "    </tr>\n",
       "    <tr>\n",
       "      <th>4</th>\n",
       "      <td>IC</td>\n",
       "      <td>Incoming calls</td>\n",
       "    </tr>\n",
       "    <tr>\n",
       "      <th>5</th>\n",
       "      <td>OG</td>\n",
       "      <td>Outgoing calls</td>\n",
       "    </tr>\n",
       "    <tr>\n",
       "      <th>6</th>\n",
       "      <td>T2T</td>\n",
       "      <td>Operator T to T, i.e. within same operator (mo...</td>\n",
       "    </tr>\n",
       "    <tr>\n",
       "      <th>7</th>\n",
       "      <td>T2M</td>\n",
       "      <td>Operator T to other operator mobile</td>\n",
       "    </tr>\n",
       "    <tr>\n",
       "      <th>8</th>\n",
       "      <td>T2O</td>\n",
       "      <td>Operator T to other operator fixed line</td>\n",
       "    </tr>\n",
       "    <tr>\n",
       "      <th>9</th>\n",
       "      <td>T2F</td>\n",
       "      <td>Operator T to fixed lines of T</td>\n",
       "    </tr>\n",
       "    <tr>\n",
       "      <th>10</th>\n",
       "      <td>T2C</td>\n",
       "      <td>Operator T to it’s own call center</td>\n",
       "    </tr>\n",
       "    <tr>\n",
       "      <th>11</th>\n",
       "      <td>ARPU</td>\n",
       "      <td>Average revenue per user</td>\n",
       "    </tr>\n",
       "    <tr>\n",
       "      <th>12</th>\n",
       "      <td>MOU</td>\n",
       "      <td>Minutes of usage - voice calls</td>\n",
       "    </tr>\n",
       "    <tr>\n",
       "      <th>13</th>\n",
       "      <td>AON</td>\n",
       "      <td>Age on network - number of days the customer i...</td>\n",
       "    </tr>\n",
       "    <tr>\n",
       "      <th>14</th>\n",
       "      <td>ONNET</td>\n",
       "      <td>All kind of calls within the same operator net...</td>\n",
       "    </tr>\n",
       "    <tr>\n",
       "      <th>15</th>\n",
       "      <td>OFFNET</td>\n",
       "      <td>All kind of calls outside the operator T network</td>\n",
       "    </tr>\n",
       "    <tr>\n",
       "      <th>16</th>\n",
       "      <td>ROAM</td>\n",
       "      <td>Indicates that customer is in roaming zone dur...</td>\n",
       "    </tr>\n",
       "    <tr>\n",
       "      <th>17</th>\n",
       "      <td>SPL</td>\n",
       "      <td>Special calls</td>\n",
       "    </tr>\n",
       "    <tr>\n",
       "      <th>18</th>\n",
       "      <td>ISD</td>\n",
       "      <td>ISD calls</td>\n",
       "    </tr>\n",
       "    <tr>\n",
       "      <th>19</th>\n",
       "      <td>RECH</td>\n",
       "      <td>Recharge</td>\n",
       "    </tr>\n",
       "    <tr>\n",
       "      <th>20</th>\n",
       "      <td>NUM</td>\n",
       "      <td>Number</td>\n",
       "    </tr>\n",
       "    <tr>\n",
       "      <th>21</th>\n",
       "      <td>AMT</td>\n",
       "      <td>Amount in local currency</td>\n",
       "    </tr>\n",
       "    <tr>\n",
       "      <th>22</th>\n",
       "      <td>MAX</td>\n",
       "      <td>Maximum</td>\n",
       "    </tr>\n",
       "    <tr>\n",
       "      <th>23</th>\n",
       "      <td>DATA</td>\n",
       "      <td>Mobile internet</td>\n",
       "    </tr>\n",
       "    <tr>\n",
       "      <th>24</th>\n",
       "      <td>3G</td>\n",
       "      <td>3G network</td>\n",
       "    </tr>\n",
       "    <tr>\n",
       "      <th>25</th>\n",
       "      <td>AV</td>\n",
       "      <td>Average</td>\n",
       "    </tr>\n",
       "    <tr>\n",
       "      <th>26</th>\n",
       "      <td>VOL</td>\n",
       "      <td>Mobile internet usage volume (in MB)</td>\n",
       "    </tr>\n",
       "    <tr>\n",
       "      <th>27</th>\n",
       "      <td>2G</td>\n",
       "      <td>2G network</td>\n",
       "    </tr>\n",
       "    <tr>\n",
       "      <th>28</th>\n",
       "      <td>PCK</td>\n",
       "      <td>Prepaid service schemes called - PACKS</td>\n",
       "    </tr>\n",
       "    <tr>\n",
       "      <th>29</th>\n",
       "      <td>NIGHT</td>\n",
       "      <td>Scheme to use during specific night hours only</td>\n",
       "    </tr>\n",
       "    <tr>\n",
       "      <th>30</th>\n",
       "      <td>MONTHLY</td>\n",
       "      <td>Service schemes with validity equivalent to a ...</td>\n",
       "    </tr>\n",
       "    <tr>\n",
       "      <th>31</th>\n",
       "      <td>SACHET</td>\n",
       "      <td>Service schemes with validity smaller than a m...</td>\n",
       "    </tr>\n",
       "    <tr>\n",
       "      <th>32</th>\n",
       "      <td>*.6</td>\n",
       "      <td>KPI for the month of June</td>\n",
       "    </tr>\n",
       "    <tr>\n",
       "      <th>33</th>\n",
       "      <td>*.7</td>\n",
       "      <td>KPI for the month of July</td>\n",
       "    </tr>\n",
       "    <tr>\n",
       "      <th>34</th>\n",
       "      <td>*.8</td>\n",
       "      <td>KPI for the month of August</td>\n",
       "    </tr>\n",
       "    <tr>\n",
       "      <th>35</th>\n",
       "      <td>*.9</td>\n",
       "      <td>KPI for the month of September</td>\n",
       "    </tr>\n",
       "    <tr>\n",
       "      <th>36</th>\n",
       "      <td>FB_USER</td>\n",
       "      <td>Service scheme to avail services of Facebook a...</td>\n",
       "    </tr>\n",
       "    <tr>\n",
       "      <th>37</th>\n",
       "      <td>VBC</td>\n",
       "      <td>Volume based cost - when no specific scheme is...</td>\n",
       "    </tr>\n",
       "  </tbody>\n",
       "</table>\n",
       "</div>"
      ],
      "text/plain": [
       "     Acronyms                                           Descriptions\n",
       "0   MOBILE_NUMBER                              Customer phone number\n",
       "1       CIRCLE_ID  Telecom circle area to which the customer belo...\n",
       "2             LOC           Local calls - within same telecom circle\n",
       "3             STD             STD calls - outside the calling circle\n",
       "4              IC                                     Incoming calls\n",
       "5              OG                                     Outgoing calls\n",
       "6             T2T  Operator T to T, i.e. within same operator (mo...\n",
       "7         T2M                    Operator T to other operator mobile\n",
       "8         T2O                Operator T to other operator fixed line\n",
       "9         T2F                         Operator T to fixed lines of T\n",
       "10        T2C                     Operator T to it’s own call center\n",
       "11       ARPU                               Average revenue per user\n",
       "12        MOU                         Minutes of usage - voice calls\n",
       "13        AON      Age on network - number of days the customer i...\n",
       "14       ONNET     All kind of calls within the same operator net...\n",
       "15     OFFNET       All kind of calls outside the operator T network\n",
       "16           ROAM  Indicates that customer is in roaming zone dur...\n",
       "17         SPL                                         Special calls\n",
       "18        ISD                                              ISD calls\n",
       "19       RECH                                               Recharge\n",
       "20        NUM                                                 Number\n",
       "21        AMT                               Amount in local currency\n",
       "22        MAX                                                Maximum\n",
       "23       DATA                                        Mobile internet\n",
       "24         3G                                             3G network\n",
       "25         AV                                                Average\n",
       "26        VOL                   Mobile internet usage volume (in MB)\n",
       "27         2G                                             2G network\n",
       "28        PCK                 Prepaid service schemes called - PACKS\n",
       "29      NIGHT         Scheme to use during specific night hours only\n",
       "30    MONTHLY      Service schemes with validity equivalent to a ...\n",
       "31      SACHET     Service schemes with validity smaller than a m...\n",
       "32        *.6                              KPI for the month of June\n",
       "33        *.7                              KPI for the month of July\n",
       "34        *.8                            KPI for the month of August\n",
       "35        *.9                         KPI for the month of September\n",
       "36        FB_USER  Service scheme to avail services of Facebook a...\n",
       "37        VBC      Volume based cost - when no specific scheme is..."
      ]
     },
     "execution_count": 223,
     "metadata": {},
     "output_type": "execute_result"
    }
   ],
   "source": [
    "#Checking the data dictionary to understand the data\n",
    "data_dict = pd.read_excel('Data+Dictionary-+Telecom+Churn+Case+Study.xlsx')\n",
    "data_dict"
   ]
  },
  {
   "cell_type": "markdown",
   "metadata": {},
   "source": [
    "We need to target the columns having recharge amount or recharge data to find out the potential customers who could churn. Lets check the missing values on those columns having the keyword recharge. "
   ]
  },
  {
   "cell_type": "markdown",
   "metadata": {},
   "source": [
    "### EDA, Data Cleaning and Preparation"
   ]
  },
  {
   "cell_type": "code",
   "execution_count": 224,
   "metadata": {},
   "outputs": [],
   "source": [
    "#Putting the recharge columns together\n",
    "rech_cols =  df.columns[df.columns.str.contains('rech_amt|rech_data')]"
   ]
  },
  {
   "cell_type": "code",
   "execution_count": 225,
   "metadata": {},
   "outputs": [
    {
     "data": {
      "text/plain": [
       "Index(['total_rech_amt_6', 'total_rech_amt_7', 'total_rech_amt_8',\n",
       "       'total_rech_amt_9', 'max_rech_amt_6', 'max_rech_amt_7',\n",
       "       'max_rech_amt_8', 'max_rech_amt_9', 'date_of_last_rech_data_6',\n",
       "       'date_of_last_rech_data_7', 'date_of_last_rech_data_8',\n",
       "       'date_of_last_rech_data_9', 'total_rech_data_6', 'total_rech_data_7',\n",
       "       'total_rech_data_8', 'total_rech_data_9', 'max_rech_data_6',\n",
       "       'max_rech_data_7', 'max_rech_data_8', 'max_rech_data_9',\n",
       "       'av_rech_amt_data_6', 'av_rech_amt_data_7', 'av_rech_amt_data_8',\n",
       "       'av_rech_amt_data_9'],\n",
       "      dtype='object')"
      ]
     },
     "execution_count": 225,
     "metadata": {},
     "output_type": "execute_result"
    }
   ],
   "source": [
    "rech_cols"
   ]
  },
  {
   "cell_type": "code",
   "execution_count": 226,
   "metadata": {},
   "outputs": [
    {
     "data": {
      "text/plain": [
       "total_rech_amt_6             0.000000\n",
       "total_rech_amt_7             0.000000\n",
       "total_rech_amt_8             0.000000\n",
       "total_rech_amt_9             0.000000\n",
       "max_rech_amt_6               0.000000\n",
       "max_rech_amt_7               0.000000\n",
       "max_rech_amt_8               0.000000\n",
       "max_rech_amt_9               0.000000\n",
       "date_of_last_rech_data_6    74.846748\n",
       "date_of_last_rech_data_7    74.428744\n",
       "date_of_last_rech_data_8    73.660737\n",
       "date_of_last_rech_data_9    74.077741\n",
       "total_rech_data_6           74.846748\n",
       "total_rech_data_7           74.428744\n",
       "total_rech_data_8           73.660737\n",
       "total_rech_data_9           74.077741\n",
       "max_rech_data_6             74.846748\n",
       "max_rech_data_7             74.428744\n",
       "max_rech_data_8             73.660737\n",
       "max_rech_data_9             74.077741\n",
       "av_rech_amt_data_6          74.846748\n",
       "av_rech_amt_data_7          74.428744\n",
       "av_rech_amt_data_8          73.660737\n",
       "av_rech_amt_data_9          74.077741\n",
       "dtype: float64"
      ]
     },
     "execution_count": 226,
     "metadata": {},
     "output_type": "execute_result"
    }
   ],
   "source": [
    "#Checking missing values in the rech_cols\n",
    "\n",
    "# missing values check for recharge amount\n",
    "100*df.loc[:,rech_cols].isnull().sum()/len(df)"
   ]
  },
  {
   "cell_type": "markdown",
   "metadata": {},
   "source": [
    "As we can see 75% values for max recharge data, average recharge amount & total recharge date & date of data recharge are having null values. Lets look how we can impute the values."
   ]
  },
  {
   "cell_type": "markdown",
   "metadata": {},
   "source": [
    "First lets check the distribution of the recharge columns. Then we can check the options of imputing."
   ]
  },
  {
   "cell_type": "code",
   "execution_count": 227,
   "metadata": {},
   "outputs": [
    {
     "data": {
      "text/html": [
       "<div>\n",
       "<style scoped>\n",
       "    .dataframe tbody tr th:only-of-type {\n",
       "        vertical-align: middle;\n",
       "    }\n",
       "\n",
       "    .dataframe tbody tr th {\n",
       "        vertical-align: top;\n",
       "    }\n",
       "\n",
       "    .dataframe thead th {\n",
       "        text-align: right;\n",
       "    }\n",
       "</style>\n",
       "<table border=\"1\" class=\"dataframe\">\n",
       "  <thead>\n",
       "    <tr style=\"text-align: right;\">\n",
       "      <th></th>\n",
       "      <th>total_rech_amt_6</th>\n",
       "      <th>max_rech_amt_6</th>\n",
       "      <th>total_rech_data_6</th>\n",
       "      <th>max_rech_data_6</th>\n",
       "      <th>av_rech_amt_data_6</th>\n",
       "    </tr>\n",
       "  </thead>\n",
       "  <tbody>\n",
       "    <tr>\n",
       "      <th>count</th>\n",
       "      <td>99999.000000</td>\n",
       "      <td>99999.000000</td>\n",
       "      <td>25153.000000</td>\n",
       "      <td>25153.000000</td>\n",
       "      <td>25153.000000</td>\n",
       "    </tr>\n",
       "    <tr>\n",
       "      <th>mean</th>\n",
       "      <td>327.514615</td>\n",
       "      <td>104.637486</td>\n",
       "      <td>2.463802</td>\n",
       "      <td>126.393392</td>\n",
       "      <td>192.600982</td>\n",
       "    </tr>\n",
       "    <tr>\n",
       "      <th>std</th>\n",
       "      <td>398.019701</td>\n",
       "      <td>120.614894</td>\n",
       "      <td>2.789128</td>\n",
       "      <td>108.477235</td>\n",
       "      <td>192.646318</td>\n",
       "    </tr>\n",
       "    <tr>\n",
       "      <th>min</th>\n",
       "      <td>0.000000</td>\n",
       "      <td>0.000000</td>\n",
       "      <td>1.000000</td>\n",
       "      <td>1.000000</td>\n",
       "      <td>1.000000</td>\n",
       "    </tr>\n",
       "    <tr>\n",
       "      <th>25%</th>\n",
       "      <td>109.000000</td>\n",
       "      <td>30.000000</td>\n",
       "      <td>1.000000</td>\n",
       "      <td>25.000000</td>\n",
       "      <td>82.000000</td>\n",
       "    </tr>\n",
       "    <tr>\n",
       "      <th>50%</th>\n",
       "      <td>230.000000</td>\n",
       "      <td>110.000000</td>\n",
       "      <td>1.000000</td>\n",
       "      <td>145.000000</td>\n",
       "      <td>154.000000</td>\n",
       "    </tr>\n",
       "    <tr>\n",
       "      <th>75%</th>\n",
       "      <td>437.500000</td>\n",
       "      <td>120.000000</td>\n",
       "      <td>3.000000</td>\n",
       "      <td>177.000000</td>\n",
       "      <td>252.000000</td>\n",
       "    </tr>\n",
       "    <tr>\n",
       "      <th>max</th>\n",
       "      <td>35190.000000</td>\n",
       "      <td>4010.000000</td>\n",
       "      <td>61.000000</td>\n",
       "      <td>1555.000000</td>\n",
       "      <td>7546.000000</td>\n",
       "    </tr>\n",
       "  </tbody>\n",
       "</table>\n",
       "</div>"
      ],
      "text/plain": [
       "       total_rech_amt_6  max_rech_amt_6  total_rech_data_6  max_rech_data_6  \\\n",
       "count      99999.000000    99999.000000       25153.000000     25153.000000   \n",
       "mean         327.514615      104.637486           2.463802       126.393392   \n",
       "std          398.019701      120.614894           2.789128       108.477235   \n",
       "min            0.000000        0.000000           1.000000         1.000000   \n",
       "25%          109.000000       30.000000           1.000000        25.000000   \n",
       "50%          230.000000      110.000000           1.000000       145.000000   \n",
       "75%          437.500000      120.000000           3.000000       177.000000   \n",
       "max        35190.000000     4010.000000          61.000000      1555.000000   \n",
       "\n",
       "       av_rech_amt_data_6  \n",
       "count        25153.000000  \n",
       "mean           192.600982  \n",
       "std            192.646318  \n",
       "min              1.000000  \n",
       "25%             82.000000  \n",
       "50%            154.000000  \n",
       "75%            252.000000  \n",
       "max           7546.000000  "
      ]
     },
     "execution_count": 227,
     "metadata": {},
     "output_type": "execute_result"
    }
   ],
   "source": [
    "#CHecking distribution of column 6\n",
    "\n",
    "rech_amt_col_6 = df.columns[df.columns.str.contains('rech_amt_6|rech_data_6|rech_amt_data_6')]\n",
    "\n",
    "df.loc[:,rech_amt_col_6].describe()"
   ]
  },
  {
   "cell_type": "code",
   "execution_count": 228,
   "metadata": {},
   "outputs": [
    {
     "name": "stdout",
     "output_type": "stream",
     "text": [
      "0.0\n",
      "0.0\n",
      "0.0\n",
      "0.0\n",
      "0.0\n",
      "0.0\n"
     ]
    }
   ],
   "source": [
    "#check if any values where total_rech_data is NA and value is present for av_rech_amt_data & vice versa\n",
    "#Also check how many av_rech_amt_data_6 is NA\n",
    "invlid_data_6 = df['av_rech_amt_data_6'] == np.nan\n",
    "invlid_data_7 = df['av_rech_amt_data_7'] == np.nan\n",
    "invlid_data_8 = df['av_rech_amt_data_8'] == np.nan\n",
    "\n",
    "# check if any value is present for these rows for total_rech_data\n",
    "print(df.loc[invlid_data_6,'total_rech_data_6'].sum())\n",
    "print(df.loc[invlid_data_7,'total_rech_data_7'].sum())\n",
    "print(df.loc[invlid_data_8,'total_rech_data_8'].sum())\n",
    "\n",
    "# check how many total_rech_data_6 is NA\n",
    "is_invlid_data_6 = df['total_rech_data_6'] == np.nan \n",
    "is_invlid_data_7 = df['total_rech_data_7'] == np.nan \n",
    "is_invlid_data_8 = df['total_rech_data_8'] == np.nan \n",
    "\n",
    "# check if any value is present for these rows for av_rech_amt_data_6\n",
    "print(df.loc[is_invlid_data_6,'av_rech_amt_data_6'].sum())\n",
    "print(df.loc[is_invlid_data_7,'av_rech_amt_data_7'].sum())\n",
    "print(df.loc[is_invlid_data_8,'av_rech_amt_data_8'].sum())"
   ]
  },
  {
   "cell_type": "code",
   "execution_count": 229,
   "metadata": {},
   "outputs": [],
   "source": [
    "#We could see in previous step values are consistent with each other, also as minimum value is 1 we can impute the NA values by 0 meaning \n",
    "#there was no recharge done by the customer.\n",
    "df.loc[:,['total_rech_data_6','total_rech_data_7','total_rech_data_8']]= \\\n",
    "df.loc[:,['total_rech_data_6','total_rech_data_7','total_rech_data_8']].replace(np.NaN,0)\n",
    "df.loc[:,['av_rech_amt_data_6','av_rech_amt_data_7','av_rech_amt_data_8']]= \\\n",
    "df.loc[:,['av_rech_amt_data_6','av_rech_amt_data_7','av_rech_amt_data_8']].replace(np.NaN,0)"
   ]
  },
  {
   "cell_type": "code",
   "execution_count": 230,
   "metadata": {},
   "outputs": [],
   "source": [
    "#Add a new derived variable total recharge amount for data: total_rech_amt_data\n",
    "df['total_rech_amt_data_6'] = df.av_rech_amt_data_6*df.total_rech_data_6\n",
    "df['total_rech_amt_data_7'] = df.av_rech_amt_data_7*df.total_rech_data_7\n",
    "df['total_rech_amt_data_8'] = df.av_rech_amt_data_8*df.total_rech_data_8"
   ]
  },
  {
   "cell_type": "markdown",
   "metadata": {},
   "source": [
    "Lets define total average recharge amount for good phase since average of total recharge amount & total recharge amount for data for months 6 and 7 (good phase months)."
   ]
  },
  {
   "cell_type": "code",
   "execution_count": 231,
   "metadata": {},
   "outputs": [],
   "source": [
    "df['total_avg_rech_amnt_good_ph'] = (df.total_rech_amt_6 +df.total_rech_amt_data_6 \\\n",
    "                                               + df.total_rech_amt_7+df.total_rech_amt_data_7)/4"
   ]
  },
  {
   "cell_type": "markdown",
   "metadata": {},
   "source": [
    "We are defining High Value Customer who have total average recharge amount for good phase greater than 70th percentile value here."
   ]
  },
  {
   "cell_type": "code",
   "execution_count": 232,
   "metadata": {},
   "outputs": [],
   "source": [
    "#Lets create a filter for values greater than 70th percentile of total average recharge amount for good phase \n",
    "high_value = df.total_avg_rech_amnt_good_ph >= df.total_avg_rech_amnt_good_ph.quantile(0.7)"
   ]
  },
  {
   "cell_type": "code",
   "execution_count": 233,
   "metadata": {},
   "outputs": [
    {
     "data": {
      "text/plain": [
       "30001"
      ]
     },
     "execution_count": 233,
     "metadata": {},
     "output_type": "execute_result"
    }
   ],
   "source": [
    "#subset out the High Value customers\n",
    "df = df.loc[high_value,:]\n",
    "\n",
    "#check count of remain records\n",
    "len(df.loc[high_value,:])"
   ]
  },
  {
   "cell_type": "markdown",
   "metadata": {},
   "source": [
    "As we can see above we are left with 30001 rows. We will consider these rows for further analysis."
   ]
  },
  {
   "cell_type": "markdown",
   "metadata": {},
   "source": [
    "#### Labeling churned customers"
   ]
  },
  {
   "cell_type": "code",
   "execution_count": 234,
   "metadata": {},
   "outputs": [],
   "source": [
    "#label the churned customers\n",
    "#defining new column as \"churn\" with value as '1' if the customer has churned else '0'.\n",
    "#Initially set all the values as 0\n",
    "df['churn']= 0"
   ]
  },
  {
   "cell_type": "code",
   "execution_count": 235,
   "metadata": {},
   "outputs": [
    {
     "data": {
      "text/plain": [
       "total_ic_mou_9    0.0\n",
       "total_og_mou_9    0.0\n",
       "vol_2g_mb_9       0.0\n",
       "vol_3g_mb_9       0.0\n",
       "dtype: float64"
      ]
     },
     "execution_count": 235,
     "metadata": {},
     "output_type": "execute_result"
    }
   ],
   "source": [
    "#total_ic_mou_9, total_ic_mou_9, vol_2g_mb_9 and vol_3g_mb_9 columns will be used to find the churned customers in the 9th month \n",
    "#Check if any NA/Null values are present\n",
    "month_9 = ['total_ic_mou_9', 'total_og_mou_9', 'vol_2g_mb_9','vol_3g_mb_9']\n",
    "100*df.loc[:,month_9].isnull().sum()/len(df)"
   ]
  },
  {
   "cell_type": "code",
   "execution_count": 236,
   "metadata": {},
   "outputs": [
    {
     "name": "stdout",
     "output_type": "stream",
     "text": [
      "0      True\n",
      "7      True\n",
      "8     False\n",
      "21    False\n",
      "23    False\n",
      "dtype: bool\n"
     ]
    }
   ],
   "source": [
    "#define churned_cust boolean flag for customers where above values are zero\n",
    "churned_cust = (df.total_ic_mou_9 == 0) & (df.total_og_mou_9 == 0) & (df.vol_2g_mb_9 ==0)& \\\n",
    "(df.vol_3g_mb_9 ==0)\n",
    "\n",
    "print(churned_cust.head())"
   ]
  },
  {
   "cell_type": "code",
   "execution_count": 237,
   "metadata": {},
   "outputs": [
    {
     "data": {
      "text/plain": [
       "8.136395453484884"
      ]
     },
     "execution_count": 237,
     "metadata": {},
     "output_type": "execute_result"
    }
   ],
   "source": [
    "#let's set all such rows fulfilling churned_cust condition as 1\n",
    "df.loc[churned_cust,'churn']=1\n",
    "\n",
    "#Now check what's the % of churned customers\n",
    "100*df.churn.sum()/len(churned_cust)"
   ]
  },
  {
   "cell_type": "markdown",
   "metadata": {},
   "source": [
    "We can see that approximately 8% customers have churned."
   ]
  },
  {
   "cell_type": "code",
   "execution_count": 238,
   "metadata": {},
   "outputs": [],
   "source": [
    "#Lets put all 9th month columns in one variable and then drop them from df\n",
    "month9_cols =  df.columns[df.columns.str.contains('_9')]\n"
   ]
  },
  {
   "cell_type": "code",
   "execution_count": 239,
   "metadata": {},
   "outputs": [],
   "source": [
    "df.drop(month9_cols,axis=1,inplace=True)"
   ]
  },
  {
   "cell_type": "code",
   "execution_count": 240,
   "metadata": {
    "scrolled": true
   },
   "outputs": [
    {
     "data": {
      "text/plain": [
       "mobile_number                   0.000000\n",
       "circle_id                       0.000000\n",
       "loc_og_t2o_mou                  0.746642\n",
       "std_og_t2o_mou                  0.746642\n",
       "loc_ic_t2o_mou                  0.746642\n",
       "last_date_of_month_6            0.000000\n",
       "last_date_of_month_7            0.089997\n",
       "last_date_of_month_8            0.549982\n",
       "arpu_6                          0.000000\n",
       "arpu_7                          0.000000\n",
       "arpu_8                          0.000000\n",
       "onnet_mou_6                     1.816606\n",
       "onnet_mou_7                     1.789940\n",
       "onnet_mou_8                     3.913203\n",
       "offnet_mou_6                    1.816606\n",
       "offnet_mou_7                    1.789940\n",
       "offnet_mou_8                    3.913203\n",
       "roam_ic_mou_6                   1.816606\n",
       "roam_ic_mou_7                   1.789940\n",
       "roam_ic_mou_8                   3.913203\n",
       "roam_og_mou_6                   1.816606\n",
       "roam_og_mou_7                   1.789940\n",
       "roam_og_mou_8                   3.913203\n",
       "loc_og_t2t_mou_6                1.816606\n",
       "loc_og_t2t_mou_7                1.789940\n",
       "loc_og_t2t_mou_8                3.913203\n",
       "loc_og_t2m_mou_6                1.816606\n",
       "loc_og_t2m_mou_7                1.789940\n",
       "loc_og_t2m_mou_8                3.913203\n",
       "loc_og_t2f_mou_6                1.816606\n",
       "                                 ...    \n",
       "arpu_2g_7                      43.145228\n",
       "arpu_2g_8                      46.825106\n",
       "night_pck_user_6               44.148528\n",
       "night_pck_user_7               43.145228\n",
       "night_pck_user_8               46.825106\n",
       "monthly_2g_6                    0.000000\n",
       "monthly_2g_7                    0.000000\n",
       "monthly_2g_8                    0.000000\n",
       "sachet_2g_6                     0.000000\n",
       "sachet_2g_7                     0.000000\n",
       "sachet_2g_8                     0.000000\n",
       "monthly_3g_6                    0.000000\n",
       "monthly_3g_7                    0.000000\n",
       "monthly_3g_8                    0.000000\n",
       "sachet_3g_6                     0.000000\n",
       "sachet_3g_7                     0.000000\n",
       "sachet_3g_8                     0.000000\n",
       "fb_user_6                      44.148528\n",
       "fb_user_7                      43.145228\n",
       "fb_user_8                      46.825106\n",
       "aon                             0.000000\n",
       "aug_vbc_3g                      0.000000\n",
       "jul_vbc_3g                      0.000000\n",
       "jun_vbc_3g                      0.000000\n",
       "sep_vbc_3g                      0.000000\n",
       "total_rech_amt_data_6           0.000000\n",
       "total_rech_amt_data_7           0.000000\n",
       "total_rech_amt_data_8           0.000000\n",
       "total_avg_rech_amnt_good_ph     0.000000\n",
       "churn                           0.000000\n",
       "Length: 177, dtype: float64"
      ]
     },
     "execution_count": 240,
     "metadata": {},
     "output_type": "execute_result"
    }
   ],
   "source": [
    "#Checking the null values in df after dropping 9th month columns\n",
    "\n",
    "100*df.isnull().sum()/len(df.index)"
   ]
  },
  {
   "cell_type": "markdown",
   "metadata": {},
   "source": [
    "Lets create a function to analyze the features across June,July and August"
   ]
  },
  {
   "cell_type": "code",
   "execution_count": 241,
   "metadata": {},
   "outputs": [],
   "source": [
    "#Function to create a table to analyze mean and std deviation of a feature\n",
    "def analyze_col(start_string):\n",
    "    plt.rcParams[\"figure.figsize\"] = [20, 10]\n",
    "    fig = plt.figure()\n",
    "    print(\"Churn Statistics (mean and standard deviation):\")\n",
    "    cols = {c: start_string + \"_\" + str(c) for c in [6,7,8]}\n",
    "    print(cols)\n",
    "    data_tab = []\n",
    "    [data_tab.append({\n",
    "        \"mean_6\": df[df[\"churn\"] == churn][cols[6]].mean(),\n",
    "        \"mean_7\": df[df[\"churn\"] == churn][cols[7]].mean(),\n",
    "        \"mean_8\": df[df[\"churn\"] == churn][cols[8]].mean(),\n",
    "        \"std_6\": df[df[\"churn\"] == churn][cols[6]].std(),\n",
    "        \"std_7\": df[df[\"churn\"] == churn][cols[7]].std(),\n",
    "        \"std_8\": df[df[\"churn\"] == churn][cols[8]].std()\n",
    "    }) for churn in [0,1]]\n",
    "    \n",
    "    #Plotting box plot to analyze the distribution of features across three months\n",
    "    \n",
    "    f,axes = plt.subplots(nrows=1, ncols=3)\n",
    "    sns.boxplot(data=df, y=start_string + \"_6\", x=\"churn\",\n",
    "                hue=\"churn\", linewidth=2.5, showfliers=False, ax=axes[0],color=\"skyblue\")\n",
    "    sns.boxplot(data=df, y=start_string + \"_7\",  x=\"churn\",\n",
    "                hue=\"churn\", linewidth=2.5, showfliers=False, ax=axes[1],color=\"skyblue\")\n",
    "    sns.boxplot(data=df, y=start_string + \"_8\",  x=\"churn\",\n",
    "                hue=\"churn\", linewidth=2.5, showfliers=False, ax=axes[2],color=\"skyblue\")\n",
    "    plt.show()\n",
    "    return pd.DataFrame(data_tab,index={\"Non Churned\",\"Churned\"}).round(3)"
   ]
  },
  {
   "cell_type": "markdown",
   "metadata": {},
   "source": [
    "### Analyzing Recharge features "
   ]
  },
  {
   "cell_type": "code",
   "execution_count": 242,
   "metadata": {},
   "outputs": [
    {
     "name": "stdout",
     "output_type": "stream",
     "text": [
      "Index(['total_rech_amt_6', 'total_rech_amt_7', 'total_rech_amt_8',\n",
      "       'max_rech_amt_6', 'max_rech_amt_7', 'max_rech_amt_8',\n",
      "       'av_rech_amt_data_6', 'av_rech_amt_data_7', 'av_rech_amt_data_8',\n",
      "       'total_rech_amt_data_6', 'total_rech_amt_data_7',\n",
      "       'total_rech_amt_data_8'],\n",
      "      dtype='object')\n"
     ]
    }
   ],
   "source": [
    "#Lets pur recharge columns in one variable and then analyze them one by one.\n",
    "\n",
    "recharge_cols =  df.columns[df.columns.str.contains('rech_amt')]\n",
    "\n",
    "print(recharge_cols)"
   ]
  },
  {
   "cell_type": "code",
   "execution_count": 243,
   "metadata": {},
   "outputs": [
    {
     "name": "stdout",
     "output_type": "stream",
     "text": [
      "Churn Statistics (mean and standard deviation):\n",
      "{6: 'total_rech_amt_6', 7: 'total_rech_amt_7', 8: 'total_rech_amt_8'}\n"
     ]
    },
    {
     "data": {
      "text/plain": [
       "<Figure size 1440x720 with 0 Axes>"
      ]
     },
     "metadata": {},
     "output_type": "display_data"
    },
    {
     "data": {
      "image/png": "[encoded data removed]",
      "text/plain": [
       "<Figure size 1440x720 with 3 Axes>"
      ]
     },
     "metadata": {
      "needs_background": "light"
     },
     "output_type": "display_data"
    },
    {
     "data": {
      "text/html": [
       "<div>\n",
       "<style scoped>\n",
       "    .dataframe tbody tr th:only-of-type {\n",
       "        vertical-align: middle;\n",
       "    }\n",
       "\n",
       "    .dataframe tbody tr th {\n",
       "        vertical-align: top;\n",
       "    }\n",
       "\n",
       "    .dataframe thead th {\n",
       "        text-align: right;\n",
       "    }\n",
       "</style>\n",
       "<table border=\"1\" class=\"dataframe\">\n",
       "  <thead>\n",
       "    <tr style=\"text-align: right;\">\n",
       "      <th></th>\n",
       "      <th>mean_6</th>\n",
       "      <th>mean_7</th>\n",
       "      <th>mean_8</th>\n",
       "      <th>std_6</th>\n",
       "      <th>std_7</th>\n",
       "      <th>std_8</th>\n",
       "    </tr>\n",
       "  </thead>\n",
       "  <tbody>\n",
       "    <tr>\n",
       "      <th>Churned</th>\n",
       "      <td>649.575</td>\n",
       "      <td>663.528</td>\n",
       "      <td>613.701</td>\n",
       "      <td>547.703</td>\n",
       "      <td>574.160</td>\n",
       "      <td>614.833</td>\n",
       "    </tr>\n",
       "    <tr>\n",
       "      <th>Non Churned</th>\n",
       "      <td>786.707</td>\n",
       "      <td>626.290</td>\n",
       "      <td>253.153</td>\n",
       "      <td>681.562</td>\n",
       "      <td>667.938</td>\n",
       "      <td>452.360</td>\n",
       "    </tr>\n",
       "  </tbody>\n",
       "</table>\n",
       "</div>"
      ],
      "text/plain": [
       "              mean_6   mean_7   mean_8    std_6    std_7    std_8\n",
       "Churned      649.575  663.528  613.701  547.703  574.160  614.833\n",
       "Non Churned  786.707  626.290  253.153  681.562  667.938  452.360"
      ]
     },
     "execution_count": 243,
     "metadata": {},
     "output_type": "execute_result"
    }
   ],
   "source": [
    "#analyzing total recharge amount:\n",
    "analyze_col('total_rech_amt')"
   ]
  },
  {
   "cell_type": "markdown",
   "metadata": {},
   "source": [
    "#### Insight:\n",
    "- As we can see above the standard deviation is significantly less for the churned customers than the non churned customers.\n",
    "- For the churned customers the total recharge amount decreases in the 8th month i.e the action phase.  "
   ]
  },
  {
   "cell_type": "code",
   "execution_count": 244,
   "metadata": {},
   "outputs": [
    {
     "name": "stdout",
     "output_type": "stream",
     "text": [
      "Churn Statistics (mean and standard deviation):\n",
      "{6: 'total_rech_amt_data_6', 7: 'total_rech_amt_data_7', 8: 'total_rech_amt_data_8'}\n"
     ]
    },
    {
     "data": {
      "text/plain": [
       "<Figure size 1440x720 with 0 Axes>"
      ]
     },
     "metadata": {},
     "output_type": "display_data"
    },
    {
     "data": {
      "image/png": "[encoded data removed]",
      "text/plain": [
       "<Figure size 1440x720 with 3 Axes>"
      ]
     },
     "metadata": {
      "needs_background": "light"
     },
     "output_type": "display_data"
    },
    {
     "data": {
      "text/html": [
       "<div>\n",
       "<style scoped>\n",
       "    .dataframe tbody tr th:only-of-type {\n",
       "        vertical-align: middle;\n",
       "    }\n",
       "\n",
       "    .dataframe tbody tr th {\n",
       "        vertical-align: top;\n",
       "    }\n",
       "\n",
       "    .dataframe thead th {\n",
       "        text-align: right;\n",
       "    }\n",
       "</style>\n",
       "<table border=\"1\" class=\"dataframe\">\n",
       "  <thead>\n",
       "    <tr style=\"text-align: right;\">\n",
       "      <th></th>\n",
       "      <th>mean_6</th>\n",
       "      <th>mean_7</th>\n",
       "      <th>mean_8</th>\n",
       "      <th>std_6</th>\n",
       "      <th>std_7</th>\n",
       "      <th>std_8</th>\n",
       "    </tr>\n",
       "  </thead>\n",
       "  <tbody>\n",
       "    <tr>\n",
       "      <th>Churned</th>\n",
       "      <td>460.077</td>\n",
       "      <td>545.057</td>\n",
       "      <td>496.886</td>\n",
       "      <td>1446.356</td>\n",
       "      <td>1498.871</td>\n",
       "      <td>1683.029</td>\n",
       "    </tr>\n",
       "    <tr>\n",
       "      <th>Non Churned</th>\n",
       "      <td>407.229</td>\n",
       "      <td>338.294</td>\n",
       "      <td>83.523</td>\n",
       "      <td>1055.937</td>\n",
       "      <td>1171.760</td>\n",
       "      <td>476.784</td>\n",
       "    </tr>\n",
       "  </tbody>\n",
       "</table>\n",
       "</div>"
      ],
      "text/plain": [
       "              mean_6   mean_7   mean_8     std_6     std_7     std_8\n",
       "Churned      460.077  545.057  496.886  1446.356  1498.871  1683.029\n",
       "Non Churned  407.229  338.294   83.523  1055.937  1171.760   476.784"
      ]
     },
     "execution_count": 244,
     "metadata": {},
     "output_type": "execute_result"
    }
   ],
   "source": [
    "#analyzing total data recharge amount:\n",
    "analyze_col('total_rech_amt_data')"
   ]
  },
  {
   "cell_type": "markdown",
   "metadata": {},
   "source": [
    "#### Insight:\n",
    "- As we can see above the standard deviation and mean are significantly less for the churned customers than the non churned customers in the action phase i.e. the 8th month.\n",
    "- For the churned customers the total recharge amount for data decreases and is almost zero in the 8th month i.e the action phase.  "
   ]
  },
  {
   "cell_type": "code",
   "execution_count": 245,
   "metadata": {},
   "outputs": [
    {
     "name": "stdout",
     "output_type": "stream",
     "text": [
      "Churn Statistics (mean and standard deviation):\n",
      "{6: 'max_rech_amt_6', 7: 'max_rech_amt_7', 8: 'max_rech_amt_8'}\n"
     ]
    },
    {
     "data": {
      "text/plain": [
       "<Figure size 1440x720 with 0 Axes>"
      ]
     },
     "metadata": {},
     "output_type": "display_data"
    },
    {
     "data": {
      "image/png": "[encoded data removed]",
      "text/plain": [
       "<Figure size 1440x720 with 3 Axes>"
      ]
     },
     "metadata": {
      "needs_background": "light"
     },
     "output_type": "display_data"
    },
    {
     "data": {
      "text/html": [
       "<div>\n",
       "<style scoped>\n",
       "    .dataframe tbody tr th:only-of-type {\n",
       "        vertical-align: middle;\n",
       "    }\n",
       "\n",
       "    .dataframe tbody tr th {\n",
       "        vertical-align: top;\n",
       "    }\n",
       "\n",
       "    .dataframe thead th {\n",
       "        text-align: right;\n",
       "    }\n",
       "</style>\n",
       "<table border=\"1\" class=\"dataframe\">\n",
       "  <thead>\n",
       "    <tr style=\"text-align: right;\">\n",
       "      <th></th>\n",
       "      <th>mean_6</th>\n",
       "      <th>mean_7</th>\n",
       "      <th>mean_8</th>\n",
       "      <th>std_6</th>\n",
       "      <th>std_7</th>\n",
       "      <th>std_8</th>\n",
       "    </tr>\n",
       "  </thead>\n",
       "  <tbody>\n",
       "    <tr>\n",
       "      <th>Churned</th>\n",
       "      <td>169.049</td>\n",
       "      <td>173.337</td>\n",
       "      <td>166.767</td>\n",
       "      <td>172.005</td>\n",
       "      <td>176.749</td>\n",
       "      <td>171.337</td>\n",
       "    </tr>\n",
       "    <tr>\n",
       "      <th>Non Churned</th>\n",
       "      <td>171.942</td>\n",
       "      <td>159.389</td>\n",
       "      <td>85.371</td>\n",
       "      <td>209.116</td>\n",
       "      <td>226.966</td>\n",
       "      <td>176.648</td>\n",
       "    </tr>\n",
       "  </tbody>\n",
       "</table>\n",
       "</div>"
      ],
      "text/plain": [
       "              mean_6   mean_7   mean_8    std_6    std_7    std_8\n",
       "Churned      169.049  173.337  166.767  172.005  176.749  171.337\n",
       "Non Churned  171.942  159.389   85.371  209.116  226.966  176.648"
      ]
     },
     "execution_count": 245,
     "metadata": {},
     "output_type": "execute_result"
    }
   ],
   "source": [
    "#analyzing maximum recharge amount for data:\n",
    "analyze_col('max_rech_amt')"
   ]
  },
  {
   "cell_type": "markdown",
   "metadata": {},
   "source": [
    "#### Insight:\n",
    "- It is ovious that the maximum recharge amount is also decreasing as the total recharge amount is decreasing.\n",
    "- As we have already dericed the total recharge amount using average and total recharge data, lets drop those columns."
   ]
  },
  {
   "cell_type": "code",
   "execution_count": 246,
   "metadata": {},
   "outputs": [],
   "source": [
    "# dropping av_rech_amt_data and total_rech_data columns\n",
    "df.drop(['av_rech_amt_data_6','av_rech_amt_data_7'\n",
    "                   ,'av_rech_amt_data_8','total_rech_data_6','total_rech_data_7','total_rech_data_8'],axis=1,inplace=True)"
   ]
  },
  {
   "cell_type": "code",
   "execution_count": 247,
   "metadata": {},
   "outputs": [],
   "source": [
    "# Deriving new features\n",
    "# Total recharge amount for good phase: total_rech_amt_good_ph\n",
    "# Total recharge amount data for good phase: total_rech_amt_data_good_ph\n",
    "# Max recharge amount for good phase: max_rech_amt_good_ph\n",
    "\n",
    "df['total_rech_amt_good_ph'] = (df.total_rech_amt_6 + df.total_rech_amt_7)/2\n",
    "df['total_rech_amt_data_good_ph'] = (df.total_rech_amt_data_6 + df.total_rech_amt_data_7)/2\n",
    "df['max_rech_amt_good_ph'] = (df.max_rech_amt_6 + df.max_rech_amt_7)/2\n",
    "\n",
    "# dropping the original columns\n",
    "df.drop(['total_rech_amt_6','total_rech_amt_7'\n",
    "              ,'max_rech_amt_6','max_rech_amt_7','total_rech_amt_data_6','total_rech_amt_data_7'],axis=1,inplace=True)\n",
    "\n",
    "# drop total_avg_rech_amnt_good_ph as we derived total_rech_amt_data_good_ph \n",
    "df.drop('total_avg_rech_amnt_good_ph',axis=1,inplace=True)"
   ]
  },
  {
   "cell_type": "code",
   "execution_count": 248,
   "metadata": {},
   "outputs": [],
   "source": [
    "#Extracting last day recharge amount\n",
    "last_day_rech_amt = df.columns[df.columns.str.contains('day')]"
   ]
  },
  {
   "cell_type": "code",
   "execution_count": 249,
   "metadata": {},
   "outputs": [
    {
     "name": "stdout",
     "output_type": "stream",
     "text": [
      "Churn Statistics (mean and standard deviation):\n",
      "{6: 'last_day_rch_amt_6', 7: 'last_day_rch_amt_7', 8: 'last_day_rch_amt_8'}\n"
     ]
    },
    {
     "data": {
      "text/plain": [
       "<Figure size 1440x720 with 0 Axes>"
      ]
     },
     "metadata": {},
     "output_type": "display_data"
    },
    {
     "data": {
      "image/png": "[encoded data removed]",
      "text/plain": [
       "<Figure size 1440x720 with 3 Axes>"
      ]
     },
     "metadata": {
      "needs_background": "light"
     },
     "output_type": "display_data"
    },
    {
     "data": {
      "text/html": [
       "<div>\n",
       "<style scoped>\n",
       "    .dataframe tbody tr th:only-of-type {\n",
       "        vertical-align: middle;\n",
       "    }\n",
       "\n",
       "    .dataframe tbody tr th {\n",
       "        vertical-align: top;\n",
       "    }\n",
       "\n",
       "    .dataframe thead th {\n",
       "        text-align: right;\n",
       "    }\n",
       "</style>\n",
       "<table border=\"1\" class=\"dataframe\">\n",
       "  <thead>\n",
       "    <tr style=\"text-align: right;\">\n",
       "      <th></th>\n",
       "      <th>mean_6</th>\n",
       "      <th>mean_7</th>\n",
       "      <th>mean_8</th>\n",
       "      <th>std_6</th>\n",
       "      <th>std_7</th>\n",
       "      <th>std_8</th>\n",
       "    </tr>\n",
       "  </thead>\n",
       "  <tbody>\n",
       "    <tr>\n",
       "      <th>Churned</th>\n",
       "      <td>100.587</td>\n",
       "      <td>102.276</td>\n",
       "      <td>97.417</td>\n",
       "      <td>140.808</td>\n",
       "      <td>139.566</td>\n",
       "      <td>145.528</td>\n",
       "    </tr>\n",
       "    <tr>\n",
       "      <th>Non Churned</th>\n",
       "      <td>104.356</td>\n",
       "      <td>78.684</td>\n",
       "      <td>35.680</td>\n",
       "      <td>173.407</td>\n",
       "      <td>153.831</td>\n",
       "      <td>128.249</td>\n",
       "    </tr>\n",
       "  </tbody>\n",
       "</table>\n",
       "</div>"
      ],
      "text/plain": [
       "              mean_6   mean_7  mean_8    std_6    std_7    std_8\n",
       "Churned      100.587  102.276  97.417  140.808  139.566  145.528\n",
       "Non Churned  104.356   78.684  35.680  173.407  153.831  128.249"
      ]
     },
     "execution_count": 249,
     "metadata": {},
     "output_type": "execute_result"
    }
   ],
   "source": [
    "#Analyzing last_day_rech_amt\n",
    "\n",
    "analyze_col('last_day_rch_amt')"
   ]
  },
  {
   "cell_type": "markdown",
   "metadata": {},
   "source": [
    "For churned customers there is a significant drop in the last month recharge amount."
   ]
  },
  {
   "cell_type": "code",
   "execution_count": 250,
   "metadata": {},
   "outputs": [],
   "source": [
    "#Deriving new feature last day rech amt in good phase by taking avh of 6th and 7th month data.\n",
    "df['last_day_rch_amt_good_ph'] = (df.last_day_rch_amt_6 + df.last_day_rch_amt_7)/2\n",
    "\n",
    "# drop the original column\n",
    "df.drop(['last_day_rch_amt_6','last_day_rch_amt_7'],axis=1,inplace=True)"
   ]
  },
  {
   "cell_type": "code",
   "execution_count": 251,
   "metadata": {},
   "outputs": [
    {
     "data": {
      "text/plain": [
       "total_rech_num_6     0.000000\n",
       "total_rech_num_7     0.000000\n",
       "total_rech_num_8     0.000000\n",
       "max_rech_data_6     44.148528\n",
       "max_rech_data_7     43.145228\n",
       "max_rech_data_8     46.825106\n",
       "dtype: float64"
      ]
     },
     "execution_count": 251,
     "metadata": {},
     "output_type": "execute_result"
    }
   ],
   "source": [
    "#Check other recharge related variables:\n",
    "oth_rch = df.columns[df.columns.str.contains('rech_num|max_rech_data',regex=True)]\n",
    "\n",
    "#checking the percentage of missing values\n",
    "100*df.loc[:,oth_rch].isnull().sum()/len(df)"
   ]
  },
  {
   "cell_type": "code",
   "execution_count": 252,
   "metadata": {},
   "outputs": [
    {
     "data": {
      "text/html": [
       "<div>\n",
       "<style scoped>\n",
       "    .dataframe tbody tr th:only-of-type {\n",
       "        vertical-align: middle;\n",
       "    }\n",
       "\n",
       "    .dataframe tbody tr th {\n",
       "        vertical-align: top;\n",
       "    }\n",
       "\n",
       "    .dataframe thead th {\n",
       "        text-align: right;\n",
       "    }\n",
       "</style>\n",
       "<table border=\"1\" class=\"dataframe\">\n",
       "  <thead>\n",
       "    <tr style=\"text-align: right;\">\n",
       "      <th></th>\n",
       "      <th>max_rech_data_6</th>\n",
       "      <th>max_rech_data_7</th>\n",
       "      <th>max_rech_data_8</th>\n",
       "    </tr>\n",
       "  </thead>\n",
       "  <tbody>\n",
       "    <tr>\n",
       "      <th>count</th>\n",
       "      <td>16756.000000</td>\n",
       "      <td>17057.000000</td>\n",
       "      <td>15953.000000</td>\n",
       "    </tr>\n",
       "    <tr>\n",
       "      <th>mean</th>\n",
       "      <td>139.798580</td>\n",
       "      <td>140.431143</td>\n",
       "      <td>136.329217</td>\n",
       "    </tr>\n",
       "    <tr>\n",
       "      <th>std</th>\n",
       "      <td>118.851784</td>\n",
       "      <td>120.247247</td>\n",
       "      <td>119.531924</td>\n",
       "    </tr>\n",
       "    <tr>\n",
       "      <th>min</th>\n",
       "      <td>1.000000</td>\n",
       "      <td>1.000000</td>\n",
       "      <td>1.000000</td>\n",
       "    </tr>\n",
       "    <tr>\n",
       "      <th>25%</th>\n",
       "      <td>25.000000</td>\n",
       "      <td>25.000000</td>\n",
       "      <td>25.000000</td>\n",
       "    </tr>\n",
       "    <tr>\n",
       "      <th>50%</th>\n",
       "      <td>152.000000</td>\n",
       "      <td>152.000000</td>\n",
       "      <td>152.000000</td>\n",
       "    </tr>\n",
       "    <tr>\n",
       "      <th>75%</th>\n",
       "      <td>198.000000</td>\n",
       "      <td>198.000000</td>\n",
       "      <td>198.000000</td>\n",
       "    </tr>\n",
       "    <tr>\n",
       "      <th>max</th>\n",
       "      <td>1555.000000</td>\n",
       "      <td>1555.000000</td>\n",
       "      <td>1555.000000</td>\n",
       "    </tr>\n",
       "  </tbody>\n",
       "</table>\n",
       "</div>"
      ],
      "text/plain": [
       "       max_rech_data_6  max_rech_data_7  max_rech_data_8\n",
       "count     16756.000000     17057.000000     15953.000000\n",
       "mean        139.798580       140.431143       136.329217\n",
       "std         118.851784       120.247247       119.531924\n",
       "min           1.000000         1.000000         1.000000\n",
       "25%          25.000000        25.000000        25.000000\n",
       "50%         152.000000       152.000000       152.000000\n",
       "75%         198.000000       198.000000       198.000000\n",
       "max        1555.000000      1555.000000      1555.000000"
      ]
     },
     "execution_count": 252,
     "metadata": {},
     "output_type": "execute_result"
    }
   ],
   "source": [
    "#Distribution of the oth_rch cols\n",
    "\n",
    "df.loc[:,['max_rech_data_6','max_rech_data_7','max_rech_data_8']].describe()"
   ]
  },
  {
   "cell_type": "markdown",
   "metadata": {},
   "source": [
    "The minimum value is 1 and the max is 1555 for all three, this implies the missing values means no recharge was done for data, we can impute the missing values by 0. "
   ]
  },
  {
   "cell_type": "code",
   "execution_count": 253,
   "metadata": {},
   "outputs": [],
   "source": [
    "#Imputing nan with zero max_rech_data.\n",
    "\n",
    "df.loc[:,['max_rech_data_6','max_rech_data_7','max_rech_data_8']] \\\n",
    "= df.loc[:,['max_rech_data_6','max_rech_data_7','max_rech_data_8']].replace(np.nan,0)\n"
   ]
  },
  {
   "cell_type": "code",
   "execution_count": 254,
   "metadata": {},
   "outputs": [],
   "source": [
    "# deriving new column: max_rech_data_good_ph\n",
    "df['max_rech_data_good_ph'] = (df.max_rech_data_6 + df.max_rech_data_7)/2\n",
    "\n",
    "# dropping the original columns\n",
    "df.drop(['max_rech_data_6','max_rech_data_7'],axis=1,inplace=True)"
   ]
  },
  {
   "cell_type": "code",
   "execution_count": 255,
   "metadata": {},
   "outputs": [
    {
     "name": "stdout",
     "output_type": "stream",
     "text": [
      "       total_rech_num_6  total_rech_num_7  total_rech_num_8\n",
      "count      30001.000000      30001.000000      30001.000000\n",
      "mean          11.851005         11.718843          9.972868\n",
      "std            9.429132          9.432418          9.274370\n",
      "min            0.000000          0.000000          0.000000\n",
      "25%            6.000000          6.000000          4.000000\n",
      "50%            9.000000          9.000000          8.000000\n",
      "75%           15.000000         15.000000         13.000000\n",
      "max          307.000000        138.000000        196.000000\n"
     ]
    },
    {
     "data": {
      "text/html": [
       "<div>\n",
       "<style scoped>\n",
       "    .dataframe tbody tr th:only-of-type {\n",
       "        vertical-align: middle;\n",
       "    }\n",
       "\n",
       "    .dataframe tbody tr th {\n",
       "        vertical-align: top;\n",
       "    }\n",
       "\n",
       "    .dataframe thead th {\n",
       "        text-align: right;\n",
       "    }\n",
       "</style>\n",
       "<table border=\"1\" class=\"dataframe\">\n",
       "  <thead>\n",
       "    <tr style=\"text-align: right;\">\n",
       "      <th></th>\n",
       "      <th>total_rech_num_6</th>\n",
       "      <th>total_rech_num_7</th>\n",
       "      <th>total_rech_num_8</th>\n",
       "    </tr>\n",
       "  </thead>\n",
       "  <tbody>\n",
       "    <tr>\n",
       "      <th>Churned</th>\n",
       "      <td>9.0</td>\n",
       "      <td>9.0</td>\n",
       "      <td>8.0</td>\n",
       "    </tr>\n",
       "    <tr>\n",
       "      <th>Non Churned</th>\n",
       "      <td>11.0</td>\n",
       "      <td>9.0</td>\n",
       "      <td>3.0</td>\n",
       "    </tr>\n",
       "  </tbody>\n",
       "</table>\n",
       "</div>"
      ],
      "text/plain": [
       "             total_rech_num_6  total_rech_num_7  total_rech_num_8\n",
       "Churned                   9.0               9.0               8.0\n",
       "Non Churned              11.0               9.0               3.0"
      ]
     },
     "execution_count": 255,
     "metadata": {},
     "output_type": "execute_result"
    }
   ],
   "source": [
    "#Check the variable total_rech_num for all three months.\n",
    "\n",
    "total_rech_num_cols = df.columns[df.columns.str.contains('total_rech_num')]\n",
    "\n",
    "#Now check summary stats:\n",
    "print(df.loc[:,total_rech_num_cols].describe())\n",
    "\n",
    "#Check the median variation in total recharge numbers for churned and non churned customers\n",
    "pd.DataFrame([df.loc[df.churn==0,total_rech_num_cols].median()\n",
    "              ,df.loc[df.churn==1,total_rech_num_cols].median()],index={'Non Churned','Churned'})"
   ]
  },
  {
   "cell_type": "markdown",
   "metadata": {},
   "source": [
    "#### Insight:\n",
    "- In the 6th month the max value is 307 but the 75% value lies at 15. Looks like there are outliers in the data. \n",
    "- There is a slight drop in total recharge numbers in the 8th month for the churned customers."
   ]
  },
  {
   "cell_type": "code",
   "execution_count": 256,
   "metadata": {},
   "outputs": [],
   "source": [
    "# deriving new column: total_rech_num_good_ph\n",
    "df['total_rech_num_good_ph'] = (df.total_rech_num_6 + df.total_rech_num_7)/2\n",
    "\n",
    "# dropping the original columns\n",
    "df.drop(['total_rech_num_6','total_rech_num_7'],axis=1,inplace=True)"
   ]
  },
  {
   "cell_type": "code",
   "execution_count": 257,
   "metadata": {},
   "outputs": [
    {
     "data": {
      "text/plain": [
       "count_rech_2g_6    0.441485\n",
       "count_rech_2g_7    0.431452\n",
       "count_rech_2g_8    0.468251\n",
       "count_rech_3g_6    0.441485\n",
       "count_rech_3g_7    0.431452\n",
       "count_rech_3g_8    0.468251\n",
       "vol_2g_mb_6        0.000000\n",
       "vol_2g_mb_7        0.000000\n",
       "vol_2g_mb_8        0.000000\n",
       "vol_3g_mb_6        0.000000\n",
       "vol_3g_mb_7        0.000000\n",
       "vol_3g_mb_8        0.000000\n",
       "arpu_3g_6          0.441485\n",
       "arpu_3g_7          0.431452\n",
       "arpu_3g_8          0.468251\n",
       "arpu_2g_6          0.441485\n",
       "arpu_2g_7          0.431452\n",
       "arpu_2g_8          0.468251\n",
       "monthly_2g_6       0.000000\n",
       "monthly_2g_7       0.000000\n",
       "monthly_2g_8       0.000000\n",
       "sachet_2g_6        0.000000\n",
       "sachet_2g_7        0.000000\n",
       "sachet_2g_8        0.000000\n",
       "monthly_3g_6       0.000000\n",
       "monthly_3g_7       0.000000\n",
       "monthly_3g_8       0.000000\n",
       "sachet_3g_6        0.000000\n",
       "sachet_3g_7        0.000000\n",
       "sachet_3g_8        0.000000\n",
       "aug_vbc_3g         0.000000\n",
       "jul_vbc_3g         0.000000\n",
       "jun_vbc_3g         0.000000\n",
       "sep_vbc_3g         0.000000\n",
       "dtype: float64"
      ]
     },
     "execution_count": 257,
     "metadata": {},
     "output_type": "execute_result"
    }
   ],
   "source": [
    "#extract the 2G and 3G usage related columns\n",
    "cols_2g_or_3g = df.columns[df.columns.str.contains('2g|3g',regex=True)]\n",
    "\n",
    "#And check the % of NA values present\n",
    "df.loc[:,cols_2g_or_3g].isnull().sum()/len(df.loc[:,cols_2g_or_3g])"
   ]
  },
  {
   "cell_type": "markdown",
   "metadata": {},
   "source": [
    "Most of the data are not available for 2g and 3g recharge count and average revenue. We can drop these columns."
   ]
  },
  {
   "cell_type": "code",
   "execution_count": 258,
   "metadata": {},
   "outputs": [],
   "source": [
    "#Dropping data 2g and 3g recharge count and average revenue\n",
    "\n",
    "df.drop(['count_rech_2g_6','count_rech_2g_7',\n",
    "              'count_rech_2g_8','count_rech_3g_6','count_rech_3g_7','count_rech_3g_8'\n",
    "               ,'arpu_3g_6','arpu_3g_7','arpu_3g_8','arpu_2g_6','arpu_2g_7','arpu_2g_8'],axis=1,inplace=True)"
   ]
  },
  {
   "cell_type": "code",
   "execution_count": 259,
   "metadata": {},
   "outputs": [
    {
     "name": "stdout",
     "output_type": "stream",
     "text": [
      "        vol_2g_mb_6   vol_2g_mb_7   vol_2g_mb_8   vol_3g_mb_6   vol_3g_mb_7  \\\n",
      "count  30001.000000  30001.000000  30001.000000  30001.000000  30001.000000   \n",
      "mean     126.522185    125.097326    105.913072    344.258568    370.196701   \n",
      "std      330.530793    331.548010    313.384838    913.747778    915.525911   \n",
      "min        0.000000      0.000000      0.000000      0.000000      0.000000   \n",
      "25%        0.000000      0.000000      0.000000      0.000000      0.000000   \n",
      "50%        0.000000      0.050000      0.000000      0.000000      0.000000   \n",
      "75%       83.450000     77.770000     51.650000    358.740000    410.700000   \n",
      "max    10285.900000   7873.550000  11117.610000  45735.400000  28144.120000   \n",
      "\n",
      "        vol_3g_mb_8  \n",
      "count  30001.000000  \n",
      "mean     351.493998  \n",
      "std      919.021056  \n",
      "min        0.000000  \n",
      "25%        0.000000  \n",
      "50%        0.000000  \n",
      "75%      356.190000  \n",
      "max    30036.060000  \n"
     ]
    }
   ],
   "source": [
    "#Extract volume of 2G and 3G usage columns\n",
    "vol_3g_and_2g = df.columns[df.columns.str.contains('vol_2g|vol_3g',regex=True)]\n",
    "\n",
    "#Checking the summary:\n",
    "print(df.loc[:,vol_3g_and_2g].describe())"
   ]
  },
  {
   "cell_type": "code",
   "execution_count": 260,
   "metadata": {},
   "outputs": [
    {
     "data": {
      "text/html": [
       "<div>\n",
       "<style scoped>\n",
       "    .dataframe tbody tr th:only-of-type {\n",
       "        vertical-align: middle;\n",
       "    }\n",
       "\n",
       "    .dataframe tbody tr th {\n",
       "        vertical-align: top;\n",
       "    }\n",
       "\n",
       "    .dataframe thead th {\n",
       "        text-align: right;\n",
       "    }\n",
       "</style>\n",
       "<table border=\"1\" class=\"dataframe\">\n",
       "  <thead>\n",
       "    <tr style=\"text-align: right;\">\n",
       "      <th></th>\n",
       "      <th>vol_2g_mb_6</th>\n",
       "      <th>vol_2g_mb_7</th>\n",
       "      <th>vol_2g_mb_8</th>\n",
       "      <th>vol_3g_mb_6</th>\n",
       "      <th>vol_3g_mb_7</th>\n",
       "      <th>vol_3g_mb_8</th>\n",
       "    </tr>\n",
       "  </thead>\n",
       "  <tbody>\n",
       "    <tr>\n",
       "      <th>Churned</th>\n",
       "      <td>127.830679</td>\n",
       "      <td>128.229264</td>\n",
       "      <td>113.243187</td>\n",
       "      <td>349.825292</td>\n",
       "      <td>383.548331</td>\n",
       "      <td>374.884935</td>\n",
       "    </tr>\n",
       "    <tr>\n",
       "      <th>Non Churned</th>\n",
       "      <td>111.748697</td>\n",
       "      <td>89.736321</td>\n",
       "      <td>23.152745</td>\n",
       "      <td>281.407722</td>\n",
       "      <td>219.450729</td>\n",
       "      <td>87.399685</td>\n",
       "    </tr>\n",
       "  </tbody>\n",
       "</table>\n",
       "</div>"
      ],
      "text/plain": [
       "             vol_2g_mb_6  vol_2g_mb_7  vol_2g_mb_8  vol_3g_mb_6  vol_3g_mb_7  \\\n",
       "Churned       127.830679   128.229264   113.243187   349.825292   383.548331   \n",
       "Non Churned   111.748697    89.736321    23.152745   281.407722   219.450729   \n",
       "\n",
       "             vol_3g_mb_8  \n",
       "Churned       374.884935  \n",
       "Non Churned    87.399685  "
      ]
     },
     "execution_count": 260,
     "metadata": {},
     "output_type": "execute_result"
    }
   ],
   "source": [
    "#Check the mean variation in volume of 2G/3G usage for churned & non churned customers\n",
    "pd.DataFrame([df.loc[df.churn==0,vol_3g_and_2g].mean()\n",
    "              ,df.loc[df.churn==1,vol_3g_and_2g].mean()],index={'Non Churned','Churned'})"
   ]
  },
  {
   "cell_type": "markdown",
   "metadata": {},
   "source": [
    "#### Insights:\n",
    "\n",
    " -  We can see above that 2G/3G usage for churned customers drops significantly in 8th month\n",
    " - Also noticed average 3G usage is higher for non-churned customers indicating that churned customers might be from areas where 3G service is not properly available."
   ]
  },
  {
   "cell_type": "code",
   "execution_count": 261,
   "metadata": {},
   "outputs": [],
   "source": [
    "#Define two new derived columns for 2g and 3g data in good phase\n",
    "\n",
    "df['vol_2g_mb_good_ph'] = (df.vol_2g_mb_6 + df.vol_2g_mb_7)/2\n",
    "df['vol_3g_mb_good_ph'] = (df.vol_3g_mb_6 + df.vol_3g_mb_7)/2\n",
    "\n",
    "#Now lets drop the original columns\n",
    "df.drop(['vol_2g_mb_6','vol_2g_mb_7'\n",
    "              ,'vol_3g_mb_6','vol_3g_mb_7'],axis=1,inplace=True)"
   ]
  },
  {
   "cell_type": "code",
   "execution_count": 262,
   "metadata": {},
   "outputs": [
    {
     "name": "stdout",
     "output_type": "stream",
     "text": [
      "       monthly_2g_6  monthly_2g_7  monthly_2g_8  monthly_3g_6  monthly_3g_7  \\\n",
      "count  30001.000000  30001.000000  30001.000000  30001.000000  30001.000000   \n",
      "mean       0.174494      0.183261      0.153628      0.217759      0.229026   \n",
      "std        0.434953      0.450423      0.406486      0.613199      0.659125   \n",
      "min        0.000000      0.000000      0.000000      0.000000      0.000000   \n",
      "25%        0.000000      0.000000      0.000000      0.000000      0.000000   \n",
      "50%        0.000000      0.000000      0.000000      0.000000      0.000000   \n",
      "75%        0.000000      0.000000      0.000000      0.000000      0.000000   \n",
      "max        4.000000      5.000000      5.000000     14.000000     16.000000   \n",
      "\n",
      "       monthly_3g_8  \n",
      "count  30001.000000  \n",
      "mean       0.211026  \n",
      "std        0.617549  \n",
      "min        0.000000  \n",
      "25%        0.000000  \n",
      "50%        0.000000  \n",
      "75%        0.000000  \n",
      "max       16.000000  \n"
     ]
    }
   ],
   "source": [
    "#Check monthly 2G/3G service schemes\n",
    "monthly_2g_3g = df.columns[df.columns.str.contains('monthly_2g|monthly_3g',regex=True)]\n",
    "\n",
    "#Check the summary stats:\n",
    "print(df.loc[:,monthly_2g_3g].describe())"
   ]
  },
  {
   "cell_type": "code",
   "execution_count": 263,
   "metadata": {},
   "outputs": [
    {
     "data": {
      "text/html": [
       "<div>\n",
       "<style scoped>\n",
       "    .dataframe tbody tr th:only-of-type {\n",
       "        vertical-align: middle;\n",
       "    }\n",
       "\n",
       "    .dataframe tbody tr th {\n",
       "        vertical-align: top;\n",
       "    }\n",
       "\n",
       "    .dataframe thead th {\n",
       "        text-align: right;\n",
       "    }\n",
       "</style>\n",
       "<table border=\"1\" class=\"dataframe\">\n",
       "  <thead>\n",
       "    <tr style=\"text-align: right;\">\n",
       "      <th></th>\n",
       "      <th>monthly_2g_6</th>\n",
       "      <th>monthly_2g_7</th>\n",
       "      <th>monthly_2g_8</th>\n",
       "      <th>monthly_3g_6</th>\n",
       "      <th>monthly_3g_7</th>\n",
       "      <th>monthly_3g_8</th>\n",
       "    </tr>\n",
       "  </thead>\n",
       "  <tbody>\n",
       "    <tr>\n",
       "      <th>Churned</th>\n",
       "      <td>0.181676</td>\n",
       "      <td>0.193215</td>\n",
       "      <td>0.165203</td>\n",
       "      <td>0.219557</td>\n",
       "      <td>0.236575</td>\n",
       "      <td>0.224673</td>\n",
       "    </tr>\n",
       "    <tr>\n",
       "      <th>Non Churned</th>\n",
       "      <td>0.093404</td>\n",
       "      <td>0.070873</td>\n",
       "      <td>0.022941</td>\n",
       "      <td>0.197460</td>\n",
       "      <td>0.143794</td>\n",
       "      <td>0.056944</td>\n",
       "    </tr>\n",
       "  </tbody>\n",
       "</table>\n",
       "</div>"
      ],
      "text/plain": [
       "             monthly_2g_6  monthly_2g_7  monthly_2g_8  monthly_3g_6  \\\n",
       "Churned          0.181676      0.193215      0.165203      0.219557   \n",
       "Non Churned      0.093404      0.070873      0.022941      0.197460   \n",
       "\n",
       "             monthly_3g_7  monthly_3g_8  \n",
       "Churned          0.236575      0.224673  \n",
       "Non Churned      0.143794      0.056944  "
      ]
     },
     "execution_count": 263,
     "metadata": {},
     "output_type": "execute_result"
    }
   ],
   "source": [
    "#Check the mean variation in monthly schemes of 2G/3G\n",
    "pd.DataFrame([df.loc[df.churn==0,monthly_2g_3g].mean()\n",
    "              ,df.loc[df.churn==1,monthly_2g_3g].mean()],index={'Non Churned','Churned'})"
   ]
  },
  {
   "cell_type": "markdown",
   "metadata": {},
   "source": [
    "There is significant drop in data usage in action phase for churned customers."
   ]
  },
  {
   "cell_type": "code",
   "execution_count": 264,
   "metadata": {},
   "outputs": [],
   "source": [
    "#Define two new derived columns monthly_2g_good_ph and monthly_3g_good_ph\n",
    "\n",
    "df['monthly_2g_good_ph'] = (df.monthly_2g_6 + df.monthly_2g_7)/2\n",
    "df['monthly_3g_good_ph'] = (df.monthly_3g_6 + df.monthly_3g_7)/2\n",
    "\n",
    "# Dropping original columns\n",
    "df.drop(['monthly_2g_6','monthly_2g_7'\n",
    "              ,'monthly_3g_6','monthly_3g_7'],axis=1,inplace=True)"
   ]
  },
  {
   "cell_type": "code",
   "execution_count": 265,
   "metadata": {},
   "outputs": [],
   "source": [
    "#renaming vbc columns to 6,7,8,9 format for better access as they have month names\n",
    "df.rename(columns={'jun_vbc_3g':'vbc_3g_6','jul_vbc_3g':'vbc_3g_7','aug_vbc_3g':'vbc_3g_8'\n",
    "                         ,'sep_vbc_3g':'vbc_3g_9'}, inplace=True)\n",
    "\n",
    "#drop 9th month column.We don't need it any more.\n",
    "df.drop('vbc_3g_9',axis=1,inplace=True)\n",
    "\n"
   ]
  },
  {
   "cell_type": "code",
   "execution_count": 266,
   "metadata": {},
   "outputs": [
    {
     "name": "stdout",
     "output_type": "stream",
     "text": [
      "Churn Statistics (mean and standard deviation):\n",
      "{6: 'vbc_3g_6', 7: 'vbc_3g_7', 8: 'vbc_3g_8'}\n"
     ]
    },
    {
     "data": {
      "text/plain": [
       "<Figure size 1440x720 with 0 Axes>"
      ]
     },
     "metadata": {},
     "output_type": "display_data"
    },
    {
     "data": {
      "image/png": "[encoded data removed]",
      "text/plain": [
       "<Figure size 1440x720 with 3 Axes>"
      ]
     },
     "metadata": {
      "needs_background": "light"
     },
     "output_type": "display_data"
    },
    {
     "data": {
      "text/html": [
       "<div>\n",
       "<style scoped>\n",
       "    .dataframe tbody tr th:only-of-type {\n",
       "        vertical-align: middle;\n",
       "    }\n",
       "\n",
       "    .dataframe tbody tr th {\n",
       "        vertical-align: top;\n",
       "    }\n",
       "\n",
       "    .dataframe thead th {\n",
       "        text-align: right;\n",
       "    }\n",
       "</style>\n",
       "<table border=\"1\" class=\"dataframe\">\n",
       "  <thead>\n",
       "    <tr style=\"text-align: right;\">\n",
       "      <th></th>\n",
       "      <th>mean_6</th>\n",
       "      <th>mean_7</th>\n",
       "      <th>mean_8</th>\n",
       "      <th>std_6</th>\n",
       "      <th>std_7</th>\n",
       "      <th>std_8</th>\n",
       "    </tr>\n",
       "  </thead>\n",
       "  <tbody>\n",
       "    <tr>\n",
       "      <th>Churned</th>\n",
       "      <td>162.370</td>\n",
       "      <td>186.206</td>\n",
       "      <td>180.501</td>\n",
       "      <td>421.204</td>\n",
       "      <td>452.599</td>\n",
       "      <td>432.852</td>\n",
       "    </tr>\n",
       "    <tr>\n",
       "      <th>Non Churned</th>\n",
       "      <td>115.097</td>\n",
       "      <td>96.076</td>\n",
       "      <td>40.852</td>\n",
       "      <td>359.705</td>\n",
       "      <td>312.566</td>\n",
       "      <td>211.713</td>\n",
       "    </tr>\n",
       "  </tbody>\n",
       "</table>\n",
       "</div>"
      ],
      "text/plain": [
       "              mean_6   mean_7   mean_8    std_6    std_7    std_8\n",
       "Churned      162.370  186.206  180.501  421.204  452.599  432.852\n",
       "Non Churned  115.097   96.076   40.852  359.705  312.566  211.713"
      ]
     },
     "execution_count": 266,
     "metadata": {},
     "output_type": "execute_result"
    }
   ],
   "source": [
    "#Check the volumne based cost for 3G\n",
    "volumn_based_cost_3g = df.columns[df.columns.str.contains('vbc_3g')]\n",
    "\n",
    "# analyze volume based cost\n",
    "analyze_col('vbc_3g')"
   ]
  },
  {
   "cell_type": "markdown",
   "metadata": {},
   "source": [
    "In the 8th month vbc is much lower for churned customers in the 8th month."
   ]
  },
  {
   "cell_type": "code",
   "execution_count": 267,
   "metadata": {},
   "outputs": [],
   "source": [
    "#Deriving new column in good phase vbc_3g_good_ph\n",
    "df['vbc_3g_good_ph'] = (df['vbc_3g_6'] + df['vbc_3g_7'])/2\n",
    "\n",
    "# drop the original columns\n",
    "df.drop(['vbc_3g_6','vbc_3g_7'],axis=1,inplace=True)"
   ]
  },
  {
   "cell_type": "code",
   "execution_count": 268,
   "metadata": {},
   "outputs": [
    {
     "name": "stdout",
     "output_type": "stream",
     "text": [
      "        sachet_2g_6   sachet_2g_7   sachet_2g_8   sachet_3g_6   sachet_3g_7  \\\n",
      "count  30001.000000  30001.000000  30001.000000  30001.000000  30001.000000   \n",
      "mean       1.066064      1.214026      1.054865      0.209393      0.227492   \n",
      "std        2.507197      2.736158      2.535940      0.985674      1.089929   \n",
      "min        0.000000      0.000000      0.000000      0.000000      0.000000   \n",
      "25%        0.000000      0.000000      0.000000      0.000000      0.000000   \n",
      "50%        0.000000      0.000000      0.000000      0.000000      0.000000   \n",
      "75%        1.000000      1.000000      1.000000      0.000000      0.000000   \n",
      "max       42.000000     48.000000     44.000000     29.000000     35.000000   \n",
      "\n",
      "        sachet_3g_8  \n",
      "count  30001.000000  \n",
      "mean       0.202393  \n",
      "std        1.100107  \n",
      "min        0.000000  \n",
      "25%        0.000000  \n",
      "50%        0.000000  \n",
      "75%        0.000000  \n",
      "max       41.000000  \n"
     ]
    },
    {
     "data": {
      "text/html": [
       "<div>\n",
       "<style scoped>\n",
       "    .dataframe tbody tr th:only-of-type {\n",
       "        vertical-align: middle;\n",
       "    }\n",
       "\n",
       "    .dataframe tbody tr th {\n",
       "        vertical-align: top;\n",
       "    }\n",
       "\n",
       "    .dataframe thead th {\n",
       "        text-align: right;\n",
       "    }\n",
       "</style>\n",
       "<table border=\"1\" class=\"dataframe\">\n",
       "  <thead>\n",
       "    <tr style=\"text-align: right;\">\n",
       "      <th></th>\n",
       "      <th>sachet_2g_6</th>\n",
       "      <th>sachet_2g_7</th>\n",
       "      <th>sachet_2g_8</th>\n",
       "      <th>sachet_3g_6</th>\n",
       "      <th>sachet_3g_7</th>\n",
       "      <th>sachet_3g_8</th>\n",
       "    </tr>\n",
       "  </thead>\n",
       "  <tbody>\n",
       "    <tr>\n",
       "      <th>Churned</th>\n",
       "      <td>1.069303</td>\n",
       "      <td>1.243832</td>\n",
       "      <td>1.124383</td>\n",
       "      <td>0.206313</td>\n",
       "      <td>0.228048</td>\n",
       "      <td>0.214550</td>\n",
       "    </tr>\n",
       "    <tr>\n",
       "      <th>Non Churned</th>\n",
       "      <td>1.029496</td>\n",
       "      <td>0.877509</td>\n",
       "      <td>0.269971</td>\n",
       "      <td>0.244162</td>\n",
       "      <td>0.221221</td>\n",
       "      <td>0.065137</td>\n",
       "    </tr>\n",
       "  </tbody>\n",
       "</table>\n",
       "</div>"
      ],
      "text/plain": [
       "             sachet_2g_6  sachet_2g_7  sachet_2g_8  sachet_3g_6  sachet_3g_7  \\\n",
       "Churned         1.069303     1.243832     1.124383     0.206313     0.228048   \n",
       "Non Churned     1.029496     0.877509     0.269971     0.244162     0.221221   \n",
       "\n",
       "             sachet_3g_8  \n",
       "Churned         0.214550  \n",
       "Non Churned     0.065137  "
      ]
     },
     "execution_count": 268,
     "metadata": {},
     "output_type": "execute_result"
    }
   ],
   "source": [
    "#Analyzing check sachet subscription for 2G/3G\n",
    "\n",
    "sachet_2g_3g = df.columns[df.columns.str.contains('sachet_2g|sachet_3g',regex=True)]\n",
    "\n",
    "print(df.loc[:,sachet_2g_3g].describe())\n",
    "\n",
    "pd.DataFrame([df.loc[df.churn==0,sachet_2g_3g].mean()\n",
    "              ,df.loc[df.churn==1,sachet_2g_3g].mean()],index={'Non Churned','Churned'})"
   ]
  },
  {
   "cell_type": "markdown",
   "metadata": {},
   "source": [
    "There is a clear drop in sachet services in 8th month for churned cutsomers as compared to non churned customers."
   ]
  },
  {
   "cell_type": "code",
   "execution_count": 269,
   "metadata": {},
   "outputs": [],
   "source": [
    "#Deriving two new derived columns sachet_2g_good_ph and sachet_3g_good_ph\n",
    "\n",
    "df['sachet_2g_good_ph'] = (df.sachet_2g_6 + df.sachet_2g_7)/2\n",
    "df['sachet_3g_good_ph'] = (df.sachet_3g_6 + df.sachet_3g_7)/2\n",
    "\n",
    "# drop the original columns \n",
    "df.drop(['sachet_2g_6','sachet_2g_7'\n",
    "              ,'sachet_3g_6','sachet_3g_7'],axis=1,inplace=True)"
   ]
  },
  {
   "cell_type": "code",
   "execution_count": 270,
   "metadata": {},
   "outputs": [
    {
     "name": "stdout",
     "output_type": "stream",
     "text": [
      "860.9524784924212\n",
      "1240.2281204644412\n"
     ]
    }
   ],
   "source": [
    "#Check the age on n/w for churned & non churned customers\n",
    "print(df.loc[df.churn==1,'aon'].mean())\n",
    "print(df.loc[df.churn==0,'aon'].mean())"
   ]
  },
  {
   "cell_type": "code",
   "execution_count": 271,
   "metadata": {},
   "outputs": [
    {
     "data": {
      "image/png": "[encoded data removed]",
      "text/plain": [
       "<Figure size 360x216 with 1 Axes>"
      ]
     },
     "metadata": {
      "needs_background": "light"
     },
     "output_type": "display_data"
    }
   ],
   "source": [
    "# Checking distribution of Age for non churned customers\n",
    "plt.figure(figsize=(5,3))\n",
    "df.loc[df.churn==0,'aon'].plot.hist()\n",
    "plt.show()"
   ]
  },
  {
   "cell_type": "code",
   "execution_count": 272,
   "metadata": {},
   "outputs": [
    {
     "data": {
      "image/png": "[encoded data removed]",
      "text/plain": [
       "<Figure size 360x216 with 1 Axes>"
      ]
     },
     "metadata": {
      "needs_background": "light"
     },
     "output_type": "display_data"
    }
   ],
   "source": [
    "#Checking distribution of Age for churned customers\n",
    "plt.figure(figsize=(5,3))\n",
    "df.loc[df.churn==1,'aon'].plot.hist()\n",
    "plt.show()"
   ]
  },
  {
   "cell_type": "markdown",
   "metadata": {},
   "source": [
    "Most of the customer who churn have the age of 1500 days or less."
   ]
  },
  {
   "cell_type": "code",
   "execution_count": 273,
   "metadata": {},
   "outputs": [
    {
     "data": {
      "text/plain": [
       "array([109], dtype=int64)"
      ]
     },
     "execution_count": 273,
     "metadata": {},
     "output_type": "execute_result"
    }
   ],
   "source": [
    "#Check the circle id values\n",
    "df.circle_id.unique()\n"
   ]
  },
  {
   "cell_type": "code",
   "execution_count": 274,
   "metadata": {},
   "outputs": [],
   "source": [
    "#drop this column as it has only one value i.e 109\n",
    "df.drop('circle_id',inplace=True,axis=1)"
   ]
  },
  {
   "cell_type": "markdown",
   "metadata": {},
   "source": [
    "#### Dealing with date columns"
   ]
  },
  {
   "cell_type": "code",
   "execution_count": 275,
   "metadata": {},
   "outputs": [
    {
     "name": "stdout",
     "output_type": "stream",
     "text": [
      "[30] [31. nan] [31. nan]\n"
     ]
    }
   ],
   "source": [
    "#extracting the date columns\n",
    "date_cols = df.columns[df.columns.str.contains('date')]\n",
    "\n",
    "# convert to datetime\n",
    "for date_col in list(date_cols):\n",
    "    df[date_col]= pd.to_datetime(df[date_col])\n",
    "    \n",
    "print(df.last_date_of_month_6.dt.day.unique(),df.last_date_of_month_7.dt.day.unique()\n",
    "      ,df.last_date_of_month_8.dt.day.unique())\n",
    "\n"
   ]
  },
  {
   "cell_type": "code",
   "execution_count": 276,
   "metadata": {},
   "outputs": [],
   "source": [
    "# Lets drop these cols as they do not add much value\n",
    "\n",
    "df.drop(['last_date_of_month_6','last_date_of_month_7','last_date_of_month_8'],axis=1,inplace=True)"
   ]
  },
  {
   "cell_type": "code",
   "execution_count": 277,
   "metadata": {},
   "outputs": [
    {
     "data": {
      "text/html": [
       "<div>\n",
       "<style scoped>\n",
       "    .dataframe tbody tr th:only-of-type {\n",
       "        vertical-align: middle;\n",
       "    }\n",
       "\n",
       "    .dataframe tbody tr th {\n",
       "        vertical-align: top;\n",
       "    }\n",
       "\n",
       "    .dataframe thead th {\n",
       "        text-align: right;\n",
       "    }\n",
       "</style>\n",
       "<table border=\"1\" class=\"dataframe\">\n",
       "  <thead>\n",
       "    <tr style=\"text-align: right;\">\n",
       "      <th></th>\n",
       "      <th>day_of_last_rech_6</th>\n",
       "      <th>day_of_last_rech_7</th>\n",
       "      <th>day_of_last_rech_8</th>\n",
       "    </tr>\n",
       "  </thead>\n",
       "  <tbody>\n",
       "    <tr>\n",
       "      <th>Churned</th>\n",
       "      <td>28.0</td>\n",
       "      <td>29.0</td>\n",
       "      <td>29.0</td>\n",
       "    </tr>\n",
       "    <tr>\n",
       "      <th>Non Churned</th>\n",
       "      <td>28.0</td>\n",
       "      <td>27.0</td>\n",
       "      <td>26.0</td>\n",
       "    </tr>\n",
       "  </tbody>\n",
       "</table>\n",
       "</div>"
      ],
      "text/plain": [
       "             day_of_last_rech_6  day_of_last_rech_7  day_of_last_rech_8\n",
       "Churned                    28.0                29.0                29.0\n",
       "Non Churned                28.0                27.0                26.0"
      ]
     },
     "execution_count": 277,
     "metadata": {},
     "output_type": "execute_result"
    }
   ],
   "source": [
    "#Extract the day of last recharge\n",
    "df['day_of_last_rech_6'] =  df.date_of_last_rech_6.dt.day\n",
    "df['day_of_last_rech_7'] =  df.date_of_last_rech_7.dt.day\n",
    "df['day_of_last_rech_8'] =  df.date_of_last_rech_8.dt.day\n",
    "\n",
    "dt_of_last_rech_cols = ['day_of_last_rech_6','day_of_last_rech_7','day_of_last_rech_8']\n",
    "\n",
    "pd.DataFrame([df.loc[df.churn==0,dt_of_last_rech_cols].median()\n",
    "              ,df.loc[df.churn==1,dt_of_last_rech_cols].median()],index={'Non Churned','Churned'})"
   ]
  },
  {
   "cell_type": "code",
   "execution_count": 278,
   "metadata": {},
   "outputs": [
    {
     "data": {
      "text/html": [
       "<div>\n",
       "<style scoped>\n",
       "    .dataframe tbody tr th:only-of-type {\n",
       "        vertical-align: middle;\n",
       "    }\n",
       "\n",
       "    .dataframe tbody tr th {\n",
       "        vertical-align: top;\n",
       "    }\n",
       "\n",
       "    .dataframe thead th {\n",
       "        text-align: right;\n",
       "    }\n",
       "</style>\n",
       "<table border=\"1\" class=\"dataframe\">\n",
       "  <thead>\n",
       "    <tr style=\"text-align: right;\">\n",
       "      <th></th>\n",
       "      <th>day_of_last_rech_shift</th>\n",
       "    </tr>\n",
       "  </thead>\n",
       "  <tbody>\n",
       "    <tr>\n",
       "      <th>Churned</th>\n",
       "      <td>0.5</td>\n",
       "    </tr>\n",
       "    <tr>\n",
       "      <th>Non Churned</th>\n",
       "      <td>-2.0</td>\n",
       "    </tr>\n",
       "  </tbody>\n",
       "</table>\n",
       "</div>"
      ],
      "text/plain": [
       "             day_of_last_rech_shift\n",
       "Churned                         0.5\n",
       "Non Churned                    -2.0"
      ]
     },
     "execution_count": 278,
     "metadata": {},
     "output_type": "execute_result"
    }
   ],
   "source": [
    "#Deriving column indicating the shift in day of last recharge\n",
    "\n",
    "df['day_of_last_rech_shift'] = df.day_of_last_rech_8 -(df.day_of_last_rech_6+df.day_of_last_rech_7)/2\n",
    "\n",
    "# checking how the shift indicates pattern for Churned and non churn customers\n",
    "pd.DataFrame([df.loc[df.churn==0,['day_of_last_rech_shift']].median()\n",
    "              ,df.loc[df.churn==1,['day_of_last_rech_shift']].median()],index={'Non Churned','Churned'})"
   ]
  },
  {
   "cell_type": "markdown",
   "metadata": {},
   "source": [
    "The churned customers have a median negative shift that means the last day of recharge is in the early parts of the month of in the action phase."
   ]
  },
  {
   "cell_type": "code",
   "execution_count": 279,
   "metadata": {},
   "outputs": [],
   "source": [
    "#Deleting the columns as we will use the derived columns.\n",
    "\n",
    "df.drop(['day_of_last_rech_6','day_of_last_rech_7','day_of_last_rech_8'],axis=1,inplace=True)"
   ]
  },
  {
   "cell_type": "code",
   "execution_count": 280,
   "metadata": {},
   "outputs": [
    {
     "data": {
      "text/html": [
       "<div>\n",
       "<style scoped>\n",
       "    .dataframe tbody tr th:only-of-type {\n",
       "        vertical-align: middle;\n",
       "    }\n",
       "\n",
       "    .dataframe tbody tr th {\n",
       "        vertical-align: top;\n",
       "    }\n",
       "\n",
       "    .dataframe thead th {\n",
       "        text-align: right;\n",
       "    }\n",
       "</style>\n",
       "<table border=\"1\" class=\"dataframe\">\n",
       "  <thead>\n",
       "    <tr style=\"text-align: right;\">\n",
       "      <th></th>\n",
       "      <th>day_of_last_rech_data_6</th>\n",
       "      <th>day_of_last_rech_data_7</th>\n",
       "      <th>day_of_last_rech_data_8</th>\n",
       "    </tr>\n",
       "  </thead>\n",
       "  <tbody>\n",
       "    <tr>\n",
       "      <th>Churned</th>\n",
       "      <td>22.0</td>\n",
       "      <td>24.0</td>\n",
       "      <td>23.0</td>\n",
       "    </tr>\n",
       "    <tr>\n",
       "      <th>Non Churned</th>\n",
       "      <td>22.0</td>\n",
       "      <td>20.0</td>\n",
       "      <td>15.0</td>\n",
       "    </tr>\n",
       "  </tbody>\n",
       "</table>\n",
       "</div>"
      ],
      "text/plain": [
       "             day_of_last_rech_data_6  day_of_last_rech_data_7  \\\n",
       "Churned                         22.0                     24.0   \n",
       "Non Churned                     22.0                     20.0   \n",
       "\n",
       "             day_of_last_rech_data_8  \n",
       "Churned                         23.0  \n",
       "Non Churned                     15.0  "
      ]
     },
     "execution_count": 280,
     "metadata": {},
     "output_type": "execute_result"
    }
   ],
   "source": [
    "#extracting the day of last data recharge\n",
    "\n",
    "df['day_of_last_rech_data_6'] =  df.date_of_last_rech_data_6.dt.day\n",
    "df['day_of_last_rech_data_7'] =  df.date_of_last_rech_data_7.dt.day\n",
    "df['day_of_last_rech_data_8'] =  df.date_of_last_rech_data_8.dt.day\n",
    "\n",
    "dt_of_last_data_rech_cols = ['day_of_last_rech_data_6','day_of_last_rech_data_7','day_of_last_rech_data_8']\n",
    "\n",
    "pd.DataFrame([df.loc[df.churn==0,dt_of_last_data_rech_cols].median()\n",
    "              ,df.loc[df.churn==1,dt_of_last_data_rech_cols].median()],index={'Non Churned','Churned'})"
   ]
  },
  {
   "cell_type": "markdown",
   "metadata": {},
   "source": [
    "The median value of last day of recharge for churned customers in the 8th month is 15. WHich is a clear sign of customer may churn."
   ]
  },
  {
   "cell_type": "code",
   "execution_count": 281,
   "metadata": {},
   "outputs": [
    {
     "data": {
      "text/html": [
       "<div>\n",
       "<style scoped>\n",
       "    .dataframe tbody tr th:only-of-type {\n",
       "        vertical-align: middle;\n",
       "    }\n",
       "\n",
       "    .dataframe tbody tr th {\n",
       "        vertical-align: top;\n",
       "    }\n",
       "\n",
       "    .dataframe thead th {\n",
       "        text-align: right;\n",
       "    }\n",
       "</style>\n",
       "<table border=\"1\" class=\"dataframe\">\n",
       "  <thead>\n",
       "    <tr style=\"text-align: right;\">\n",
       "      <th></th>\n",
       "      <th>day_of_last_rech_data_shift</th>\n",
       "    </tr>\n",
       "  </thead>\n",
       "  <tbody>\n",
       "    <tr>\n",
       "      <th>Churned</th>\n",
       "      <td>-0.5</td>\n",
       "    </tr>\n",
       "    <tr>\n",
       "      <th>Non Churned</th>\n",
       "      <td>-6.0</td>\n",
       "    </tr>\n",
       "  </tbody>\n",
       "</table>\n",
       "</div>"
      ],
      "text/plain": [
       "             day_of_last_rech_data_shift\n",
       "Churned                             -0.5\n",
       "Non Churned                         -6.0"
      ]
     },
     "execution_count": 281,
     "metadata": {},
     "output_type": "execute_result"
    }
   ],
   "source": [
    "#Deriving column indicating the shift in day of last data recharge\n",
    "\n",
    "df['day_of_last_rech_data_shift'] = df.day_of_last_rech_data_8 -(df.day_of_last_rech_data_6+df.day_of_last_rech_data_7)/2\n",
    "\n",
    "#checking how the shift indicates pattern for Churned & non churn customers\n",
    "pd.DataFrame([df.loc[df.churn==0,['day_of_last_rech_data_shift']].median()\n",
    "              ,df.loc[df.churn==1,['day_of_last_rech_data_shift']].median()],index={'Non Churned','Churned'})"
   ]
  },
  {
   "cell_type": "markdown",
   "metadata": {},
   "source": [
    "There is a significant negative shift in the data recharge in the 8th month. This column will be helpful in our analysis."
   ]
  },
  {
   "cell_type": "code",
   "execution_count": 282,
   "metadata": {},
   "outputs": [],
   "source": [
    "#deleting below columns as they are no longer required.\n",
    "df.drop(['day_of_last_rech_data_6','day_of_last_rech_data_7','day_of_last_rech_data_8'],axis=1,inplace=True)\n",
    "df.drop(['date_of_last_rech_6','date_of_last_rech_7','date_of_last_rech_8'],axis=1,inplace=True)\n",
    "df.drop(['date_of_last_rech_data_6','date_of_last_rech_data_7','date_of_last_rech_data_8'],axis=1,inplace=True)"
   ]
  },
  {
   "cell_type": "code",
   "execution_count": 283,
   "metadata": {},
   "outputs": [
    {
     "name": "stdout",
     "output_type": "stream",
     "text": [
      "Churn Statistics (mean and standard deviation):\n",
      "{6: 'arpu_6', 7: 'arpu_7', 8: 'arpu_8'}\n"
     ]
    },
    {
     "data": {
      "text/plain": [
       "<Figure size 1440x720 with 0 Axes>"
      ]
     },
     "metadata": {},
     "output_type": "display_data"
    },
    {
     "data": {
      "image/png": "[encoded data removed]",
      "text/plain": [
       "<Figure size 1440x720 with 3 Axes>"
      ]
     },
     "metadata": {
      "needs_background": "light"
     },
     "output_type": "display_data"
    },
    {
     "data": {
      "text/html": [
       "<div>\n",
       "<style scoped>\n",
       "    .dataframe tbody tr th:only-of-type {\n",
       "        vertical-align: middle;\n",
       "    }\n",
       "\n",
       "    .dataframe tbody tr th {\n",
       "        vertical-align: top;\n",
       "    }\n",
       "\n",
       "    .dataframe thead th {\n",
       "        text-align: right;\n",
       "    }\n",
       "</style>\n",
       "<table border=\"1\" class=\"dataframe\">\n",
       "  <thead>\n",
       "    <tr style=\"text-align: right;\">\n",
       "      <th></th>\n",
       "      <th>mean_6</th>\n",
       "      <th>mean_7</th>\n",
       "      <th>mean_8</th>\n",
       "      <th>std_6</th>\n",
       "      <th>std_7</th>\n",
       "      <th>std_8</th>\n",
       "    </tr>\n",
       "  </thead>\n",
       "  <tbody>\n",
       "    <tr>\n",
       "      <th>Churned</th>\n",
       "      <td>549.220</td>\n",
       "      <td>562.608</td>\n",
       "      <td>532.636</td>\n",
       "      <td>446.851</td>\n",
       "      <td>474.005</td>\n",
       "      <td>503.944</td>\n",
       "    </tr>\n",
       "    <tr>\n",
       "      <th>Non Churned</th>\n",
       "      <td>663.158</td>\n",
       "      <td>540.166</td>\n",
       "      <td>237.201</td>\n",
       "      <td>584.538</td>\n",
       "      <td>540.367</td>\n",
       "      <td>386.441</td>\n",
       "    </tr>\n",
       "  </tbody>\n",
       "</table>\n",
       "</div>"
      ],
      "text/plain": [
       "              mean_6   mean_7   mean_8    std_6    std_7    std_8\n",
       "Churned      549.220  562.608  532.636  446.851  474.005  503.944\n",
       "Non Churned  663.158  540.166  237.201  584.538  540.367  386.441"
      ]
     },
     "execution_count": 283,
     "metadata": {},
     "output_type": "execute_result"
    }
   ],
   "source": [
    "#Analyzing average revenue per user\n",
    "arpu_cols = df.columns[df.columns.str.contains('arpu_')]\n",
    "\n",
    "#Analyze arpu\n",
    "analyze_col('arpu')"
   ]
  },
  {
   "cell_type": "markdown",
   "metadata": {},
   "source": [
    "As we can see above the average revenue per user also drops in the action phase.\n"
   ]
  },
  {
   "cell_type": "code",
   "execution_count": 284,
   "metadata": {},
   "outputs": [],
   "source": [
    "#Deriving new column average revenue per user in good phase.\n",
    "\n",
    "df['arpu_good_ph'] = (df.arpu_6 + df.arpu_7)/2\n",
    "\n",
    "#Dropping original columns\n",
    "df.drop(['arpu_6','arpu_7'],axis=1,inplace=True)"
   ]
  },
  {
   "cell_type": "code",
   "execution_count": 285,
   "metadata": {},
   "outputs": [
    {
     "data": {
      "text/plain": [
       "Index(['loc_og_t2o_mou', 'std_og_t2o_mou', 'loc_ic_t2o_mou', 'onnet_mou_6',\n",
       "       'onnet_mou_7', 'onnet_mou_8', 'offnet_mou_6', 'offnet_mou_7',\n",
       "       'offnet_mou_8', 'roam_ic_mou_6', 'roam_ic_mou_7', 'roam_ic_mou_8',\n",
       "       'roam_og_mou_6', 'roam_og_mou_7', 'roam_og_mou_8', 'loc_og_t2t_mou_6',\n",
       "       'loc_og_t2t_mou_7', 'loc_og_t2t_mou_8', 'loc_og_t2m_mou_6',\n",
       "       'loc_og_t2m_mou_7', 'loc_og_t2m_mou_8', 'loc_og_t2f_mou_6',\n",
       "       'loc_og_t2f_mou_7', 'loc_og_t2f_mou_8', 'loc_og_t2c_mou_6',\n",
       "       'loc_og_t2c_mou_7', 'loc_og_t2c_mou_8', 'loc_og_mou_6', 'loc_og_mou_7',\n",
       "       'loc_og_mou_8', 'std_og_t2t_mou_6', 'std_og_t2t_mou_7',\n",
       "       'std_og_t2t_mou_8', 'std_og_t2m_mou_6', 'std_og_t2m_mou_7',\n",
       "       'std_og_t2m_mou_8', 'std_og_t2f_mou_6', 'std_og_t2f_mou_7',\n",
       "       'std_og_t2f_mou_8', 'std_og_t2c_mou_6', 'std_og_t2c_mou_7',\n",
       "       'std_og_t2c_mou_8', 'std_og_mou_6', 'std_og_mou_7', 'std_og_mou_8',\n",
       "       'isd_og_mou_6', 'isd_og_mou_7', 'isd_og_mou_8', 'spl_og_mou_6',\n",
       "       'spl_og_mou_7', 'spl_og_mou_8', 'total_og_mou_6', 'total_og_mou_7',\n",
       "       'total_og_mou_8', 'loc_ic_t2t_mou_6', 'loc_ic_t2t_mou_7',\n",
       "       'loc_ic_t2t_mou_8', 'loc_ic_t2m_mou_6', 'loc_ic_t2m_mou_7',\n",
       "       'loc_ic_t2m_mou_8', 'loc_ic_t2f_mou_6', 'loc_ic_t2f_mou_7',\n",
       "       'loc_ic_t2f_mou_8', 'loc_ic_mou_6', 'loc_ic_mou_7', 'loc_ic_mou_8',\n",
       "       'std_ic_t2t_mou_6', 'std_ic_t2t_mou_7', 'std_ic_t2t_mou_8',\n",
       "       'std_ic_t2m_mou_6', 'std_ic_t2m_mou_7', 'std_ic_t2m_mou_8',\n",
       "       'std_ic_t2f_mou_6', 'std_ic_t2f_mou_7', 'std_ic_t2f_mou_8',\n",
       "       'std_ic_t2o_mou_6', 'std_ic_t2o_mou_7', 'std_ic_t2o_mou_8',\n",
       "       'std_ic_mou_6', 'std_ic_mou_7', 'std_ic_mou_8', 'total_ic_mou_6',\n",
       "       'total_ic_mou_7', 'total_ic_mou_8', 'spl_ic_mou_6', 'spl_ic_mou_7',\n",
       "       'spl_ic_mou_8', 'isd_ic_mou_6', 'isd_ic_mou_7', 'isd_ic_mou_8'],\n",
       "      dtype='object')"
      ]
     },
     "execution_count": 285,
     "metadata": {},
     "output_type": "execute_result"
    }
   ],
   "source": [
    "#Lets check the mou columns now and try to derive new feature if possible\n",
    "\n",
    "mou_cols = df.columns[df.columns.str.contains('mou')]\n",
    "mou_cols"
   ]
  },
  {
   "cell_type": "code",
   "execution_count": 286,
   "metadata": {},
   "outputs": [
    {
     "data": {
      "text/plain": [
       "array(['loc_og_t2o_mou', 'std_og_t2o_mou', 'loc_ic_t2o_mou',\n",
       "       'std_og_t2c_mou_6', 'std_og_t2c_mou_7', 'std_og_t2c_mou_8',\n",
       "       'std_ic_t2o_mou_6', 'std_ic_t2o_mou_7', 'std_ic_t2o_mou_8'],\n",
       "      dtype=object)"
      ]
     },
     "execution_count": 286,
     "metadata": {},
     "output_type": "execute_result"
    }
   ],
   "source": [
    "#Checking from the mou columns if there are any columns which has standard deviation zero \n",
    "#which means it wont add any value and we can drop those columns.\n",
    "\n",
    "mou_zero_cols = df.loc[:,mou_cols].std()[df.loc[:,mou_cols].std()==0].index.values\n",
    "\n",
    "mou_zero_cols"
   ]
  },
  {
   "cell_type": "code",
   "execution_count": 287,
   "metadata": {},
   "outputs": [],
   "source": [
    "#Dropping above cols\n",
    "\n",
    "df.drop(list(mou_zero_cols),axis=1,inplace=True)"
   ]
  },
  {
   "cell_type": "code",
   "execution_count": 288,
   "metadata": {},
   "outputs": [
    {
     "data": {
      "text/plain": [
       "onnet_mou_6         1.816606\n",
       "onnet_mou_7         1.789940\n",
       "onnet_mou_8         3.913203\n",
       "offnet_mou_6        1.816606\n",
       "offnet_mou_7        1.789940\n",
       "offnet_mou_8        3.913203\n",
       "roam_ic_mou_6       1.816606\n",
       "roam_ic_mou_7       1.789940\n",
       "roam_ic_mou_8       3.913203\n",
       "roam_og_mou_6       1.816606\n",
       "roam_og_mou_7       1.789940\n",
       "roam_og_mou_8       3.913203\n",
       "loc_og_t2t_mou_6    1.816606\n",
       "loc_og_t2t_mou_7    1.789940\n",
       "loc_og_t2t_mou_8    3.913203\n",
       "loc_og_t2m_mou_6    1.816606\n",
       "loc_og_t2m_mou_7    1.789940\n",
       "loc_og_t2m_mou_8    3.913203\n",
       "loc_og_t2f_mou_6    1.816606\n",
       "loc_og_t2f_mou_7    1.789940\n",
       "loc_og_t2f_mou_8    3.913203\n",
       "loc_og_t2c_mou_6    1.816606\n",
       "loc_og_t2c_mou_7    1.789940\n",
       "loc_og_t2c_mou_8    3.913203\n",
       "loc_og_mou_6        1.816606\n",
       "loc_og_mou_7        1.789940\n",
       "loc_og_mou_8        3.913203\n",
       "std_og_t2t_mou_6    1.816606\n",
       "std_og_t2t_mou_7    1.789940\n",
       "std_og_t2t_mou_8    3.913203\n",
       "                      ...   \n",
       "loc_ic_t2m_mou_6    1.816606\n",
       "loc_ic_t2m_mou_7    1.789940\n",
       "loc_ic_t2m_mou_8    3.913203\n",
       "loc_ic_t2f_mou_6    1.816606\n",
       "loc_ic_t2f_mou_7    1.789940\n",
       "loc_ic_t2f_mou_8    3.913203\n",
       "loc_ic_mou_6        1.816606\n",
       "loc_ic_mou_7        1.789940\n",
       "loc_ic_mou_8        3.913203\n",
       "std_ic_t2t_mou_6    1.816606\n",
       "std_ic_t2t_mou_7    1.789940\n",
       "std_ic_t2t_mou_8    3.913203\n",
       "std_ic_t2m_mou_6    1.816606\n",
       "std_ic_t2m_mou_7    1.789940\n",
       "std_ic_t2m_mou_8    3.913203\n",
       "std_ic_t2f_mou_6    1.816606\n",
       "std_ic_t2f_mou_7    1.789940\n",
       "std_ic_t2f_mou_8    3.913203\n",
       "std_ic_mou_6        1.816606\n",
       "std_ic_mou_7        1.789940\n",
       "std_ic_mou_8        3.913203\n",
       "total_ic_mou_6      0.000000\n",
       "total_ic_mou_7      0.000000\n",
       "total_ic_mou_8      0.000000\n",
       "spl_ic_mou_6        1.816606\n",
       "spl_ic_mou_7        1.789940\n",
       "spl_ic_mou_8        3.913203\n",
       "isd_ic_mou_6        1.816606\n",
       "isd_ic_mou_7        1.789940\n",
       "isd_ic_mou_8        3.913203\n",
       "Length: 81, dtype: float64"
      ]
     },
     "execution_count": 288,
     "metadata": {},
     "output_type": "execute_result"
    }
   ],
   "source": [
    "#Checking null values in mou cols\n",
    "\n",
    "mou_cols = df.columns[df.columns.str.contains('mou')]\n",
    "100*df.loc[:,mou_cols].isnull().sum()/len(df.loc[:,mou_cols])"
   ]
  },
  {
   "cell_type": "code",
   "execution_count": 289,
   "metadata": {},
   "outputs": [],
   "source": [
    "#For the missing values in mou calls, it means that customer have not done any recharge that month. \n",
    "#We can replace those values with zero.\n",
    "\n",
    "df.loc[:,mou_cols] = df.loc[:,mou_cols].replace(np.NaN,0)"
   ]
  },
  {
   "cell_type": "markdown",
   "metadata": {},
   "source": [
    "Lets analyze below sub groups of mou\n",
    "\n",
    "- offnet: all kinds of calls outside operator network\n",
    "- onnet: all kinds of call within same operator network\n",
    "- og: outgoing calls\n",
    "- ic: incoming calls\n"
   ]
  },
  {
   "cell_type": "code",
   "execution_count": 290,
   "metadata": {},
   "outputs": [
    {
     "data": {
      "text/plain": [
       "Index(['onnet_mou_6', 'offnet_mou_6', 'roam_ic_mou_6', 'roam_og_mou_6',\n",
       "       'loc_og_t2t_mou_6', 'loc_og_t2m_mou_6', 'loc_og_t2f_mou_6',\n",
       "       'loc_og_t2c_mou_6', 'loc_og_mou_6', 'std_og_t2t_mou_6',\n",
       "       'std_og_t2m_mou_6', 'std_og_t2f_mou_6', 'std_og_mou_6', 'isd_og_mou_6',\n",
       "       'spl_og_mou_6', 'total_og_mou_6', 'loc_ic_t2t_mou_6',\n",
       "       'loc_ic_t2m_mou_6', 'loc_ic_t2f_mou_6', 'loc_ic_mou_6',\n",
       "       'std_ic_t2t_mou_6', 'std_ic_t2m_mou_6', 'std_ic_t2f_mou_6',\n",
       "       'std_ic_mou_6', 'total_ic_mou_6', 'spl_ic_mou_6', 'isd_ic_mou_6'],\n",
       "      dtype='object')"
      ]
     },
     "execution_count": 290,
     "metadata": {},
     "output_type": "execute_result"
    }
   ],
   "source": [
    "#Mou cols for month 6\n",
    "\n",
    "mou_cols_6 = df.columns[df.columns.str.contains('mou_6')]\n",
    "mou_cols_6"
   ]
  },
  {
   "cell_type": "code",
   "execution_count": 291,
   "metadata": {},
   "outputs": [
    {
     "data": {
      "image/png": "[encoded data removed]",
      "text/plain": [
       "<Figure size 720x576 with 2 Axes>"
      ]
     },
     "metadata": {
      "needs_background": "light"
     },
     "output_type": "display_data"
    }
   ],
   "source": [
    "#analyzing outgoing mou variables.\n",
    "mou_og_cols6 = df.columns[df.columns.str.contains('.*_og_.*mou_6',regex=True)]\n",
    "\n",
    "# analyzing heatmap among quantitative varibales\n",
    "plt.figure(figsize=(10, 8))\n",
    "sns.heatmap(df.loc[:,mou_og_cols6].corr())\n",
    "plt.show()"
   ]
  },
  {
   "cell_type": "markdown",
   "metadata": {},
   "source": [
    "#From the above heatmap we can conclude the following\n",
    "\n",
    "- total_og_mou_6 = loc_og_mou_6+std_og_mou_6+spl_og_mou_6+isd_og_mou_6+ roam_og_mou_6+og_others_6\n",
    "- loc_og_mou_6 = loc_og_t2m_mou_6+loc_og_t2t_mou_6+loc_og_t2f_mou_6 + loc_og_2tc_mou_6\n",
    "- std_og_mou_6 = std_og_t2m_mou_6+std_og_t2t_mou_6+std_og_t2f_mou_6 + std_og_2tc_mou_6"
   ]
  },
  {
   "cell_type": "code",
   "execution_count": 292,
   "metadata": {},
   "outputs": [
    {
     "name": "stdout",
     "output_type": "stream",
     "text": [
      "487.53 487.52000000000004\n",
      "422.16 422.15\n",
      "60.86 60.849999999999994\n"
     ]
    }
   ],
   "source": [
    "#Confirming the above relationship\n",
    "\n",
    "print(df.loc[7,'total_og_mou_6'],df.loc[7,['loc_og_mou_6','std_og_mou_6','spl_og_mou_6','isd_og_mou_6','og_others_6']].sum())\n",
    "print(df.loc[7,'loc_og_mou_6'],df.loc[7,['loc_og_t2m_mou_6','loc_og_t2t_mou_6','loc_og_t2f_mou_6','loc_og_2tc_mou_6']].sum())\n",
    "print(df.loc[7,'std_og_mou_6'],df.loc[7,['std_og_t2m_mou_6','std_og_t2t_mou_6','std_og_t2f_mou_6','std_og_loc_mou_6']].sum())\n"
   ]
  },
  {
   "cell_type": "code",
   "execution_count": 293,
   "metadata": {},
   "outputs": [],
   "source": [
    "#SInce we already have variables describing total_og_mou_6, loc_og_mou_6 and std_og_mou_6\n",
    "#we can drop those columns\n",
    "\n",
    "total_std_loc_og_cols = df.columns[df.columns.str.contains('total_og_mou|std_og_mou|loc_og_mou',regex=True)]\n",
    "df.drop(total_std_loc_og_cols,axis=1,inplace=True)"
   ]
  },
  {
   "cell_type": "code",
   "execution_count": 294,
   "metadata": {},
   "outputs": [],
   "source": [
    "#Defining good phase derived variables for all og components.\n",
    "df['spl_og_mou_good_ph'] = (df.spl_og_mou_6 + df.spl_og_mou_7)/2\n",
    "df['isd_og_mou_good_ph'] = (df.isd_og_mou_6 + df.isd_og_mou_7)/2\n",
    "df['roam_og_mou_good_ph'] = (df.roam_og_mou_6 + df.roam_og_mou_7)/2\n",
    "df['std_og_t2m_mou_good_ph'] = (df.std_og_t2m_mou_6 + df.std_og_t2m_mou_7)/2\n",
    "df['std_og_t2t_mou_good_ph'] = (df.std_og_t2t_mou_6 + df.std_og_t2t_mou_7)/2\n",
    "df['std_og_t2f_mou_good_ph'] = (df.std_og_t2f_mou_6 + df.std_og_t2f_mou_7)/2\n",
    "\n",
    "df['loc_og_t2m_mou_good_ph'] = (df.loc_og_t2m_mou_6 + df.loc_og_t2m_mou_7)/2\n",
    "df['loc_og_t2t_mou_good_ph'] = (df.loc_og_t2t_mou_6 + df.loc_og_t2t_mou_7)/2\n",
    "df['loc_og_t2f_mou_good_ph'] = (df.loc_og_t2f_mou_6 + df.loc_og_t2f_mou_7)/2\n",
    "df['loc_og_t2c_mou_good_ph'] = (df.loc_og_t2c_mou_6 + df.loc_og_t2c_mou_7)/2\n"
   ]
  },
  {
   "cell_type": "code",
   "execution_count": 295,
   "metadata": {},
   "outputs": [],
   "source": [
    "# dropping the original og mou cols\n",
    "og_mou_cols = df.columns[df.columns.str.contains('.*_og_.*mou_6|.*_og_.*mou_7',regex=True)]\n",
    "\n",
    "df.drop(og_mou_cols,axis=1,inplace=True)"
   ]
  },
  {
   "cell_type": "code",
   "execution_count": 296,
   "metadata": {},
   "outputs": [
    {
     "name": "stdout",
     "output_type": "stream",
     "text": [
      "626.46 626.92\n",
      "427.88 427.86\n",
      "180.54 180.51999999999998\n"
     ]
    }
   ],
   "source": [
    "#LEts check the same for incoming mou variables\n",
    "\n",
    "mou_ic_cols6 = df.columns[df.columns.str.contains('.*_ic_.*mou_6',regex=True)]\n",
    "\n",
    "print(df.loc[7,'total_ic_mou_6'],df.loc[7,['loc_ic_mou_6','roam_ic_mou_6','isd_ic_mou_6','spl_ic_mou_6','std_ic_mou_6']].sum())\n",
    "print(df.loc[7,'loc_ic_mou_6'],df.loc[7,['loc_ic_t2t_mou_6','loc_ic_t2m_mou_6','loc_ic_t2f_mou_6','loc_ic_t2c_mou_6']].sum())\n",
    "print(df.loc[7,'std_ic_mou_6'],df.loc[7,['std_ic_t2t_mou_6','std_ic_t2m_mou_6','std_ic_t2f_mou_6','std_ic_t2c_mou_6']].sum())"
   ]
  },
  {
   "cell_type": "markdown",
   "metadata": {},
   "source": [
    "We find similar relationship to the og variables. We can delete these columns"
   ]
  },
  {
   "cell_type": "code",
   "execution_count": 297,
   "metadata": {},
   "outputs": [],
   "source": [
    "#Dropping the cols\n",
    "total_std_loc_ic_cols = df.columns[df.columns.str.contains('total_ic_mou|std_ic_mou|loc_ic_mou',regex=True)]\n",
    "df.drop(total_std_loc_ic_cols,axis=1,inplace=True)"
   ]
  },
  {
   "cell_type": "code",
   "execution_count": 298,
   "metadata": {},
   "outputs": [],
   "source": [
    "#adding new good phase derive variables for all incoming variables:\n",
    "df['spl_ic_mou_good_ph'] = (df.spl_ic_mou_6 + df.spl_ic_mou_7)/2\n",
    "df['isd_ic_mou_good_ph'] = (df.isd_ic_mou_6 + df.isd_ic_mou_7)/2\n",
    "df['roam_ic_mou_good_ph'] = (df.roam_ic_mou_6 + df.roam_ic_mou_7)/2\n",
    "df['std_ic_t2m_mou_good_ph'] = (df.std_ic_t2m_mou_6 + df.std_ic_t2m_mou_7)/2\n",
    "df['std_ic_t2t_mou_good_ph'] = (df.std_ic_t2t_mou_6 + df.std_ic_t2t_mou_7)/2\n",
    "df['std_ic_t2f_mou_good_ph'] = (df.std_ic_t2f_mou_6 + df.std_ic_t2f_mou_7)/2\n",
    "\n",
    "df['loc_ic_t2m_mou_good_ph'] = (df.loc_ic_t2m_mou_6 + df.loc_ic_t2m_mou_7)/2\n",
    "df['loc_ic_t2t_mou_good_ph'] = (df.loc_ic_t2t_mou_6 + df.loc_ic_t2t_mou_7)/2\n",
    "df['loc_ic_t2f_mou_good_ph'] = (df.loc_ic_t2f_mou_6 + df.loc_ic_t2f_mou_7)/2"
   ]
  },
  {
   "cell_type": "code",
   "execution_count": 299,
   "metadata": {},
   "outputs": [],
   "source": [
    "#Dropping the original ic cols\n",
    "\n",
    "ic_cols = df.columns[df.columns.str.contains('.*_ic_.*mou_6|.*_ic_.*mou_7',regex=True)]\n",
    "\n",
    "df.drop(ic_cols,axis=1,inplace=True)"
   ]
  },
  {
   "cell_type": "code",
   "execution_count": 300,
   "metadata": {},
   "outputs": [
    {
     "name": "stdout",
     "output_type": "stream",
     "text": [
      "Churn Statistics (mean and standard deviation):\n",
      "{6: 'offnet_mou_6', 7: 'offnet_mou_7', 8: 'offnet_mou_8'}\n"
     ]
    },
    {
     "data": {
      "text/plain": [
       "<Figure size 1440x720 with 0 Axes>"
      ]
     },
     "metadata": {},
     "output_type": "display_data"
    },
    {
     "data": {
      "image/png": "[encoded data removed]",
      "text/plain": [
       "<Figure size 1440x720 with 3 Axes>"
      ]
     },
     "metadata": {
      "needs_background": "light"
     },
     "output_type": "display_data"
    },
    {
     "data": {
      "text/html": [
       "<div>\n",
       "<style scoped>\n",
       "    .dataframe tbody tr th:only-of-type {\n",
       "        vertical-align: middle;\n",
       "    }\n",
       "\n",
       "    .dataframe tbody tr th {\n",
       "        vertical-align: top;\n",
       "    }\n",
       "\n",
       "    .dataframe thead th {\n",
       "        text-align: right;\n",
       "    }\n",
       "</style>\n",
       "<table border=\"1\" class=\"dataframe\">\n",
       "  <thead>\n",
       "    <tr style=\"text-align: right;\">\n",
       "      <th></th>\n",
       "      <th>mean_6</th>\n",
       "      <th>mean_7</th>\n",
       "      <th>mean_8</th>\n",
       "      <th>std_6</th>\n",
       "      <th>std_7</th>\n",
       "      <th>std_8</th>\n",
       "    </tr>\n",
       "  </thead>\n",
       "  <tbody>\n",
       "    <tr>\n",
       "      <th>Churned</th>\n",
       "      <td>365.046</td>\n",
       "      <td>377.810</td>\n",
       "      <td>352.510</td>\n",
       "      <td>463.187</td>\n",
       "      <td>489.360</td>\n",
       "      <td>490.182</td>\n",
       "    </tr>\n",
       "    <tr>\n",
       "      <th>Non Churned</th>\n",
       "      <td>471.331</td>\n",
       "      <td>381.416</td>\n",
       "      <td>138.249</td>\n",
       "      <td>655.048</td>\n",
       "      <td>596.465</td>\n",
       "      <td>317.998</td>\n",
       "    </tr>\n",
       "  </tbody>\n",
       "</table>\n",
       "</div>"
      ],
      "text/plain": [
       "              mean_6   mean_7   mean_8    std_6    std_7    std_8\n",
       "Churned      365.046  377.810  352.510  463.187  489.360  490.182\n",
       "Non Churned  471.331  381.416  138.249  655.048  596.465  317.998"
      ]
     },
     "execution_count": 300,
     "metadata": {},
     "output_type": "execute_result"
    }
   ],
   "source": [
    "#Lets analyse the offnet variables\n",
    "offnet_cols = df.columns[df.columns.str.contains('offnet',regex=True)]\n",
    "    \n",
    "analyze_col('offnet_mou')"
   ]
  },
  {
   "cell_type": "markdown",
   "metadata": {},
   "source": [
    "There is a remarkable decrease in offnet mou in the action phase."
   ]
  },
  {
   "cell_type": "code",
   "execution_count": 301,
   "metadata": {},
   "outputs": [],
   "source": [
    "#Deriving new column offnet_mou_good_ph\n",
    "df['offnet_mou_good_ph'] = (df.offnet_mou_6 + df.offnet_mou_7)/2\n",
    "\n",
    "#dropping the original column\n",
    "df.drop(['offnet_mou_6','offnet_mou_7'],axis=1,inplace=True)"
   ]
  },
  {
   "cell_type": "code",
   "execution_count": 302,
   "metadata": {},
   "outputs": [
    {
     "name": "stdout",
     "output_type": "stream",
     "text": [
      "Churn Statistics (mean and standard deviation):\n",
      "{6: 'onnet_mou_6', 7: 'onnet_mou_7', 8: 'onnet_mou_8'}\n"
     ]
    },
    {
     "data": {
      "text/plain": [
       "<Figure size 1440x720 with 0 Axes>"
      ]
     },
     "metadata": {},
     "output_type": "display_data"
    },
    {
     "data": {
      "image/png": "[encoded data removed]",
      "text/plain": [
       "<Figure size 1440x720 with 3 Axes>"
      ]
     },
     "metadata": {
      "needs_background": "light"
     },
     "output_type": "display_data"
    },
    {
     "data": {
      "text/html": [
       "<div>\n",
       "<style scoped>\n",
       "    .dataframe tbody tr th:only-of-type {\n",
       "        vertical-align: middle;\n",
       "    }\n",
       "\n",
       "    .dataframe tbody tr th {\n",
       "        vertical-align: top;\n",
       "    }\n",
       "\n",
       "    .dataframe thead th {\n",
       "        text-align: right;\n",
       "    }\n",
       "</style>\n",
       "<table border=\"1\" class=\"dataframe\">\n",
       "  <thead>\n",
       "    <tr style=\"text-align: right;\">\n",
       "      <th></th>\n",
       "      <th>mean_6</th>\n",
       "      <th>mean_7</th>\n",
       "      <th>mean_8</th>\n",
       "      <th>std_6</th>\n",
       "      <th>std_7</th>\n",
       "      <th>std_8</th>\n",
       "    </tr>\n",
       "  </thead>\n",
       "  <tbody>\n",
       "    <tr>\n",
       "      <th>Churned</th>\n",
       "      <td>251.204</td>\n",
       "      <td>265.641</td>\n",
       "      <td>244.819</td>\n",
       "      <td>442.807</td>\n",
       "      <td>474.160</td>\n",
       "      <td>465.992</td>\n",
       "    </tr>\n",
       "    <tr>\n",
       "      <th>Non Churned</th>\n",
       "      <td>369.058</td>\n",
       "      <td>292.408</td>\n",
       "      <td>113.227</td>\n",
       "      <td>608.456</td>\n",
       "      <td>541.016</td>\n",
       "      <td>339.978</td>\n",
       "    </tr>\n",
       "  </tbody>\n",
       "</table>\n",
       "</div>"
      ],
      "text/plain": [
       "              mean_6   mean_7   mean_8    std_6    std_7    std_8\n",
       "Churned      251.204  265.641  244.819  442.807  474.160  465.992\n",
       "Non Churned  369.058  292.408  113.227  608.456  541.016  339.978"
      ]
     },
     "execution_count": 302,
     "metadata": {},
     "output_type": "execute_result"
    }
   ],
   "source": [
    "#Analyzing mou onnet cols\n",
    "onnet_cols =  df.columns[df.columns.str.contains('^onnet.*mou',regex=True)]\n",
    "analyze_col('onnet_mou')"
   ]
  },
  {
   "cell_type": "markdown",
   "metadata": {},
   "source": [
    "Similiar pattern here too. We can see significant decrease in onnet customers in the 8th month."
   ]
  },
  {
   "cell_type": "code",
   "execution_count": 303,
   "metadata": {},
   "outputs": [],
   "source": [
    "#Deriving new feature onnet_mou_good_ph\n",
    "df['onnet_mou_good_ph'] = (df.onnet_mou_6 + df.onnet_mou_7)/2\n",
    "\n",
    "#Dropping the original columns.\n",
    "df.drop(['onnet_mou_6','onnet_mou_7'],axis=1,inplace=True)"
   ]
  },
  {
   "cell_type": "markdown",
   "metadata": {},
   "source": [
    "We can derive new features for others ic and og cols. "
   ]
  },
  {
   "cell_type": "code",
   "execution_count": 304,
   "metadata": {},
   "outputs": [],
   "source": [
    "#Creating og_others_good_ph and ic_others_good_ph\n",
    "df['og_others_good_ph'] = (df.og_others_6 + df.og_others_7)/2\n",
    "df['ic_others_good_ph'] = (df.ic_others_6 + df.ic_others_6)/2\n",
    "\n",
    "\n",
    "#dropping the original columns.\n",
    "df.drop(['og_others_6','og_others_7','ic_others_6','ic_others_7'],axis=1,inplace=True)"
   ]
  },
  {
   "cell_type": "code",
   "execution_count": 305,
   "metadata": {},
   "outputs": [
    {
     "data": {
      "text/plain": [
       "og_others_8                     3.913203\n",
       "ic_others_8                     3.913203\n",
       "night_pck_user_6               44.148528\n",
       "night_pck_user_7               43.145228\n",
       "night_pck_user_8               46.825106\n",
       "fb_user_6                      44.148528\n",
       "fb_user_7                      43.145228\n",
       "fb_user_8                      46.825106\n",
       "day_of_last_rech_shift          2.306590\n",
       "day_of_last_rech_data_shift    59.904670\n",
       "og_others_good_ph               2.606580\n",
       "ic_others_good_ph               1.816606\n",
       "dtype: float64"
      ]
     },
     "execution_count": 305,
     "metadata": {},
     "output_type": "execute_result"
    }
   ],
   "source": [
    "#Checking if there are anymore cols having null values\n",
    "\n",
    "is_na = df.isnull().sum()/len(df) > 0\n",
    "100*df.loc[:,is_na].isnull().sum()/len(df.loc[:,is_na])"
   ]
  },
  {
   "cell_type": "code",
   "execution_count": 306,
   "metadata": {},
   "outputs": [],
   "source": [
    "#Lets drop cols more than 40% null values as they dont add much value and we already have component features\n",
    "is_na_40 = df.isnull().sum()/len(df) > 0.40\n",
    "df.drop(df.columns[is_na_40],axis=1,inplace=True)"
   ]
  },
  {
   "cell_type": "code",
   "execution_count": 307,
   "metadata": {},
   "outputs": [
    {
     "data": {
      "text/plain": [
       "og_others_8               3.913203\n",
       "ic_others_8               3.913203\n",
       "day_of_last_rech_shift    2.306590\n",
       "og_others_good_ph         2.606580\n",
       "ic_others_good_ph         1.816606\n",
       "dtype: float64"
      ]
     },
     "execution_count": 307,
     "metadata": {},
     "output_type": "execute_result"
    }
   ],
   "source": [
    "#Checking if there are anymore cols having null values\n",
    "\n",
    "is_na = df.isnull().sum()/len(df) > 0\n",
    "100*df.loc[:,is_na].isnull().sum()/len(df.loc[:,is_na])"
   ]
  },
  {
   "cell_type": "markdown",
   "metadata": {},
   "source": [
    "The percentage for above is really low and we can replace these with zero "
   ]
  },
  {
   "cell_type": "code",
   "execution_count": 308,
   "metadata": {},
   "outputs": [],
   "source": [
    "#Replacing remaining null values with zero\n",
    "df.loc[:,:] = df.loc[:,:].replace(np.NaN,0)"
   ]
  },
  {
   "cell_type": "markdown",
   "metadata": {},
   "source": [
    "### Model Building"
   ]
  },
  {
   "cell_type": "code",
   "execution_count": 309,
   "metadata": {},
   "outputs": [],
   "source": [
    "#Assigning variables to X and y\n",
    "X = df.drop(['churn','mobile_number'],axis=1)\n",
    "y = df['churn']"
   ]
  },
  {
   "cell_type": "code",
   "execution_count": 310,
   "metadata": {},
   "outputs": [
    {
     "name": "stdout",
     "output_type": "stream",
     "text": [
      "['total_rech_amt_good_ph' 'total_rech_amt_data_good_ph'\n",
      " 'max_rech_amt_good_ph' 'last_day_rch_amt_good_ph' 'max_rech_data_good_ph'\n",
      " 'total_rech_num_good_ph' 'vol_2g_mb_good_ph' 'vol_3g_mb_good_ph'\n",
      " 'monthly_2g_good_ph' 'monthly_3g_good_ph' 'vbc_3g_good_ph'\n",
      " 'sachet_2g_good_ph' 'sachet_3g_good_ph' 'arpu_good_ph'\n",
      " 'spl_og_mou_good_ph' 'isd_og_mou_good_ph' 'roam_og_mou_good_ph'\n",
      " 'std_og_t2m_mou_good_ph' 'std_og_t2t_mou_good_ph'\n",
      " 'std_og_t2f_mou_good_ph' 'loc_og_t2m_mou_good_ph'\n",
      " 'loc_og_t2t_mou_good_ph' 'loc_og_t2f_mou_good_ph'\n",
      " 'loc_og_t2c_mou_good_ph' 'spl_ic_mou_good_ph' 'isd_ic_mou_good_ph'\n",
      " 'roam_ic_mou_good_ph' 'std_ic_t2m_mou_good_ph' 'std_ic_t2t_mou_good_ph'\n",
      " 'std_ic_t2f_mou_good_ph' 'loc_ic_t2m_mou_good_ph'\n",
      " 'loc_ic_t2t_mou_good_ph' 'loc_ic_t2f_mou_good_ph' 'offnet_mou_good_ph'\n",
      " 'onnet_mou_good_ph' 'og_others_good_ph' 'ic_others_good_ph']\n",
      "['arpu_8' 'onnet_mou_8' 'offnet_mou_8' 'roam_ic_mou_8' 'roam_og_mou_8'\n",
      " 'loc_og_t2t_mou_8' 'loc_og_t2m_mou_8' 'loc_og_t2f_mou_8'\n",
      " 'loc_og_t2c_mou_8' 'std_og_t2t_mou_8' 'std_og_t2m_mou_8'\n",
      " 'std_og_t2f_mou_8' 'isd_og_mou_8' 'spl_og_mou_8' 'og_others_8'\n",
      " 'loc_ic_t2t_mou_8' 'loc_ic_t2m_mou_8' 'loc_ic_t2f_mou_8'\n",
      " 'std_ic_t2t_mou_8' 'std_ic_t2m_mou_8' 'std_ic_t2f_mou_8' 'spl_ic_mou_8'\n",
      " 'isd_ic_mou_8' 'ic_others_8' 'total_rech_num_8' 'total_rech_amt_8'\n",
      " 'max_rech_amt_8' 'last_day_rch_amt_8' 'max_rech_data_8' 'vol_2g_mb_8'\n",
      " 'vol_3g_mb_8' 'monthly_2g_8' 'sachet_2g_8' 'monthly_3g_8' 'sachet_3g_8'\n",
      " 'vbc_3g_8' 'total_rech_amt_data_8']\n"
     ]
    }
   ],
   "source": [
    "#feature list & 8th month feature list\n",
    "good_phase_features = X.loc[:,X.columns.str.contains('good_ph')]\n",
    "features_8 = X.loc[:,X.columns.str.contains('_8')]\n",
    "\n",
    "print(good_phase_features.columns.values)\n",
    "print(features_8.columns.values)"
   ]
  },
  {
   "cell_type": "code",
   "execution_count": 311,
   "metadata": {},
   "outputs": [],
   "source": [
    "#Function to calculate difference between 8th month feature & good phase feature\n",
    "def good_action_ph (i,j):      \n",
    "    difference = 0.00\n",
    "    if np.isnan(i) and np.isnan(j):\n",
    "        difference = np.NAN\n",
    "    elif np.isnan(j) and ~np.isnan(i):\n",
    "        difference = i\n",
    "    elif ~np.isnan(j)and np.isnan(i):\n",
    "        difference = -j\n",
    "    else:\n",
    "        difference = i-j\n",
    "\n",
    "    return(difference)"
   ]
  },
  {
   "cell_type": "code",
   "execution_count": 312,
   "metadata": {},
   "outputs": [
    {
     "data": {
      "text/plain": [
       "array(['arpu_8', 'onnet_mou_8', 'offnet_mou_8', 'roam_ic_mou_8',\n",
       "       'roam_og_mou_8', 'loc_og_t2t_mou_8', 'loc_og_t2m_mou_8',\n",
       "       'loc_og_t2f_mou_8', 'loc_og_t2c_mou_8', 'std_og_t2t_mou_8',\n",
       "       'std_og_t2m_mou_8', 'std_og_t2f_mou_8', 'isd_og_mou_8',\n",
       "       'spl_og_mou_8', 'og_others_8', 'loc_ic_t2t_mou_8',\n",
       "       'loc_ic_t2m_mou_8', 'loc_ic_t2f_mou_8', 'std_ic_t2t_mou_8',\n",
       "       'std_ic_t2m_mou_8', 'std_ic_t2f_mou_8', 'spl_ic_mou_8',\n",
       "       'isd_ic_mou_8', 'ic_others_8', 'total_rech_num_8',\n",
       "       'total_rech_amt_8', 'max_rech_amt_8', 'last_day_rch_amt_8',\n",
       "       'max_rech_data_8', 'vol_2g_mb_8', 'vol_3g_mb_8', 'monthly_2g_8',\n",
       "       'sachet_2g_8', 'monthly_3g_8', 'sachet_3g_8', 'aon', 'vbc_3g_8',\n",
       "       'total_rech_amt_data_8', 'total_rech_amt_good_ph',\n",
       "       'total_rech_amt_data_good_ph', 'max_rech_amt_good_ph',\n",
       "       'last_day_rch_amt_good_ph', 'max_rech_data_good_ph',\n",
       "       'total_rech_num_good_ph', 'vol_2g_mb_good_ph', 'vol_3g_mb_good_ph',\n",
       "       'monthly_2g_good_ph', 'monthly_3g_good_ph', 'vbc_3g_good_ph',\n",
       "       'sachet_2g_good_ph', 'sachet_3g_good_ph', 'day_of_last_rech_shift',\n",
       "       'arpu_good_ph', 'spl_og_mou_good_ph', 'isd_og_mou_good_ph',\n",
       "       'roam_og_mou_good_ph', 'std_og_t2m_mou_good_ph',\n",
       "       'std_og_t2t_mou_good_ph', 'std_og_t2f_mou_good_ph',\n",
       "       'loc_og_t2m_mou_good_ph', 'loc_og_t2t_mou_good_ph',\n",
       "       'loc_og_t2f_mou_good_ph', 'loc_og_t2c_mou_good_ph',\n",
       "       'spl_ic_mou_good_ph', 'isd_ic_mou_good_ph', 'roam_ic_mou_good_ph',\n",
       "       'std_ic_t2m_mou_good_ph', 'std_ic_t2t_mou_good_ph',\n",
       "       'std_ic_t2f_mou_good_ph', 'loc_ic_t2m_mou_good_ph',\n",
       "       'loc_ic_t2t_mou_good_ph', 'loc_ic_t2f_mou_good_ph',\n",
       "       'offnet_mou_good_ph', 'onnet_mou_good_ph', 'og_others_good_ph',\n",
       "       'ic_others_good_ph'], dtype=object)"
      ]
     },
     "execution_count": 312,
     "metadata": {},
     "output_type": "execute_result"
    }
   ],
   "source": [
    "#getting copy of X \n",
    "\n",
    "X_1 = X.copy()\n",
    "X_1.columns.values"
   ]
  },
  {
   "cell_type": "code",
   "execution_count": 313,
   "metadata": {},
   "outputs": [
    {
     "data": {
      "text/plain": [
       "{'arpu',\n",
       " 'ic_others',\n",
       " 'isd_ic_mou',\n",
       " 'isd_og_mou',\n",
       " 'last_day_rch_amt',\n",
       " 'loc_ic_t2f_mou',\n",
       " 'loc_ic_t2m_mou',\n",
       " 'loc_ic_t2t_mou',\n",
       " 'loc_og_t2c_mou',\n",
       " 'loc_og_t2f_mou',\n",
       " 'loc_og_t2m_mou',\n",
       " 'loc_og_t2t_mou',\n",
       " 'max_rech_amt',\n",
       " 'max_rech_data',\n",
       " 'monthly_2g',\n",
       " 'monthly_3g',\n",
       " 'offnet_mou',\n",
       " 'og_others',\n",
       " 'onnet_mou',\n",
       " 'roam_ic_mou',\n",
       " 'roam_og_mou',\n",
       " 'sachet_2g',\n",
       " 'sachet_3g',\n",
       " 'spl_ic_mou',\n",
       " 'spl_og_mou',\n",
       " 'std_ic_t2f_mou',\n",
       " 'std_ic_t2m_mou',\n",
       " 'std_ic_t2t_mou',\n",
       " 'std_og_t2f_mou',\n",
       " 'std_og_t2m_mou',\n",
       " 'std_og_t2t_mou',\n",
       " 'total_rech_amt',\n",
       " 'total_rech_amt_data',\n",
       " 'total_rech_num',\n",
       " 'vbc_3g',\n",
       " 'vol_2g_mb',\n",
       " 'vol_3g_mb'}"
      ]
     },
     "execution_count": 313,
     "metadata": {},
     "output_type": "execute_result"
    }
   ],
   "source": [
    "#Extracting features without any good phase or 8th month indicator.\n",
    "features_list = set(map(lambda x: x.replace(\"_good_ph\", \"\"), good_phase_features))\n",
    "features_list"
   ]
  },
  {
   "cell_type": "code",
   "execution_count": 314,
   "metadata": {},
   "outputs": [],
   "source": [
    "#Deriving features for 8th month\n",
    "for f in features_list:\n",
    "    X_1[f+'_act_ph']= np.vectorize(good_action_ph)(X_1[f+'_8'], X_1[f+'_good_ph'])"
   ]
  },
  {
   "cell_type": "code",
   "execution_count": 315,
   "metadata": {},
   "outputs": [],
   "source": [
    "#Dropping original cols\n",
    "X_1.drop(features_8,axis=1,inplace=True)"
   ]
  },
  {
   "cell_type": "code",
   "execution_count": 316,
   "metadata": {},
   "outputs": [],
   "source": [
    "#Standardizing features\n",
    "\n",
    "from sklearn.preprocessing import StandardScaler\n",
    "cols = X_1.columns\n",
    "scaler = StandardScaler()\n",
    "X_scaled = scaler.fit_transform(X_1)\n",
    "X_scaled = pd.DataFrame(X_1, columns=cols)"
   ]
  },
  {
   "cell_type": "code",
   "execution_count": 317,
   "metadata": {},
   "outputs": [],
   "source": [
    "#Splitting the data into train & test sets\n",
    "X_train, X_test, y_train, y_test = train_test_split(X_scaled,y, train_size=0.7,test_size=0.3,random_state=100)"
   ]
  },
  {
   "cell_type": "code",
   "execution_count": 318,
   "metadata": {},
   "outputs": [],
   "source": [
    "#function to calculate & print model accuracy metrics.\n",
    "from sklearn.metrics import confusion_matrix,roc_auc_score,f1_score\n",
    "\n",
    "def Metrics(y_test,y_pred):\n",
    "    cp = confusion_matrix(y_test,y_pred)\n",
    "    sensitivity = cp[1,1]/(cp[1,0]+cp[1,1])\n",
    "    specificity =  cp[0,0]/(cp[0,1]+cp[0,0])\n",
    "    precision = cp[1,1]/(cp[0,1]+cp[1,1])\n",
    "    \n",
    "    #Print model metrics\n",
    "    print(\"Confusion Matrix:\")\n",
    "    print(cp)\n",
    "    print(\"AUC Score: \", roc_auc_score(y_test,y_pred)) \n",
    "    print(\"Precision: \",precision)\n",
    "    print(\"f1 Score: \",f1_score(y_test,y_pred))\n",
    "    print(\"Sensitivity: \", sensitivity)\n",
    "    print(\"Specificity: \",specificity)"
   ]
  },
  {
   "cell_type": "markdown",
   "metadata": {},
   "source": [
    "#### Building Logistic Regression Model "
   ]
  },
  {
   "cell_type": "code",
   "execution_count": 319,
   "metadata": {},
   "outputs": [],
   "source": [
    "from sklearn.linear_model import LogisticRegression\n",
    "lsr = LogisticRegression()\n",
    "lsr.fit(X_train,y_train)\n",
    "\n",
    "#Predict results on test\n",
    "y_pred = lsr.predict(X_test)"
   ]
  },
  {
   "cell_type": "code",
   "execution_count": 320,
   "metadata": {},
   "outputs": [
    {
     "name": "stdout",
     "output_type": "stream",
     "text": [
      "Confusion Matrix:\n",
      "[[8149  102]\n",
      " [ 523  227]]\n",
      "AUC Score:  0.6451522643719952\n",
      "Precision:  0.6899696048632219\n",
      "f1 Score:  0.4207599629286376\n",
      "Sensitivity:  0.30266666666666664\n",
      "Specificity:  0.987637862077324\n"
     ]
    }
   ],
   "source": [
    "#checking model evaluation metrics\n",
    "Metrics(y_test,y_pred)"
   ]
  },
  {
   "cell_type": "markdown",
   "metadata": {},
   "source": [
    "Since the data has only about 8% of churned customers, the model is biased. Hence very low Sensitivity and AUC score.\n",
    "We must handle data imbalance."
   ]
  },
  {
   "cell_type": "markdown",
   "metadata": {},
   "source": [
    "### Handling Data Imbalance"
   ]
  },
  {
   "cell_type": "markdown",
   "metadata": {},
   "source": [
    "#### SMOTE"
   ]
  },
  {
   "cell_type": "code",
   "execution_count": 321,
   "metadata": {},
   "outputs": [],
   "source": [
    "from imblearn import under_sampling, over_sampling\n",
    "from imblearn.over_sampling import SMOTE\n",
    "smote = SMOTE(kind = \"regular\")\n",
    "\n",
    "# SMOTE sampling the training data\n",
    "X_sm, y_sm = smote.fit_sample(X_train, y_train)"
   ]
  },
  {
   "cell_type": "code",
   "execution_count": 322,
   "metadata": {},
   "outputs": [
    {
     "data": {
      "text/plain": [
       "LogisticRegression(C=1.0, class_weight=None, dual=False, fit_intercept=True,\n",
       "          intercept_scaling=1, max_iter=100, multi_class='ovr', n_jobs=1,\n",
       "          penalty='l2', random_state=None, solver='liblinear', tol=0.0001,\n",
       "          verbose=0, warm_start=False)"
      ]
     },
     "execution_count": 322,
     "metadata": {},
     "output_type": "execute_result"
    }
   ],
   "source": [
    "#Logistic regression after SMOTE\n",
    "lsr = LogisticRegression()\n",
    "lsr.fit(X_sm,y_sm)"
   ]
  },
  {
   "cell_type": "code",
   "execution_count": 323,
   "metadata": {},
   "outputs": [
    {
     "name": "stdout",
     "output_type": "stream",
     "text": [
      "Confusion Matrix:\n",
      "[[6913 1338]\n",
      " [ 125  625]]\n",
      "AUC Score:  0.8355855855855856\n",
      "Precision:  0.3183902190524707\n",
      "f1 Score:  0.46074456321415413\n",
      "Sensitivity:  0.8333333333333334\n",
      "Specificity:  0.8378378378378378\n"
     ]
    }
   ],
   "source": [
    "#pridicting on test\n",
    "y_pred = lsr.predict(X_test)\n",
    "Metrics(y_test,y_pred)"
   ]
  },
  {
   "cell_type": "markdown",
   "metadata": {},
   "source": [
    "#### Majority class under sampling "
   ]
  },
  {
   "cell_type": "code",
   "execution_count": 326,
   "metadata": {},
   "outputs": [],
   "source": [
    "#Creating a function to undersample majority class\n",
    "def MajorityClassUnderSampler(X_train,y_train):\n",
    "    # Here we create training data frame\n",
    "    df_train = pd.concat([X_train.reset_index(drop=True), y_train.reset_index(drop=True)],axis=1)\n",
    "    \n",
    "    #Here select the minority class (in our case churn)\n",
    "    df_train_minority_class  = df_train.loc[df_train.churn == 1,:]\n",
    "    \n",
    "    #Here create data frame with majority class samples same as minority class\n",
    "    df_train_majority_undersampled = pd.concat([df_train_minority_class,df_train.loc[df_train.churn == 0,:].sample(df_train_minority_class.shape[0])])\n",
    "\n",
    "    return df_train_majority_undersampled"
   ]
  },
  {
   "cell_type": "code",
   "execution_count": 327,
   "metadata": {},
   "outputs": [],
   "source": [
    "#Creating a majority class undersampled data frame from training data\n",
    "df_train_mju = MajorityClassUnderSampler(X_train,y_train)\n",
    "\n",
    "#Extracting features and labels\n",
    "X_mju = df_train_mju.drop('churn',axis=1)\n",
    "y_mju = df_train_mju.churn\n"
   ]
  },
  {
   "cell_type": "code",
   "execution_count": 328,
   "metadata": {},
   "outputs": [],
   "source": [
    "#After the undersmapling lets take the average of 10 runs to find the avg metrics\n",
    "sensitivity_avg = 0\n",
    "specificity_avg = 0\n",
    "auc_score_avg = 0\n",
    "precision_avg = 0\n",
    "\n",
    "for i in range(0,10):\n",
    "    df_train_mju = MajorityClassUnderSampler(X_train,y_train)\n",
    "    X_mju = df_train_mju.drop('churn',axis=1)\n",
    "    y_mju = df_train_mju.churn\n",
    "    lsr = LogisticRegression()\n",
    "    lsr.fit(X_mju,y_mju)\n",
    "    y_pred = lsr.predict(X_test)\n",
    "    cp = confusion_matrix(y_test,y_pred)\n",
    "    sensitivity = cp[1,1]/(cp[1,0]+cp[1,1])\n",
    "    specificity =  cp[0,0]/(cp[0,1]+cp[0,0])\n",
    "    precision = cp[1,1]/(cp[0,1]+cp[1,1])\n",
    "    auc_score = roc_auc_score(y_test,y_pred)\n",
    "    sensitivity_avg = sensitivity_avg + sensitivity\n",
    "    specificity_avg = specificity_avg+ specificity\n",
    "    auc_score_avg = auc_score_avg + auc_score\n",
    "    precision_avg = precision_avg + precision "
   ]
  },
  {
   "cell_type": "code",
   "execution_count": 329,
   "metadata": {},
   "outputs": [
    {
     "name": "stdout",
     "output_type": "stream",
     "text": [
      "AUC Score:  0.827580826566477\n",
      "Precision:  0.29342964824097495\n",
      "Sensitivity:  0.8388\n",
      "Specificity:  0.8163616531329534\n"
     ]
    }
   ],
   "source": [
    "#Printing the accuracy score after taking the average\n",
    "print('AUC Score: ',auc_score_avg/10)\n",
    "print('Precision: ',precision_avg/10)  \n",
    "print('Sensitivity: ',sensitivity_avg/10)\n",
    "print('Specificity: ',specificity_avg/10)"
   ]
  },
  {
   "cell_type": "markdown",
   "metadata": {},
   "source": [
    "We will consider our mjority caalss under sampled data for further analysis."
   ]
  },
  {
   "cell_type": "markdown",
   "metadata": {},
   "source": [
    "### Principal Component Analysis"
   ]
  },
  {
   "cell_type": "code",
   "execution_count": 110,
   "metadata": {},
   "outputs": [
    {
     "data": {
      "text/plain": [
       "PCA(copy=True, iterated_power='auto', n_components=None, random_state=101,\n",
       "  svd_solver='randomized', tol=0.0, whiten=False)"
      ]
     },
     "execution_count": 110,
     "metadata": {},
     "output_type": "execute_result"
    }
   ],
   "source": [
    "from sklearn.decomposition import PCA\n",
    "pca = PCA(svd_solver='randomized', random_state=101)\n",
    "\n",
    "pca.fit(X_mju)"
   ]
  },
  {
   "cell_type": "code",
   "execution_count": 111,
   "metadata": {},
   "outputs": [
    {
     "data": {
      "image/png": "[encoded data removed]",
      "text/plain": [
       "<Figure size 864x576 with 1 Axes>"
      ]
     },
     "metadata": {
      "needs_background": "light"
     },
     "output_type": "display_data"
    }
   ],
   "source": [
    "#plotting scree plot to find out the optimal no. of features\n",
    "%matplotlib inline\n",
    "fig = plt.figure(figsize = (12,8))\n",
    "plt.plot(np.cumsum(pca.explained_variance_ratio_))\n",
    "plt.xlabel('no. of components')\n",
    "plt.ylabel('total variance explained')\n",
    "plt.show()"
   ]
  },
  {
   "cell_type": "markdown",
   "metadata": {},
   "source": [
    "Around 40 features explain more than 95% of variance."
   ]
  },
  {
   "cell_type": "code",
   "execution_count": 112,
   "metadata": {},
   "outputs": [
    {
     "data": {
      "text/plain": [
       "(3382, 40)"
      ]
     },
     "execution_count": 112,
     "metadata": {},
     "output_type": "execute_result"
    }
   ],
   "source": [
    "#Using incremental PCA with 40 components\n",
    "\n",
    "from sklearn.decomposition import IncrementalPCA\n",
    "pca_final = IncrementalPCA(n_components=40)\n",
    "\n",
    "X_train_pca = pca_final.fit_transform(X_mju)\n",
    "\n",
    "X_train_pca.shape"
   ]
  },
  {
   "cell_type": "code",
   "execution_count": 113,
   "metadata": {},
   "outputs": [
    {
     "data": {
      "text/plain": [
       "(9001, 40)"
      ]
     },
     "execution_count": 113,
     "metadata": {},
     "output_type": "execute_result"
    }
   ],
   "source": [
    "X_test_pca = pca_final.transform(X_test)\n",
    "X_test_pca.shape"
   ]
  },
  {
   "cell_type": "code",
   "execution_count": 114,
   "metadata": {},
   "outputs": [
    {
     "name": "stdout",
     "output_type": "stream",
     "text": [
      "Confusion Matrix:\n",
      "[[6633 1618]\n",
      " [ 125  625]]\n",
      "AUC Score:  0.8186179452995597\n",
      "Precision:  0.27864467231386536\n",
      "f1 Score:  0.41764116271299695\n",
      "Sensitivity:  0.8333333333333334\n",
      "Specificity:  0.803902557265786\n"
     ]
    }
   ],
   "source": [
    "#Fitting the PCA model\n",
    "lsr_pca = LogisticRegression()\n",
    "model_pca = lsr_pca.fit(X_train_pca,y_mju)\n",
    "\n",
    "y_pred = lsr_pca.predict(X_test_pca)\n",
    "\n",
    "#PRinting the accuracy metrics\n",
    "Metrics(y_test,y_pred)"
   ]
  },
  {
   "cell_type": "markdown",
   "metadata": {},
   "source": [
    "#### Adujusting Probability threshold cut off"
   ]
  },
  {
   "cell_type": "code",
   "execution_count": 115,
   "metadata": {},
   "outputs": [],
   "source": [
    "#predicted probability on the PCA model\n",
    "y_pred_prob = lsr_pca.predict_proba(X_test_pca)\n",
    "\n",
    "#Putting in a data frame\n",
    "y_pred_prob_df = pd.DataFrame(y_pred_prob)\n",
    "y_pred_prob_df = y_pred_prob_df.iloc[:,[1]]\n",
    "\n",
    "y_test_df = pd.DataFrame(y_test)\n",
    "y_test_df['ID'] = y_test_df.index\n",
    "\n",
    "y_pred_prob_df.reset_index(drop=True, inplace=True)\n",
    "y_test_df.reset_index(drop=True, inplace=True)\n",
    "\n",
    "#Merging into one df\n",
    "y_pred_final = pd.concat([y_test_df,y_pred_prob_df],axis=1)"
   ]
  },
  {
   "cell_type": "code",
   "execution_count": 116,
   "metadata": {},
   "outputs": [
    {
     "data": {
      "text/html": [
       "<div>\n",
       "<style scoped>\n",
       "    .dataframe tbody tr th:only-of-type {\n",
       "        vertical-align: middle;\n",
       "    }\n",
       "\n",
       "    .dataframe tbody tr th {\n",
       "        vertical-align: top;\n",
       "    }\n",
       "\n",
       "    .dataframe thead th {\n",
       "        text-align: right;\n",
       "    }\n",
       "</style>\n",
       "<table border=\"1\" class=\"dataframe\">\n",
       "  <thead>\n",
       "    <tr style=\"text-align: right;\">\n",
       "      <th></th>\n",
       "      <th>churn</th>\n",
       "      <th>ID</th>\n",
       "      <th>Churn_Prob</th>\n",
       "    </tr>\n",
       "  </thead>\n",
       "  <tbody>\n",
       "    <tr>\n",
       "      <th>0</th>\n",
       "      <td>1</td>\n",
       "      <td>20296</td>\n",
       "      <td>0.627415</td>\n",
       "    </tr>\n",
       "    <tr>\n",
       "      <th>1</th>\n",
       "      <td>1</td>\n",
       "      <td>8279</td>\n",
       "      <td>0.526714</td>\n",
       "    </tr>\n",
       "    <tr>\n",
       "      <th>2</th>\n",
       "      <td>0</td>\n",
       "      <td>72269</td>\n",
       "      <td>0.035226</td>\n",
       "    </tr>\n",
       "    <tr>\n",
       "      <th>3</th>\n",
       "      <td>0</td>\n",
       "      <td>65602</td>\n",
       "      <td>0.300604</td>\n",
       "    </tr>\n",
       "    <tr>\n",
       "      <th>4</th>\n",
       "      <td>1</td>\n",
       "      <td>42758</td>\n",
       "      <td>0.887065</td>\n",
       "    </tr>\n",
       "  </tbody>\n",
       "</table>\n",
       "</div>"
      ],
      "text/plain": [
       "   churn     ID  Churn_Prob\n",
       "0      1  20296    0.627415\n",
       "1      1   8279    0.526714\n",
       "2      0  72269    0.035226\n",
       "3      0  65602    0.300604\n",
       "4      1  42758    0.887065"
      ]
     },
     "execution_count": 116,
     "metadata": {},
     "output_type": "execute_result"
    }
   ],
   "source": [
    "#Renaming the column.\n",
    "y_pred_final= y_pred_final.rename(columns={ 1 : 'Churn_Prob'})\n",
    "y_pred_final.head()"
   ]
  },
  {
   "cell_type": "code",
   "execution_count": 117,
   "metadata": {},
   "outputs": [
    {
     "data": {
      "text/html": [
       "<div>\n",
       "<style scoped>\n",
       "    .dataframe tbody tr th:only-of-type {\n",
       "        vertical-align: middle;\n",
       "    }\n",
       "\n",
       "    .dataframe tbody tr th {\n",
       "        vertical-align: top;\n",
       "    }\n",
       "\n",
       "    .dataframe thead th {\n",
       "        text-align: right;\n",
       "    }\n",
       "</style>\n",
       "<table border=\"1\" class=\"dataframe\">\n",
       "  <thead>\n",
       "    <tr style=\"text-align: right;\">\n",
       "      <th></th>\n",
       "      <th>ID</th>\n",
       "      <th>churn</th>\n",
       "      <th>Churn_Prob</th>\n",
       "    </tr>\n",
       "  </thead>\n",
       "  <tbody>\n",
       "    <tr>\n",
       "      <th>0</th>\n",
       "      <td>20296</td>\n",
       "      <td>1</td>\n",
       "      <td>0.627415</td>\n",
       "    </tr>\n",
       "    <tr>\n",
       "      <th>1</th>\n",
       "      <td>8279</td>\n",
       "      <td>1</td>\n",
       "      <td>0.526714</td>\n",
       "    </tr>\n",
       "    <tr>\n",
       "      <th>2</th>\n",
       "      <td>72269</td>\n",
       "      <td>0</td>\n",
       "      <td>0.035226</td>\n",
       "    </tr>\n",
       "    <tr>\n",
       "      <th>3</th>\n",
       "      <td>65602</td>\n",
       "      <td>0</td>\n",
       "      <td>0.300604</td>\n",
       "    </tr>\n",
       "    <tr>\n",
       "      <th>4</th>\n",
       "      <td>42758</td>\n",
       "      <td>1</td>\n",
       "      <td>0.887065</td>\n",
       "    </tr>\n",
       "  </tbody>\n",
       "</table>\n",
       "</div>"
      ],
      "text/plain": [
       "      ID  churn  Churn_Prob\n",
       "0  20296      1    0.627415\n",
       "1   8279      1    0.526714\n",
       "2  72269      0    0.035226\n",
       "3  65602      0    0.300604\n",
       "4  42758      1    0.887065"
      ]
     },
     "execution_count": 117,
     "metadata": {},
     "output_type": "execute_result"
    }
   ],
   "source": [
    "#rearranging the columns to make the df easy to interprete\n",
    "y_pred_final = y_pred_final.reindex_axis(['ID','churn','Churn_Prob'], axis=1)\n",
    "y_pred_final.head()"
   ]
  },
  {
   "cell_type": "code",
   "execution_count": 118,
   "metadata": {},
   "outputs": [
    {
     "data": {
      "text/html": [
       "<div>\n",
       "<style scoped>\n",
       "    .dataframe tbody tr th:only-of-type {\n",
       "        vertical-align: middle;\n",
       "    }\n",
       "\n",
       "    .dataframe tbody tr th {\n",
       "        vertical-align: top;\n",
       "    }\n",
       "\n",
       "    .dataframe thead th {\n",
       "        text-align: right;\n",
       "    }\n",
       "</style>\n",
       "<table border=\"1\" class=\"dataframe\">\n",
       "  <thead>\n",
       "    <tr style=\"text-align: right;\">\n",
       "      <th></th>\n",
       "      <th>ID</th>\n",
       "      <th>churn</th>\n",
       "      <th>Churn_Prob</th>\n",
       "      <th>0.0</th>\n",
       "      <th>0.1</th>\n",
       "      <th>0.2</th>\n",
       "      <th>0.3</th>\n",
       "      <th>0.4</th>\n",
       "      <th>0.5</th>\n",
       "      <th>0.6</th>\n",
       "      <th>0.7</th>\n",
       "      <th>0.8</th>\n",
       "      <th>0.9</th>\n",
       "    </tr>\n",
       "  </thead>\n",
       "  <tbody>\n",
       "    <tr>\n",
       "      <th>0</th>\n",
       "      <td>20296</td>\n",
       "      <td>1</td>\n",
       "      <td>0.627415</td>\n",
       "      <td>1</td>\n",
       "      <td>1</td>\n",
       "      <td>1</td>\n",
       "      <td>1</td>\n",
       "      <td>1</td>\n",
       "      <td>1</td>\n",
       "      <td>1</td>\n",
       "      <td>0</td>\n",
       "      <td>0</td>\n",
       "      <td>0</td>\n",
       "    </tr>\n",
       "    <tr>\n",
       "      <th>1</th>\n",
       "      <td>8279</td>\n",
       "      <td>1</td>\n",
       "      <td>0.526714</td>\n",
       "      <td>1</td>\n",
       "      <td>1</td>\n",
       "      <td>1</td>\n",
       "      <td>1</td>\n",
       "      <td>1</td>\n",
       "      <td>1</td>\n",
       "      <td>0</td>\n",
       "      <td>0</td>\n",
       "      <td>0</td>\n",
       "      <td>0</td>\n",
       "    </tr>\n",
       "    <tr>\n",
       "      <th>2</th>\n",
       "      <td>72269</td>\n",
       "      <td>0</td>\n",
       "      <td>0.035226</td>\n",
       "      <td>1</td>\n",
       "      <td>0</td>\n",
       "      <td>0</td>\n",
       "      <td>0</td>\n",
       "      <td>0</td>\n",
       "      <td>0</td>\n",
       "      <td>0</td>\n",
       "      <td>0</td>\n",
       "      <td>0</td>\n",
       "      <td>0</td>\n",
       "    </tr>\n",
       "    <tr>\n",
       "      <th>3</th>\n",
       "      <td>65602</td>\n",
       "      <td>0</td>\n",
       "      <td>0.300604</td>\n",
       "      <td>1</td>\n",
       "      <td>1</td>\n",
       "      <td>1</td>\n",
       "      <td>1</td>\n",
       "      <td>0</td>\n",
       "      <td>0</td>\n",
       "      <td>0</td>\n",
       "      <td>0</td>\n",
       "      <td>0</td>\n",
       "      <td>0</td>\n",
       "    </tr>\n",
       "    <tr>\n",
       "      <th>4</th>\n",
       "      <td>42758</td>\n",
       "      <td>1</td>\n",
       "      <td>0.887065</td>\n",
       "      <td>1</td>\n",
       "      <td>1</td>\n",
       "      <td>1</td>\n",
       "      <td>1</td>\n",
       "      <td>1</td>\n",
       "      <td>1</td>\n",
       "      <td>1</td>\n",
       "      <td>1</td>\n",
       "      <td>1</td>\n",
       "      <td>0</td>\n",
       "    </tr>\n",
       "  </tbody>\n",
       "</table>\n",
       "</div>"
      ],
      "text/plain": [
       "      ID  churn  Churn_Prob  0.0  0.1  0.2  0.3  0.4  0.5  0.6  0.7  0.8  0.9\n",
       "0  20296      1    0.627415    1    1    1    1    1    1    1    0    0    0\n",
       "1   8279      1    0.526714    1    1    1    1    1    1    0    0    0    0\n",
       "2  72269      0    0.035226    1    0    0    0    0    0    0    0    0    0\n",
       "3  65602      0    0.300604    1    1    1    1    0    0    0    0    0    0\n",
       "4  42758      1    0.887065    1    1    1    1    1    1    1    1    1    0"
      ]
     },
     "execution_count": 118,
     "metadata": {},
     "output_type": "execute_result"
    }
   ],
   "source": [
    "#Adding columns with different probability cutoff\n",
    "numbers = [float(x)/10 for x in range(10)]\n",
    "for i in numbers:\n",
    "    y_pred_final[i]= y_pred_final.Churn_Prob.map( lambda x: 1 if x > i else 0)\n",
    "y_pred_final.head()"
   ]
  },
  {
   "cell_type": "code",
   "execution_count": 120,
   "metadata": {},
   "outputs": [
    {
     "name": "stdout",
     "output_type": "stream",
     "text": [
      "     probability  accuracy  specificity  sensitivity  precision\n",
      "0.0          0.0  0.083324     0.000000     1.000000   0.083324\n",
      "0.1          0.1  0.387846     0.335596     0.962667   0.116377\n",
      "0.2          0.2  0.527830     0.490365     0.940000   0.143585\n",
      "0.3          0.3  0.634152     0.609259     0.908000   0.174392\n",
      "0.4          0.4  0.725253     0.711671     0.874667   0.216145\n",
      "0.5          0.5  0.806355     0.803903     0.833333   0.278645\n",
      "0.6          0.6  0.868348     0.876379     0.780000   0.364486\n",
      "0.7          0.7  0.906233     0.925585     0.693333   0.458554\n",
      "0.8          0.8  0.922675     0.963156     0.477333   0.540785\n",
      "0.9          0.9  0.922009     0.989335     0.181333   0.607143\n"
     ]
    }
   ],
   "source": [
    "#Calculate accuracy sensitivity & specificity for various probability cutoffs.\n",
    "cutoff_df = pd.DataFrame( columns = ['probability','accuracy','specificity','sensitivity','precision'])\n",
    "from sklearn.metrics import confusion_matrix\n",
    "num = [0.0,0.1,0.2,0.3,0.4,0.5,0.6,0.7,0.8,0.9]\n",
    "for i in num:\n",
    "    cm1 = confusion_matrix( y_pred_final.churn, y_pred_final[i] )\n",
    "    total1=sum(sum(cm1))\n",
    "    accuracy = (cm1[0,0]+cm1[1,1])/total1\n",
    "    specificity = cm1[0,0]/(cm1[0,0]+cm1[0,1])\n",
    "    sensitivity = cm1[1,1]/(cm1[1,0]+cm1[1,1])\n",
    "    precision = cm1[1,1]/(cm1[0,1]+cm1[1,1])\n",
    "    cutoff_df.loc[i] =[ i ,accuracy,specificity,sensitivity,precision]\n",
    "print(cutoff_df)"
   ]
  },
  {
   "cell_type": "code",
   "execution_count": 121,
   "metadata": {},
   "outputs": [
    {
     "data": {
      "image/png": "[encoded data removed]",
      "text/plain": [
       "<Figure size 432x288 with 1 Axes>"
      ]
     },
     "metadata": {
      "needs_background": "light"
     },
     "output_type": "display_data"
    }
   ],
   "source": [
    "#Plotting the cutoff_df to find the optimum cutoff value\n",
    "cutoff_df.plot.line(x='probability', y=['accuracy','specificity','sensitivity','precision'])\n",
    "plt.show()"
   ]
  },
  {
   "cell_type": "markdown",
   "metadata": {},
   "source": [
    "From the above plot we can see that the optimum cutoff point is little more than 0.5 probability. Lets go with 0.51 and assign churn or non-churn customers."
   ]
  },
  {
   "cell_type": "code",
   "execution_count": 124,
   "metadata": {},
   "outputs": [
    {
     "name": "stdout",
     "output_type": "stream",
     "text": [
      "Confusion Matrix:\n",
      "[[6703 1548]\n",
      " [ 130  620]]\n",
      "AUC Score:  0.8195265220377328\n",
      "Precision:  0.2859778597785978\n",
      "f1 Score:  0.42494859492803294\n",
      "Sensitivity:  0.8266666666666667\n",
      "Specificity:  0.8123863774087989\n"
     ]
    }
   ],
   "source": [
    "#Assigning final predicted value \n",
    "y_pred_final['final_pred'] = y_pred_final.Churn_Prob.map( lambda x: 1 if x > 0.51 else 0)\n",
    "\n",
    "#Checking the accuracy models.\n",
    "Metrics(y_pred_final.churn, y_pred_final.final_pred)"
   ]
  },
  {
   "cell_type": "markdown",
   "metadata": {},
   "source": [
    "- The Precision and f1 score is very less. We could improve the sensitivity of the model too.\n",
    "- Lets try different boosting methods to improve these scores."
   ]
  },
  {
   "cell_type": "markdown",
   "metadata": {},
   "source": [
    "#### Boosting with Ada-Boost"
   ]
  },
  {
   "cell_type": "code",
   "execution_count": 125,
   "metadata": {},
   "outputs": [],
   "source": [
    "from sklearn.ensemble import AdaBoostClassifier\n",
    "from sklearn.tree import DecisionTreeClassifier"
   ]
  },
  {
   "cell_type": "code",
   "execution_count": 126,
   "metadata": {},
   "outputs": [],
   "source": [
    "#creating an empty tree\n",
    "empty_tree = DecisionTreeClassifier(max_depth=2, random_state = 100)\n",
    "\n",
    "#Estimating optimum number of estimators.\n",
    "estimators = list(range(40, 150, 10))\n",
    "\n",
    "auc_scores = []\n",
    "\n",
    "for n in estimators:\n",
    "    ABC = AdaBoostClassifier(\n",
    "    base_estimator=empty_tree, \n",
    "    n_estimators = n)\n",
    "    \n",
    "    ABC.fit(X_mju, y_mju)\n",
    "    y_pred = ABC.predict(X_test)\n",
    "    score = roc_auc_score(y_test, y_pred)\n",
    "    auc_scores.append(score) "
   ]
  },
  {
   "cell_type": "code",
   "execution_count": 127,
   "metadata": {},
   "outputs": [
    {
     "data": {
      "text/plain": [
       "[0.8311004726699793,\n",
       " 0.8358278188502404,\n",
       " 0.8315247444754171,\n",
       " 0.8335855047872984,\n",
       " 0.8271007958631278,\n",
       " 0.829949177877429,\n",
       " 0.8375855047872984,\n",
       " 0.8294039510362381,\n",
       " 0.8317673009332203,\n",
       " 0.8268583202036116,\n",
       " 0.8262522522522523]"
      ]
     },
     "execution_count": 127,
     "metadata": {},
     "output_type": "execute_result"
    }
   ],
   "source": [
    "#comparing the auc scores\n",
    "auc_scores"
   ]
  },
  {
   "cell_type": "code",
   "execution_count": 128,
   "metadata": {},
   "outputs": [
    {
     "data": {
      "image/png": "[encoded data removed]",
      "text/plain": [
       "<Figure size 432x288 with 1 Axes>"
      ]
     },
     "metadata": {
      "needs_background": "light"
     },
     "output_type": "display_data"
    }
   ],
   "source": [
    "#ploting test scores against no. of estimators\n",
    "plt.plot(estimators, auc_scores)\n",
    "plt.xlabel('n_estimators')\n",
    "plt.ylabel('roc_auc_score')\n",
    "plt.ylim([0.75, 0.9])\n",
    "plt.show()"
   ]
  },
  {
   "cell_type": "code",
   "execution_count": 129,
   "metadata": {},
   "outputs": [
    {
     "data": {
      "text/plain": [
       "AdaBoostClassifier(algorithm='SAMME.R',\n",
       "          base_estimator=DecisionTreeClassifier(class_weight=None, criterion='gini', max_depth=2,\n",
       "            max_features=None, max_leaf_nodes=None,\n",
       "            min_impurity_decrease=0.0, min_impurity_split=None,\n",
       "            min_samples_leaf=1, min_samples_split=2,\n",
       "            min_weight_fraction_leaf=0.0, presort=False, random_state=100,\n",
       "            splitter='best'),\n",
       "          learning_rate=1.0, n_estimators=120, random_state=None)"
      ]
     },
     "execution_count": 129,
     "metadata": {},
     "output_type": "execute_result"
    }
   ],
   "source": [
    "#Model for the best n estimators value.\n",
    "ABC = AdaBoostClassifier(n_estimators=100,base_estimator=empty_tree)\n",
    "\n",
    "ABC.fit(X_mju,y_mju)"
   ]
  },
  {
   "cell_type": "code",
   "execution_count": 130,
   "metadata": {},
   "outputs": [
    {
     "name": "stdout",
     "output_type": "stream",
     "text": [
      "Confusion Matrix:\n",
      "[[6936 1315]\n",
      " [ 132  618]]\n",
      "AUC Score:  0.8323126893709852\n",
      "Precision:  0.31971029487842734\n",
      "f1 Score:  0.4606783451360418\n",
      "Sensitivity:  0.824\n",
      "Specificity:  0.8406253787419706\n"
     ]
    }
   ],
   "source": [
    "#Predicting on the test set -\n",
    "y_pred_abc =  ABC.predict(X_test)\n",
    "\n",
    "#Printing accuracy scores\n",
    "Metrics(y_test,y_pred_abc)"
   ]
  },
  {
   "cell_type": "markdown",
   "metadata": {},
   "source": [
    "- We can see that the scores are improving after the implementation of AdaBoost."
   ]
  },
  {
   "cell_type": "markdown",
   "metadata": {},
   "source": [
    "#### Implementation Gradient Boost"
   ]
  },
  {
   "cell_type": "code",
   "execution_count": 131,
   "metadata": {},
   "outputs": [],
   "source": [
    "from sklearn.ensemble import GradientBoostingClassifier\n",
    "\n",
    "#Creating parameter grid for learning rate & subsample.\n",
    "param_grid = {\"learning_rate\": [0.1,0.2, 0.6, 0.9],\n",
    "              \"subsample\": [0.3, 0.6, 0.9]}\n",
    "\n",
    "#Gradientboost\n",
    "GBC = GradientBoostingClassifier(max_depth=2, n_estimators=200)"
   ]
  },
  {
   "cell_type": "code",
   "execution_count": 132,
   "metadata": {},
   "outputs": [
    {
     "name": "stdout",
     "output_type": "stream",
     "text": [
      "Fitting 3 folds for each of 12 candidates, totalling 36 fits\n"
     ]
    },
    {
     "name": "stderr",
     "output_type": "stream",
     "text": [
      "[Parallel(n_jobs=3)]: Done  36 out of  36 | elapsed:   46.6s finished\n"
     ]
    },
    {
     "data": {
      "text/plain": [
       "GridSearchCV(cv=3, error_score='raise',\n",
       "       estimator=GradientBoostingClassifier(criterion='friedman_mse', init=None,\n",
       "              learning_rate=0.1, loss='deviance', max_depth=2,\n",
       "              max_features=None, max_leaf_nodes=None,\n",
       "              min_impurity_decrease=0.0, min_impurity_split=None,\n",
       "              min_samples_leaf=1, min_samples_split=2,\n",
       "              min_weight_fraction_leaf=0.0, n_estimators=200,\n",
       "              presort='auto', random_state=None, subsample=1.0, verbose=0,\n",
       "              warm_start=False),\n",
       "       fit_params=None, iid=True, n_jobs=3,\n",
       "       param_grid={'learning_rate': [0.1, 0.2, 0.6, 0.9], 'subsample': [0.3, 0.6, 0.9]},\n",
       "       pre_dispatch='2*n_jobs', refit=True, return_train_score=True,\n",
       "       scoring='f1', verbose=1)"
      ]
     },
     "execution_count": 132,
     "metadata": {},
     "output_type": "execute_result"
    }
   ],
   "source": [
    "#Grid search using cross validation\n",
    "folds = 3\n",
    "grid_search_GBC = GridSearchCV(GBC, \n",
    "                               cv = folds,\n",
    "                               param_grid=param_grid, \n",
    "                               scoring = 'f1', \n",
    "                               return_train_score=True,                         \n",
    "                               verbose = 1,n_jobs=3)\n",
    "\n",
    "grid_search_GBC.fit(X_mju, y_mju)"
   ]
  },
  {
   "cell_type": "code",
   "execution_count": 133,
   "metadata": {},
   "outputs": [
    {
     "data": {
      "text/plain": [
       "{'learning_rate': 0.1, 'subsample': 0.9}"
      ]
     },
     "execution_count": 133,
     "metadata": {},
     "output_type": "execute_result"
    }
   ],
   "source": [
    "#best parameters\n",
    "grid_search_GBC.best_params_"
   ]
  },
  {
   "cell_type": "code",
   "execution_count": 134,
   "metadata": {},
   "outputs": [],
   "source": [
    "#Running gradient boosting with best parameters.\n",
    "GBC = GradientBoostingClassifier(learning_rate=0.1,subsample=0.9)\n",
    "\n",
    "#Fitting the model\n",
    "GBC.fit(X_mju,y_mju)\n",
    "\n",
    "#Predicting  on the test data\n",
    "y_pred_abc =  GBC.predict(X_test)\n"
   ]
  },
  {
   "cell_type": "code",
   "execution_count": 135,
   "metadata": {},
   "outputs": [
    {
     "name": "stdout",
     "output_type": "stream",
     "text": [
      "Confusion Matrix:\n",
      "[[7133 1118]\n",
      " [ 102  648]]\n",
      "AUC Score:  0.8642506362865107\n",
      "Precision:  0.3669309173272933\n",
      "f1 Score:  0.5151033386327505\n",
      "Sensitivity:  0.864\n",
      "Specificity:  0.8645012725730215\n"
     ]
    }
   ],
   "source": [
    "#Checking the scores\n",
    "Metrics(y_test,y_pred_abc)"
   ]
  },
  {
   "cell_type": "markdown",
   "metadata": {},
   "source": [
    "- The scores have improved after the implementation of gradient boosting."
   ]
  },
  {
   "cell_type": "markdown",
   "metadata": {},
   "source": [
    "#### Building and Ensemble model using decision trees, random forest, linear regression & Linear SVM model."
   ]
  },
  {
   "cell_type": "code",
   "execution_count": 136,
   "metadata": {},
   "outputs": [],
   "source": [
    "from sklearn.tree import DecisionTreeClassifier\n",
    "from sklearn.model_selection import learning_curve, GridSearchCV"
   ]
  },
  {
   "cell_type": "code",
   "execution_count": 137,
   "metadata": {},
   "outputs": [],
   "source": [
    "RUN_GRID_SEARCH = True\n",
    "#RUN_GRID_SEARCH = False\n",
    "\n",
    "grid_search_best_params_ = {'max_depth': 13,\n",
    "                             'max_features': 25,\n",
    "                             'min_samples_leaf': 95,\n",
    "                             'min_samples_split': 20,\n",
    "                             'random_state': 10}\n",
    "\n",
    "def sensitivity_scorer(estimator, X_sensi_scorer, y_sensi_scorer):\n",
    "     cp = confusion_matrix(y_sensi_scorer, estimator.predict(X_sensi_scorer))\n",
    "     return cp[1,1]/(cp[1,0]+cp[1,1])\n",
    "\n",
    "if RUN_GRID_SEARCH:\n",
    "     parameter_grid = {'max_depth': list(range(1, 20, 1)),\n",
    "                       'max_features': list(range(10, 20, 2)),\n",
    "                       'min_samples_leaf': list(range(10, 100, 5)),\n",
    "                       'min_samples_split': list(range(20, 50, 5)),\n",
    "                       'max_features': list(range(10, 60, 5)),\n",
    "                       'random_state': [43]}\n",
    "\n",
    "     grid_search = GridSearchCV(\n",
    "         DecisionTreeClassifier(),\n",
    "         param_grid=parameter_grid,\n",
    "         scoring=sensitivity_scorer)\n",
    "     grid_search.fit(X_mju, y_mju)\n",
    "     grid_search.best_score_, grid_search.best_params_\n",
    "     grid_search_best_params_ = grid_search.best_params_"
   ]
  },
  {
   "cell_type": "code",
   "execution_count": 138,
   "metadata": {},
   "outputs": [
    {
     "name": "stdout",
     "output_type": "stream",
     "text": [
      "{'max_depth': 1, 'max_features': 15, 'min_samples_leaf': 10, 'min_samples_split': 20, 'random_state': 43}\n"
     ]
    }
   ],
   "source": [
    "#Use the final hyperparmeters obtained from grid search above\n",
    "print(grid_search_best_params_)"
   ]
  },
  {
   "cell_type": "markdown",
   "metadata": {},
   "source": [
    "We get the below params will use the same in further analysis.\n",
    "\n",
    "{'max_depth': 1, 'max_features': 15, 'min_samples_leaf': 10, 'min_samples_split': 20, 'random_state': 43}\n"
   ]
  },
  {
   "cell_type": "code",
   "execution_count": 140,
   "metadata": {},
   "outputs": [
    {
     "name": "stdout",
     "output_type": "stream",
     "text": [
      "Confusion Matrix:\n",
      "[[3360 4891]\n",
      " [  70  680]]\n",
      "AUC Score:  0.6569450167656445\n",
      "Precision:  0.12206067133369233\n",
      "f1 Score:  0.21515582977376999\n",
      "Sensitivity:  0.9066666666666666\n",
      "Specificity:  0.40722336686462246\n"
     ]
    }
   ],
   "source": [
    "#setting hyper parameters so that we can skip the above block in case we need later as it takes a lot of time\n",
    "grid_search_best_params_ = {'max_features': 15, 'min_samples_split': 20, 'random_state': 43, 'max_depth': 1, 'min_samples_leaf': 10}\n",
    "\n",
    "# Build Decision tree using parameters obtained.\n",
    "dtree=DecisionTreeClassifier(**grid_search_best_params_)\n",
    "\n",
    "#Fitting the model\n",
    "dtree.fit(X_mju, y_mju)\n",
    "\n",
    "#Predicting on the test data and printing the metrics\n",
    "Metrics(y_test, dtree.predict(X_test))"
   ]
  },
  {
   "cell_type": "code",
   "execution_count": 141,
   "metadata": {},
   "outputs": [
    {
     "name": "stdout",
     "output_type": "stream",
     "text": [
      "Confusion Matrix:\n",
      "[[5142 3109]\n",
      " [ 255  495]]\n",
      "AUC Score:  0.6415985941098049\n",
      "Precision:  0.13734739178690344\n",
      "f1 Score:  0.2273771244832338\n",
      "Sensitivity:  0.66\n",
      "Specificity:  0.6231971882196098\n"
     ]
    }
   ],
   "source": [
    "#importing linear SVM\n",
    "from sklearn.svm import LinearSVC\n",
    "\n",
    "#Building linear SVM model\n",
    "SVM = LinearSVC()\n",
    "\n",
    "#Fitting the model\n",
    "SVM.fit(X_train_pca, y_mju)\n",
    "\n",
    "#Predicting on the test data and printing the metrics\n",
    "Metrics(y_test, SVM.predict(X_test_pca))"
   ]
  },
  {
   "cell_type": "code",
   "execution_count": 142,
   "metadata": {},
   "outputs": [
    {
     "name": "stdout",
     "output_type": "stream",
     "text": [
      "Confusion Matrix:\n",
      "[[6490 1761]\n",
      " [ 188  562]]\n",
      "AUC Score:  0.767952329010625\n",
      "Precision:  0.24192854068015499\n",
      "f1 Score:  0.36576635209892616\n",
      "Sensitivity:  0.7493333333333333\n",
      "Specificity:  0.7865713246879166\n"
     ]
    }
   ],
   "source": [
    "from sklearn.ensemble import RandomForestClassifier\n",
    "\n",
    "# build random forest classifier\n",
    "RFC = RandomForestClassifier(**grid_search_best_params_)#n_estimators=20\n",
    "\n",
    "#Fitting the model\n",
    "RFC.fit(X_mju, y_mju)\n",
    "\n",
    "#Predicting on the test data and printing the metrics\n",
    "Metrics(y_test, RFC.predict(X_test))"
   ]
  },
  {
   "cell_type": "code",
   "execution_count": 143,
   "metadata": {},
   "outputs": [
    {
     "name": "stdout",
     "output_type": "stream",
     "text": [
      "Confusion Matrix:\n",
      "[[6744 1507]\n",
      " [ 117  633]]\n",
      "AUC Score:  0.8306777360319961\n",
      "Precision:  0.2957943925233645\n",
      "f1 Score:  0.4380622837370242\n",
      "Sensitivity:  0.844\n",
      "Specificity:  0.8173554720639923\n"
     ]
    }
   ],
   "source": [
    "# build logistic regression model\n",
    "LSR1 = LogisticRegression()\n",
    "\n",
    "#Fitting the model\n",
    "LSR1.fit(X_mju, y_mju)\n",
    "\n",
    "#Predicting on the test data and printing the metrics\n",
    "Metrics(y_test, LSR1.predict(X_test))"
   ]
  },
  {
   "cell_type": "code",
   "execution_count": 144,
   "metadata": {},
   "outputs": [
    {
     "name": "stdout",
     "output_type": "stream",
     "text": [
      "Confusion Matrix:\n",
      "[[5087 3164]\n",
      " [  82  668]]\n",
      "AUC Score:  0.7535989981012403\n",
      "Precision:  0.174321503131524\n",
      "f1 Score:  0.29157573112178087\n",
      "Sensitivity:  0.8906666666666667\n",
      "Specificity:  0.6165313295358138\n"
     ]
    }
   ],
   "source": [
    "#Ensembling all the models\n",
    "\n",
    "ensemble_pred = list(map(lambda x: 1 if (sum(x)>=2) else 0, zip(LSR1.predict(X_test),\n",
    "                                                          dtree.predict(X_test),            \n",
    "                                                          RFC.predict(X_test),                                                          \n",
    "                                                          SVM.predict(X_test_pca))))\n",
    "\n",
    "#Printing the metrics\n",
    "Metrics(y_test, ensemble_pred)"
   ]
  },
  {
   "cell_type": "markdown",
   "metadata": {},
   "source": [
    "#### Deciding the best model:\n",
    "\n",
    "- From all the models the best prediction model was obtained using ***Gradiant Boost*** with a sensitivity of approximately 86%, a precision of 36% & F1 score of 51% which is much better than our ensemble model."
   ]
  },
  {
   "cell_type": "markdown",
   "metadata": {},
   "source": [
    "### Building a simpler model for customer interpretation."
   ]
  },
  {
   "cell_type": "code",
   "execution_count": null,
   "metadata": {},
   "outputs": [],
   "source": []
  },
  {
   "cell_type": "code",
   "execution_count": 343,
   "metadata": {},
   "outputs": [],
   "source": [
    "#importing stats model\n",
    "import statsmodels.api as sm\n",
    "\n",
    "#Dropping 8th month columns as we are not going to consider them.\n",
    "#month8_cols =  df.columns[df.columns.str.contains('_8')]\n",
    "#df = df.drop(month8_cols,axis=1)\n",
    "\n",
    "X = df.drop(['churn','mobile_number'],axis=1)\n",
    "\n",
    "y = df['churn']"
   ]
  },
  {
   "cell_type": "code",
   "execution_count": 344,
   "metadata": {},
   "outputs": [],
   "source": [
    "#Extract columns\n",
    "cols = X.columns\n",
    "\n",
    "#Initiating scalar\n",
    "scaler = StandardScaler()\n",
    "\n",
    "#Scaling the variables\n",
    "X_scaled = scaler.fit_transform(X)\n",
    "\n",
    "#Convert to data frame\n",
    "X_scaled = pd.DataFrame(X_scaled, columns=cols)"
   ]
  },
  {
   "cell_type": "code",
   "execution_count": 345,
   "metadata": {},
   "outputs": [],
   "source": [
    "#Splitting the data\n",
    "X_train, X_test, y_train, y_test = train_test_split(X_scaled,y, train_size=0.7,test_size=0.3,random_state=100)\n",
    "\n",
    "#Create majority class undersampled data frame from training data\n",
    "df_train_mju = MajorityClassUnderSampler(X_train,y_train)\n",
    "\n",
    "#Extract features & labels\n",
    "X_mju = df_train_mju.drop('churn',axis=1)\n",
    "y_mju = df_train_mju.churn\n"
   ]
  },
  {
   "cell_type": "code",
   "execution_count": 346,
   "metadata": {},
   "outputs": [
    {
     "data": {
      "text/plain": [
       "<matplotlib.axes._subplots.AxesSubplot at 0x28f81562630>"
      ]
     },
     "execution_count": 346,
     "metadata": {},
     "output_type": "execute_result"
    },
    {
     "data": {
      "image/png": "[encoded data removed]",
      "text/plain": [
       "<Figure size 1440x720 with 1 Axes>"
      ]
     },
     "metadata": {
      "needs_background": "light"
     },
     "output_type": "display_data"
    }
   ],
   "source": [
    "#feature Selection using Lasso Regression\n",
    "alpha_values=[ 1,2,3,4,5,6,7,8,9]\n",
    "alpha_sensitivity = []\n",
    "\n",
    "\n",
    "for alpha in alpha_values:\n",
    "    lassolr = LogisticRegression(C=alpha, penalty='l1', solver='liblinear')\n",
    "    lassolr.fit(X_mju, y_mju)\n",
    "    cp = confusion_matrix(y_test, lassolr.predict(X_test))\n",
    "    alpha_sensitivity.append({\"alpha\": alpha, \"sensitivity\": cp[1,1]/(cp[1,0]+cp[1,1])})\n",
    "\n",
    "#Plotting the alpha against sentivity to find out the best alpha\n",
    "pd.DataFrame(alpha_sensitivity).plot.line(x='alpha', y='sensitivity')"
   ]
  },
  {
   "cell_type": "markdown",
   "metadata": {},
   "source": [
    "Sensitivity is maximized for alpha = 4. \n",
    "\n",
    "- **Note** : Please ignore the above plot since the plot changed after running 2 times. "
   ]
  },
  {
   "cell_type": "code",
   "execution_count": 347,
   "metadata": {},
   "outputs": [
    {
     "data": {
      "text/plain": [
       "{'std_og_t2t_mou_8': 0.0,\n",
       " 'std_og_t2m_mou_8': 0.0,\n",
       " 'vol_3g_mb_good_ph': 0.0,\n",
       " 'loc_og_t2m_mou_good_ph': 0.0,\n",
       " 'onnet_mou_good_ph': 0.0}"
      ]
     },
     "execution_count": 347,
     "metadata": {},
     "output_type": "execute_result"
    }
   ],
   "source": [
    "# run with alpha=0.4 and penalty = 'l1'\n",
    "lassolr = LogisticRegression(C=4, penalty='l1', solver='liblinear')\n",
    "lassolr.fit(X_mju, y_mju)\n",
    "LR_coefs = dict(zip(X_mju.columns, lassolr.coef_[0]))\n",
    "{k:v for k,v in LR_coefs.items() if v == 0}"
   ]
  },
  {
   "cell_type": "code",
   "execution_count": 348,
   "metadata": {},
   "outputs": [],
   "source": [
    "#We will create the model now and eliminate features comparing p-values and VIF by running the model iteratively  \n",
    "#Function to test model, print metrics, VIF score & can drop columns -\n",
    "def test_model(x_train, x_test, y_train, y_test, cols_to_drop = None):\n",
    "    cols_to_drop = cols_to_drop or []\n",
    "    x_train = x_train.drop(cols_to_drop, axis=1)\n",
    "    x_test = x_test.drop(cols_to_drop, axis=1)\n",
    "    lr = LogisticRegression(C=4.0, penalty='l1', solver='liblinear')\n",
    "    lr.fit(x_train, y_train)\n",
    "    print(\"Scoring on TEST {}, TRAIN {}\".format(lr.score(x_test,y_test), lr.score(x_train,y_train)))\n",
    "    Metrics(y_test,lr.predict(x_test))\n",
    "    x_train = sm.add_constant(x_train)\n",
    "    stat_model = sm.Logit(y_train, x_train).fit_regularized(method='l1')\n",
    "    print(stat_model.summary())\n",
    "    # calculate VIF\n",
    "    vif_df = pd.DataFrame( columns = ['Var', 'Vif'])\n",
    "    for i, var in enumerate(x_train.columns):\n",
    "        rsq = sm.OLS(x_train[var], x_train.drop([var], axis=1)).fit().rsquared\n",
    "        vif = round( 1 / (1 - rsq + 0.00000000001), 2)\n",
    "        vif_df.loc[i] = [var, vif]\n",
    "    return vif_df.sort_values(by = 'Vif', axis=0, ascending=False, inplace=False)"
   ]
  },
  {
   "cell_type": "code",
   "execution_count": 349,
   "metadata": {},
   "outputs": [
    {
     "name": "stdout",
     "output_type": "stream",
     "text": [
      "Scoring on TEST 0.8186868125763804, TRAIN 0.8290952099349498\n",
      "Confusion Matrix:\n",
      "[[6744 1507]\n",
      " [ 125  625]]\n",
      "AUC Score:  0.8253444026986629\n",
      "Precision:  0.29315196998123827\n",
      "f1 Score:  0.43372657876474674\n",
      "Sensitivity:  0.8333333333333334\n",
      "Specificity:  0.8173554720639923\n",
      "Optimization terminated successfully.    (Exit mode 0)\n",
      "            Current function value: 0.4190027861917193\n",
      "            Iterations: 429\n",
      "            Function evaluations: 429\n",
      "            Gradient evaluations: 429\n",
      "                           Logit Regression Results                           \n",
      "==============================================================================\n",
      "Dep. Variable:                  churn   No. Observations:                 3382\n",
      "Model:                          Logit   Df Residuals:                     3305\n",
      "Method:                           MLE   Df Model:                           76\n",
      "Date:                Mon, 16 Dec 2019   Pseudo R-squ.:                  0.3955\n",
      "Time:                        20:36:01   Log-Likelihood:                -1417.1\n",
      "converged:                       True   LL-Null:                       -2344.2\n",
      "Covariance Type:            nonrobust   LLR p-value:                     0.000\n",
      "===============================================================================================\n",
      "                                  coef    std err          z      P>|z|      [0.025      0.975]\n",
      "-----------------------------------------------------------------------------------------------\n",
      "const                          -1.5856      0.085    -18.613      0.000      -1.753      -1.419\n",
      "arpu_8                          0.6477      0.263      2.462      0.014       0.132       1.163\n",
      "onnet_mou_8                    -3.1582      4.200     -0.752      0.452     -11.390       5.073\n",
      "offnet_mou_8                   -3.5275      4.322     -0.816      0.414     -11.999       4.944\n",
      "roam_ic_mou_8                   0.1803      0.099      1.817      0.069      -0.014       0.375\n",
      "roam_og_mou_8                   0.7386      0.952      0.776      0.438      -1.126       2.604\n",
      "loc_og_t2t_mou_8                1.1223      2.097      0.535      0.592      -2.987       5.232\n",
      "loc_og_t2m_mou_8                0.9812      2.100      0.467      0.640      -3.134       5.097\n",
      "loc_og_t2f_mou_8                0.2193      0.224      0.981      0.327      -0.219       0.658\n",
      "loc_og_t2c_mou_8                0.0577      0.068      0.844      0.399      -0.076       0.192\n",
      "std_og_t2t_mou_8                2.4738      3.643      0.679      0.497      -4.666       9.613\n",
      "std_og_t2m_mou_8                2.5958      3.671      0.707      0.480      -4.600       9.791\n",
      "std_og_t2f_mou_8               -0.0518      0.168     -0.308      0.758      -0.381       0.278\n",
      "isd_og_mou_8                   -0.2264      0.356     -0.637      0.524      -0.924       0.471\n",
      "spl_og_mou_8                    0.0063      0.189      0.033      0.973      -0.364       0.376\n",
      "og_others_8                     0.0985      0.216      0.455      0.649      -0.326       0.523\n",
      "loc_ic_t2t_mou_8               -0.7039      0.225     -3.124      0.002      -1.145      -0.262\n",
      "loc_ic_t2m_mou_8               -1.0822      0.200     -5.421      0.000      -1.473      -0.691\n",
      "loc_ic_t2f_mou_8               -0.2476      0.150     -1.654      0.098      -0.541       0.046\n",
      "std_ic_t2t_mou_8               -0.3362      0.168     -2.006      0.045      -0.665      -0.008\n",
      "std_ic_t2m_mou_8               -0.1021      0.131     -0.779      0.436      -0.359       0.155\n",
      "std_ic_t2f_mou_8               -0.2431      0.177     -1.375      0.169      -0.589       0.103\n",
      "spl_ic_mou_8                   -0.0907      0.063     -1.450      0.147      -0.213       0.032\n",
      "isd_ic_mou_8                   -0.1383      0.104     -1.330      0.183      -0.342       0.066\n",
      "ic_others_8                     0.1858      0.146      1.270      0.204      -0.101       0.473\n",
      "total_rech_num_8               -0.3575      0.117     -3.051      0.002      -0.587      -0.128\n",
      "total_rech_amt_8               -0.7608      0.266     -2.856      0.004      -1.283      -0.239\n",
      "max_rech_amt_8                  0.0728      0.093      0.781      0.435      -0.110       0.255\n",
      "last_day_rch_amt_8             -0.3024      0.077     -3.921      0.000      -0.454      -0.151\n",
      "max_rech_data_8                -0.2663      0.132     -2.019      0.044      -0.525      -0.008\n",
      "vol_2g_mb_8                    -0.4958      0.129     -3.835      0.000      -0.749      -0.242\n",
      "vol_3g_mb_8                     0.0923      0.145      0.634      0.526      -0.193       0.377\n",
      "monthly_2g_8                   -0.3046      0.110     -2.775      0.006      -0.520      -0.089\n",
      "sachet_2g_8                    -0.5872      0.128     -4.602      0.000      -0.837      -0.337\n",
      "monthly_3g_8                   -0.2953      0.149     -1.986      0.047      -0.587      -0.004\n",
      "sachet_3g_8                    -0.3127      0.145     -2.157      0.031      -0.597      -0.029\n",
      "aon                            -0.2497      0.057     -4.363      0.000      -0.362      -0.138\n",
      "vbc_3g_8                       -0.3684      0.121     -3.049      0.002      -0.605      -0.132\n",
      "total_rech_amt_data_8           0.1856      0.197      0.940      0.347      -0.201       0.572\n",
      "total_rech_amt_good_ph         -0.7150      0.322     -2.220      0.026      -1.346      -0.084\n",
      "total_rech_amt_data_good_ph     0.0602      0.158      0.381      0.703      -0.250       0.370\n",
      "max_rech_amt_good_ph            0.1273      0.098      1.304      0.192      -0.064       0.319\n",
      "last_day_rch_amt_good_ph        0.0314      0.070      0.451      0.652      -0.105       0.168\n",
      "max_rech_data_good_ph           0.0765      0.105      0.730      0.466      -0.129       0.282\n",
      "total_rech_num_good_ph          0.0995      0.093      1.073      0.283      -0.082       0.281\n",
      "vol_2g_mb_good_ph               0.2477      0.076      3.239      0.001       0.098       0.398\n",
      "vol_3g_mb_good_ph              -0.0029      0.098     -0.030      0.976      -0.194       0.189\n",
      "monthly_2g_good_ph             -0.1584      0.089     -1.781      0.075      -0.333       0.016\n",
      "monthly_3g_good_ph              0.1478      0.123      1.205      0.228      -0.093       0.388\n",
      "vbc_3g_good_ph                  0.1725      0.099      1.742      0.082      -0.022       0.367\n",
      "sachet_2g_good_ph               0.0098      0.109      0.090      0.929      -0.204       0.224\n",
      "sachet_3g_good_ph               0.1346      0.092      1.461      0.144      -0.046       0.315\n",
      "day_of_last_rech_shift         -0.2550      0.044     -5.858      0.000      -0.340      -0.170\n",
      "arpu_good_ph                    0.6970      0.306      2.274      0.023       0.096       1.298\n",
      "spl_og_mou_good_ph              0.2644      0.184      1.434      0.152      -0.097       0.626\n",
      "isd_og_mou_good_ph              1.0188      0.491      2.075      0.038       0.056       1.981\n",
      "roam_og_mou_good_ph             1.5924      1.035      1.539      0.124      -0.435       3.620\n",
      "std_og_t2m_mou_good_ph          5.8938      4.319      1.364      0.172      -2.572      14.360\n",
      "std_og_t2t_mou_good_ph          6.1645      4.330      1.424      0.155      -2.323      14.652\n",
      "std_og_t2f_mou_good_ph          0.2671      0.170      1.571      0.116      -0.066       0.600\n",
      "loc_og_t2m_mou_good_ph          3.4046      2.551      1.334      0.182      -1.596       8.405\n",
      "loc_og_t2t_mou_good_ph          3.6496      2.500      1.460      0.144      -1.251       8.550\n",
      "loc_og_t2f_mou_good_ph          0.2114      0.262      0.808      0.419      -0.302       0.724\n",
      "loc_og_t2c_mou_good_ph         -0.0912      0.080     -1.140      0.254      -0.248       0.066\n",
      "spl_ic_mou_good_ph              0.1452      0.078      1.855      0.064      -0.008       0.299\n",
      "isd_ic_mou_good_ph              0.2516      0.105      2.399      0.016       0.046       0.457\n",
      "roam_ic_mou_good_ph             0.0790      0.080      0.992      0.321      -0.077       0.235\n",
      "std_ic_t2m_mou_good_ph          0.0284      0.084      0.339      0.735      -0.136       0.193\n",
      "std_ic_t2t_mou_good_ph          0.2126      0.114      1.860      0.063      -0.011       0.437\n",
      "std_ic_t2f_mou_good_ph          0.0071      0.097      0.074      0.941      -0.182       0.196\n",
      "loc_ic_t2m_mou_good_ph          0.3962      0.115      3.431      0.001       0.170       0.622\n",
      "loc_ic_t2t_mou_good_ph          0.0926      0.098      0.942      0.346      -0.100       0.285\n",
      "loc_ic_t2f_mou_good_ph         -0.0312      0.078     -0.399      0.690      -0.184       0.122\n",
      "offnet_mou_good_ph             -6.4980      5.017     -1.295      0.195     -16.332       3.336\n",
      "onnet_mou_good_ph              -6.6898      4.937     -1.355      0.175     -16.367       2.987\n",
      "og_others_good_ph              -0.0198      0.134     -0.147      0.883      -0.283       0.244\n",
      "ic_others_good_ph              -0.1704      0.162     -1.053      0.292      -0.488       0.147\n",
      "===============================================================================================\n"
     ]
    },
    {
     "data": {
      "text/html": [
       "<div>\n",
       "<style scoped>\n",
       "    .dataframe tbody tr th:only-of-type {\n",
       "        vertical-align: middle;\n",
       "    }\n",
       "\n",
       "    .dataframe tbody tr th {\n",
       "        vertical-align: top;\n",
       "    }\n",
       "\n",
       "    .dataframe thead th {\n",
       "        text-align: right;\n",
       "    }\n",
       "</style>\n",
       "<table border=\"1\" class=\"dataframe\">\n",
       "  <thead>\n",
       "    <tr style=\"text-align: right;\">\n",
       "      <th></th>\n",
       "      <th>Var</th>\n",
       "      <th>Vif</th>\n",
       "    </tr>\n",
       "  </thead>\n",
       "  <tbody>\n",
       "    <tr>\n",
       "      <th>73</th>\n",
       "      <td>offnet_mou_good_ph</td>\n",
       "      <td>7332.35</td>\n",
       "    </tr>\n",
       "    <tr>\n",
       "      <th>74</th>\n",
       "      <td>onnet_mou_good_ph</td>\n",
       "      <td>6708.16</td>\n",
       "    </tr>\n",
       "    <tr>\n",
       "      <th>57</th>\n",
       "      <td>std_og_t2m_mou_good_ph</td>\n",
       "      <td>5819.00</td>\n",
       "    </tr>\n",
       "    <tr>\n",
       "      <th>58</th>\n",
       "      <td>std_og_t2t_mou_good_ph</td>\n",
       "      <td>5670.38</td>\n",
       "    </tr>\n",
       "    <tr>\n",
       "      <th>2</th>\n",
       "      <td>onnet_mou_8</td>\n",
       "      <td>4590.79</td>\n",
       "    </tr>\n",
       "    <tr>\n",
       "      <th>3</th>\n",
       "      <td>offnet_mou_8</td>\n",
       "      <td>4329.26</td>\n",
       "    </tr>\n",
       "    <tr>\n",
       "      <th>10</th>\n",
       "      <td>std_og_t2t_mou_8</td>\n",
       "      <td>3587.32</td>\n",
       "    </tr>\n",
       "    <tr>\n",
       "      <th>11</th>\n",
       "      <td>std_og_t2m_mou_8</td>\n",
       "      <td>2721.55</td>\n",
       "    </tr>\n",
       "    <tr>\n",
       "      <th>60</th>\n",
       "      <td>loc_og_t2m_mou_good_ph</td>\n",
       "      <td>1609.71</td>\n",
       "    </tr>\n",
       "    <tr>\n",
       "      <th>7</th>\n",
       "      <td>loc_og_t2m_mou_8</td>\n",
       "      <td>1173.07</td>\n",
       "    </tr>\n",
       "    <tr>\n",
       "      <th>61</th>\n",
       "      <td>loc_og_t2t_mou_good_ph</td>\n",
       "      <td>1073.08</td>\n",
       "    </tr>\n",
       "    <tr>\n",
       "      <th>6</th>\n",
       "      <td>loc_og_t2t_mou_8</td>\n",
       "      <td>726.50</td>\n",
       "    </tr>\n",
       "    <tr>\n",
       "      <th>5</th>\n",
       "      <td>roam_og_mou_8</td>\n",
       "      <td>552.38</td>\n",
       "    </tr>\n",
       "    <tr>\n",
       "      <th>56</th>\n",
       "      <td>roam_og_mou_good_ph</td>\n",
       "      <td>507.05</td>\n",
       "    </tr>\n",
       "    <tr>\n",
       "      <th>62</th>\n",
       "      <td>loc_og_t2f_mou_good_ph</td>\n",
       "      <td>39.09</td>\n",
       "    </tr>\n",
       "    <tr>\n",
       "      <th>39</th>\n",
       "      <td>total_rech_amt_good_ph</td>\n",
       "      <td>23.70</td>\n",
       "    </tr>\n",
       "    <tr>\n",
       "      <th>26</th>\n",
       "      <td>total_rech_amt_8</td>\n",
       "      <td>21.88</td>\n",
       "    </tr>\n",
       "    <tr>\n",
       "      <th>1</th>\n",
       "      <td>arpu_8</td>\n",
       "      <td>19.71</td>\n",
       "    </tr>\n",
       "    <tr>\n",
       "      <th>53</th>\n",
       "      <td>arpu_good_ph</td>\n",
       "      <td>18.97</td>\n",
       "    </tr>\n",
       "    <tr>\n",
       "      <th>55</th>\n",
       "      <td>isd_og_mou_good_ph</td>\n",
       "      <td>18.45</td>\n",
       "    </tr>\n",
       "    <tr>\n",
       "      <th>15</th>\n",
       "      <td>og_others_8</td>\n",
       "      <td>18.05</td>\n",
       "    </tr>\n",
       "    <tr>\n",
       "      <th>8</th>\n",
       "      <td>loc_og_t2f_mou_8</td>\n",
       "      <td>15.95</td>\n",
       "    </tr>\n",
       "    <tr>\n",
       "      <th>13</th>\n",
       "      <td>isd_og_mou_8</td>\n",
       "      <td>13.06</td>\n",
       "    </tr>\n",
       "    <tr>\n",
       "      <th>75</th>\n",
       "      <td>og_others_good_ph</td>\n",
       "      <td>12.38</td>\n",
       "    </tr>\n",
       "    <tr>\n",
       "      <th>14</th>\n",
       "      <td>spl_og_mou_8</td>\n",
       "      <td>12.07</td>\n",
       "    </tr>\n",
       "    <tr>\n",
       "      <th>54</th>\n",
       "      <td>spl_og_mou_good_ph</td>\n",
       "      <td>8.39</td>\n",
       "    </tr>\n",
       "    <tr>\n",
       "      <th>40</th>\n",
       "      <td>total_rech_amt_data_good_ph</td>\n",
       "      <td>7.37</td>\n",
       "    </tr>\n",
       "    <tr>\n",
       "      <th>19</th>\n",
       "      <td>std_ic_t2t_mou_8</td>\n",
       "      <td>6.38</td>\n",
       "    </tr>\n",
       "    <tr>\n",
       "      <th>68</th>\n",
       "      <td>std_ic_t2t_mou_good_ph</td>\n",
       "      <td>6.36</td>\n",
       "    </tr>\n",
       "    <tr>\n",
       "      <th>38</th>\n",
       "      <td>total_rech_amt_data_8</td>\n",
       "      <td>6.09</td>\n",
       "    </tr>\n",
       "    <tr>\n",
       "      <th>...</th>\n",
       "      <td>...</td>\n",
       "      <td>...</td>\n",
       "    </tr>\n",
       "    <tr>\n",
       "      <th>66</th>\n",
       "      <td>roam_ic_mou_good_ph</td>\n",
       "      <td>2.69</td>\n",
       "    </tr>\n",
       "    <tr>\n",
       "      <th>70</th>\n",
       "      <td>loc_ic_t2m_mou_good_ph</td>\n",
       "      <td>2.57</td>\n",
       "    </tr>\n",
       "    <tr>\n",
       "      <th>49</th>\n",
       "      <td>vbc_3g_good_ph</td>\n",
       "      <td>2.53</td>\n",
       "    </tr>\n",
       "    <tr>\n",
       "      <th>42</th>\n",
       "      <td>last_day_rch_amt_good_ph</td>\n",
       "      <td>2.53</td>\n",
       "    </tr>\n",
       "    <tr>\n",
       "      <th>37</th>\n",
       "      <td>vbc_3g_8</td>\n",
       "      <td>2.45</td>\n",
       "    </tr>\n",
       "    <tr>\n",
       "      <th>28</th>\n",
       "      <td>last_day_rch_amt_8</td>\n",
       "      <td>2.43</td>\n",
       "    </tr>\n",
       "    <tr>\n",
       "      <th>47</th>\n",
       "      <td>monthly_2g_good_ph</td>\n",
       "      <td>2.34</td>\n",
       "    </tr>\n",
       "    <tr>\n",
       "      <th>32</th>\n",
       "      <td>monthly_2g_8</td>\n",
       "      <td>2.30</td>\n",
       "    </tr>\n",
       "    <tr>\n",
       "      <th>18</th>\n",
       "      <td>loc_ic_t2f_mou_8</td>\n",
       "      <td>2.24</td>\n",
       "    </tr>\n",
       "    <tr>\n",
       "      <th>4</th>\n",
       "      <td>roam_ic_mou_8</td>\n",
       "      <td>2.21</td>\n",
       "    </tr>\n",
       "    <tr>\n",
       "      <th>20</th>\n",
       "      <td>std_ic_t2m_mou_8</td>\n",
       "      <td>2.02</td>\n",
       "    </tr>\n",
       "    <tr>\n",
       "      <th>67</th>\n",
       "      <td>std_ic_t2m_mou_good_ph</td>\n",
       "      <td>1.93</td>\n",
       "    </tr>\n",
       "    <tr>\n",
       "      <th>9</th>\n",
       "      <td>loc_og_t2c_mou_8</td>\n",
       "      <td>1.88</td>\n",
       "    </tr>\n",
       "    <tr>\n",
       "      <th>23</th>\n",
       "      <td>isd_ic_mou_8</td>\n",
       "      <td>1.87</td>\n",
       "    </tr>\n",
       "    <tr>\n",
       "      <th>65</th>\n",
       "      <td>isd_ic_mou_good_ph</td>\n",
       "      <td>1.82</td>\n",
       "    </tr>\n",
       "    <tr>\n",
       "      <th>16</th>\n",
       "      <td>loc_ic_t2t_mou_8</td>\n",
       "      <td>1.81</td>\n",
       "    </tr>\n",
       "    <tr>\n",
       "      <th>63</th>\n",
       "      <td>loc_og_t2c_mou_good_ph</td>\n",
       "      <td>1.80</td>\n",
       "    </tr>\n",
       "    <tr>\n",
       "      <th>45</th>\n",
       "      <td>vol_2g_mb_good_ph</td>\n",
       "      <td>1.79</td>\n",
       "    </tr>\n",
       "    <tr>\n",
       "      <th>21</th>\n",
       "      <td>std_ic_t2f_mou_8</td>\n",
       "      <td>1.79</td>\n",
       "    </tr>\n",
       "    <tr>\n",
       "      <th>72</th>\n",
       "      <td>loc_ic_t2f_mou_good_ph</td>\n",
       "      <td>1.77</td>\n",
       "    </tr>\n",
       "    <tr>\n",
       "      <th>71</th>\n",
       "      <td>loc_ic_t2t_mou_good_ph</td>\n",
       "      <td>1.77</td>\n",
       "    </tr>\n",
       "    <tr>\n",
       "      <th>30</th>\n",
       "      <td>vol_2g_mb_8</td>\n",
       "      <td>1.71</td>\n",
       "    </tr>\n",
       "    <tr>\n",
       "      <th>69</th>\n",
       "      <td>std_ic_t2f_mou_good_ph</td>\n",
       "      <td>1.42</td>\n",
       "    </tr>\n",
       "    <tr>\n",
       "      <th>0</th>\n",
       "      <td>const</td>\n",
       "      <td>1.33</td>\n",
       "    </tr>\n",
       "    <tr>\n",
       "      <th>22</th>\n",
       "      <td>spl_ic_mou_8</td>\n",
       "      <td>1.23</td>\n",
       "    </tr>\n",
       "    <tr>\n",
       "      <th>64</th>\n",
       "      <td>spl_ic_mou_good_ph</td>\n",
       "      <td>1.19</td>\n",
       "    </tr>\n",
       "    <tr>\n",
       "      <th>36</th>\n",
       "      <td>aon</td>\n",
       "      <td>1.19</td>\n",
       "    </tr>\n",
       "    <tr>\n",
       "      <th>52</th>\n",
       "      <td>day_of_last_rech_shift</td>\n",
       "      <td>1.14</td>\n",
       "    </tr>\n",
       "    <tr>\n",
       "      <th>24</th>\n",
       "      <td>ic_others_8</td>\n",
       "      <td>1.12</td>\n",
       "    </tr>\n",
       "    <tr>\n",
       "      <th>76</th>\n",
       "      <td>ic_others_good_ph</td>\n",
       "      <td>1.10</td>\n",
       "    </tr>\n",
       "  </tbody>\n",
       "</table>\n",
       "<p>77 rows × 2 columns</p>\n",
       "</div>"
      ],
      "text/plain": [
       "                            Var      Vif\n",
       "73           offnet_mou_good_ph  7332.35\n",
       "74            onnet_mou_good_ph  6708.16\n",
       "57       std_og_t2m_mou_good_ph  5819.00\n",
       "58       std_og_t2t_mou_good_ph  5670.38\n",
       "2                   onnet_mou_8  4590.79\n",
       "3                  offnet_mou_8  4329.26\n",
       "10             std_og_t2t_mou_8  3587.32\n",
       "11             std_og_t2m_mou_8  2721.55\n",
       "60       loc_og_t2m_mou_good_ph  1609.71\n",
       "7              loc_og_t2m_mou_8  1173.07\n",
       "61       loc_og_t2t_mou_good_ph  1073.08\n",
       "6              loc_og_t2t_mou_8   726.50\n",
       "5                 roam_og_mou_8   552.38\n",
       "56          roam_og_mou_good_ph   507.05\n",
       "62       loc_og_t2f_mou_good_ph    39.09\n",
       "39       total_rech_amt_good_ph    23.70\n",
       "26             total_rech_amt_8    21.88\n",
       "1                        arpu_8    19.71\n",
       "53                 arpu_good_ph    18.97\n",
       "55           isd_og_mou_good_ph    18.45\n",
       "15                  og_others_8    18.05\n",
       "8              loc_og_t2f_mou_8    15.95\n",
       "13                 isd_og_mou_8    13.06\n",
       "75            og_others_good_ph    12.38\n",
       "14                 spl_og_mou_8    12.07\n",
       "54           spl_og_mou_good_ph     8.39\n",
       "40  total_rech_amt_data_good_ph     7.37\n",
       "19             std_ic_t2t_mou_8     6.38\n",
       "68       std_ic_t2t_mou_good_ph     6.36\n",
       "38        total_rech_amt_data_8     6.09\n",
       "..                          ...      ...\n",
       "66          roam_ic_mou_good_ph     2.69\n",
       "70       loc_ic_t2m_mou_good_ph     2.57\n",
       "49               vbc_3g_good_ph     2.53\n",
       "42     last_day_rch_amt_good_ph     2.53\n",
       "37                     vbc_3g_8     2.45\n",
       "28           last_day_rch_amt_8     2.43\n",
       "47           monthly_2g_good_ph     2.34\n",
       "32                 monthly_2g_8     2.30\n",
       "18             loc_ic_t2f_mou_8     2.24\n",
       "4                 roam_ic_mou_8     2.21\n",
       "20             std_ic_t2m_mou_8     2.02\n",
       "67       std_ic_t2m_mou_good_ph     1.93\n",
       "9              loc_og_t2c_mou_8     1.88\n",
       "23                 isd_ic_mou_8     1.87\n",
       "65           isd_ic_mou_good_ph     1.82\n",
       "16             loc_ic_t2t_mou_8     1.81\n",
       "63       loc_og_t2c_mou_good_ph     1.80\n",
       "45            vol_2g_mb_good_ph     1.79\n",
       "21             std_ic_t2f_mou_8     1.79\n",
       "72       loc_ic_t2f_mou_good_ph     1.77\n",
       "71       loc_ic_t2t_mou_good_ph     1.77\n",
       "30                  vol_2g_mb_8     1.71\n",
       "69       std_ic_t2f_mou_good_ph     1.42\n",
       "0                         const     1.33\n",
       "22                 spl_ic_mou_8     1.23\n",
       "64           spl_ic_mou_good_ph     1.19\n",
       "36                          aon     1.19\n",
       "52       day_of_last_rech_shift     1.14\n",
       "24                  ic_others_8     1.12\n",
       "76            ic_others_good_ph     1.10\n",
       "\n",
       "[77 rows x 2 columns]"
      ]
     },
     "execution_count": 349,
     "metadata": {},
     "output_type": "execute_result"
    }
   ],
   "source": [
    "# run model on majority undersampled training data\n",
    "test_model(X_mju, X_test, y_mju, y_test)"
   ]
  },
  {
   "cell_type": "code",
   "execution_count": 338,
   "metadata": {},
   "outputs": [],
   "source": [
    "#By reterating the model we found that below cols must be deleted on the basis of high p-value and VIF\n",
    "\n",
    "cols_to_drop=[\"onnet_mou_8\", \"std_og_t2m_mou_8\", \"onnet_mou_good_ph\",\n",
    "       \"offnet_mou_good_ph\", \"roam_ic_mou_good_ph\", \"loc_og_t2m_mou_good_ph\",\n",
    "      \"og_others_8\", \"total_rech_amt_good_ph\", \"total_rech_amt_8\", \"isd_ic_mou_good_ph\",\n",
    "      \"arpu_8\", \"vol_3g_mb_8\", \"loc_og_t2f_mou_good_ph\", \"isd_og_mou_8\",\n",
    "      \"loc_ic_t2f_mou_good_ph\", \"spl_og_mou_good_ph\", \"std_ic_t2m_mou_good_ph\",\n",
    "      \"std_og_t2f_mou_good_ph\", \"total_rech_amt_data_good_ph\", \"max_rech_data_good_ph\",\n",
    "      \"std_ic_t2f_mou_good_ph\", \"loc_og_t2f_mou_8\", \"vbc_3g_good_ph\", \"isd_og_mou_good_ph\",\n",
    "      \"total_rech_amt_data_8\", \"max_rech_amt_good_ph\", \"total_rech_num_good_ph\",\n",
    "      \"sachet_2g_good_ph\", \"ic_others_8\", \"std_ic_t2f_mou_8\", \"og_others_good_ph\",\n",
    "      \"ic_others_good_ph\", \"roam_ic_mou_8\", \"monthly_3g_good_ph\", \"loc_ic_t2m_mou_8\",\n",
    "      \"loc_ic_t2m_mou_good_ph\", \"isd_ic_mou_8\", \"loc_og_t2c_mou_good_ph\", \"last_day_rch_amt_good_ph\",\n",
    "      \"std_og_t2f_mou_8\", \"sachet_3g_good_ph\", \"sachet_3g_8\", \"std_og_t2t_mou_good_ph\",\n",
    "      \"spl_ic_mou_good_ph\", \"loc_og_t2c_mou_8\", \"spl_og_mou_8\", \"vbc_3g_8\",\n",
    "      \"vol_3g_mb_good_ph\", \"roam_og_mou_good_ph\", \"monthly_2g_8\", \"monthly_3g_8\",\n",
    "      \"loc_og_t2t_mou_good_ph\", \"loc_og_t2t_mou_8\", \"max_rech_amt_8\", \"spl_ic_mou_8\",\n",
    "      \"std_ic_t2t_mou_good_ph\", \"std_ic_t2m_mou_8\", \"std_ic_t2t_mou_8\",\"std_og_t2m_mou_good_ph\"]"
   ]
  },
  {
   "cell_type": "code",
   "execution_count": 350,
   "metadata": {
    "scrolled": true
   },
   "outputs": [
    {
     "name": "stdout",
     "output_type": "stream",
     "text": [
      "Scoring on TEST 0.8073547383624041, TRAIN 0.8137196924896511\n",
      "Confusion Matrix:\n",
      "[[6651 1600]\n",
      " [ 134  616]]\n",
      "AUC Score:  0.8137087221750899\n",
      "Precision:  0.2779783393501805\n",
      "f1 Score:  0.4153742414025624\n",
      "Sensitivity:  0.8213333333333334\n",
      "Specificity:  0.8060841110168464\n",
      "Optimization terminated successfully.    (Exit mode 0)\n",
      "            Current function value: 0.44528236606016564\n",
      "            Iterations: 78\n",
      "            Function evaluations: 79\n",
      "            Gradient evaluations: 78\n",
      "                           Logit Regression Results                           \n",
      "==============================================================================\n",
      "Dep. Variable:                  churn   No. Observations:                 3382\n",
      "Model:                          Logit   Df Residuals:                     3364\n",
      "Method:                           MLE   Df Model:                           17\n",
      "Date:                Mon, 16 Dec 2019   Pseudo R-squ.:                  0.3576\n",
      "Time:                        20:36:12   Log-Likelihood:                -1505.9\n",
      "converged:                       True   LL-Null:                       -2344.2\n",
      "Covariance Type:            nonrobust   LLR p-value:                     0.000\n",
      "==========================================================================================\n",
      "                             coef    std err          z      P>|z|      [0.025      0.975]\n",
      "------------------------------------------------------------------------------------------\n",
      "const                     -1.4854      0.080    -18.611      0.000      -1.642      -1.329\n",
      "offnet_mou_8              -0.3713      0.084     -4.410      0.000      -0.536      -0.206\n",
      "roam_og_mou_8              0.2437      0.055      4.404      0.000       0.135       0.352\n",
      "loc_og_t2m_mou_8          -1.0687      0.137     -7.777      0.000      -1.338      -0.799\n",
      "std_og_t2t_mou_8          -0.1616      0.056     -2.871      0.004      -0.272      -0.051\n",
      "loc_ic_t2t_mou_8          -1.3463      0.234     -5.752      0.000      -1.805      -0.888\n",
      "loc_ic_t2f_mou_8          -0.4490      0.122     -3.676      0.000      -0.688      -0.210\n",
      "total_rech_num_8          -0.5856      0.077     -7.575      0.000      -0.737      -0.434\n",
      "last_day_rch_amt_8        -0.4205      0.063     -6.679      0.000      -0.544      -0.297\n",
      "max_rech_data_8           -0.4305      0.061     -7.023      0.000      -0.551      -0.310\n",
      "vol_2g_mb_8               -0.6188      0.125     -4.970      0.000      -0.863      -0.375\n",
      "sachet_2g_8               -0.4833      0.090     -5.352      0.000      -0.660      -0.306\n",
      "aon                       -0.2819      0.054     -5.269      0.000      -0.387      -0.177\n",
      "vol_2g_mb_good_ph          0.2421      0.069      3.515      0.000       0.107       0.377\n",
      "monthly_2g_good_ph        -0.2412      0.063     -3.841      0.000      -0.364      -0.118\n",
      "day_of_last_rech_shift    -0.2849      0.040     -7.117      0.000      -0.363      -0.206\n",
      "arpu_good_ph               0.6375      0.074      8.598      0.000       0.492       0.783\n",
      "loc_ic_t2t_mou_good_ph     0.2061      0.101      2.046      0.041       0.009       0.404\n",
      "==========================================================================================\n"
     ]
    },
    {
     "data": {
      "text/html": [
       "<div>\n",
       "<style scoped>\n",
       "    .dataframe tbody tr th:only-of-type {\n",
       "        vertical-align: middle;\n",
       "    }\n",
       "\n",
       "    .dataframe tbody tr th {\n",
       "        vertical-align: top;\n",
       "    }\n",
       "\n",
       "    .dataframe thead th {\n",
       "        text-align: right;\n",
       "    }\n",
       "</style>\n",
       "<table border=\"1\" class=\"dataframe\">\n",
       "  <thead>\n",
       "    <tr style=\"text-align: right;\">\n",
       "      <th></th>\n",
       "      <th>Var</th>\n",
       "      <th>Vif</th>\n",
       "    </tr>\n",
       "  </thead>\n",
       "  <tbody>\n",
       "    <tr>\n",
       "      <th>1</th>\n",
       "      <td>offnet_mou_8</td>\n",
       "      <td>1.82</td>\n",
       "    </tr>\n",
       "    <tr>\n",
       "      <th>3</th>\n",
       "      <td>loc_og_t2m_mou_8</td>\n",
       "      <td>1.73</td>\n",
       "    </tr>\n",
       "    <tr>\n",
       "      <th>7</th>\n",
       "      <td>total_rech_num_8</td>\n",
       "      <td>1.67</td>\n",
       "    </tr>\n",
       "    <tr>\n",
       "      <th>5</th>\n",
       "      <td>loc_ic_t2t_mou_8</td>\n",
       "      <td>1.65</td>\n",
       "    </tr>\n",
       "    <tr>\n",
       "      <th>17</th>\n",
       "      <td>loc_ic_t2t_mou_good_ph</td>\n",
       "      <td>1.58</td>\n",
       "    </tr>\n",
       "    <tr>\n",
       "      <th>10</th>\n",
       "      <td>vol_2g_mb_8</td>\n",
       "      <td>1.49</td>\n",
       "    </tr>\n",
       "    <tr>\n",
       "      <th>13</th>\n",
       "      <td>vol_2g_mb_good_ph</td>\n",
       "      <td>1.48</td>\n",
       "    </tr>\n",
       "    <tr>\n",
       "      <th>11</th>\n",
       "      <td>sachet_2g_8</td>\n",
       "      <td>1.35</td>\n",
       "    </tr>\n",
       "    <tr>\n",
       "      <th>16</th>\n",
       "      <td>arpu_good_ph</td>\n",
       "      <td>1.32</td>\n",
       "    </tr>\n",
       "    <tr>\n",
       "      <th>14</th>\n",
       "      <td>monthly_2g_good_ph</td>\n",
       "      <td>1.28</td>\n",
       "    </tr>\n",
       "    <tr>\n",
       "      <th>0</th>\n",
       "      <td>const</td>\n",
       "      <td>1.27</td>\n",
       "    </tr>\n",
       "    <tr>\n",
       "      <th>8</th>\n",
       "      <td>last_day_rch_amt_8</td>\n",
       "      <td>1.27</td>\n",
       "    </tr>\n",
       "    <tr>\n",
       "      <th>4</th>\n",
       "      <td>std_og_t2t_mou_8</td>\n",
       "      <td>1.25</td>\n",
       "    </tr>\n",
       "    <tr>\n",
       "      <th>2</th>\n",
       "      <td>roam_og_mou_8</td>\n",
       "      <td>1.24</td>\n",
       "    </tr>\n",
       "    <tr>\n",
       "      <th>9</th>\n",
       "      <td>max_rech_data_8</td>\n",
       "      <td>1.20</td>\n",
       "    </tr>\n",
       "    <tr>\n",
       "      <th>6</th>\n",
       "      <td>loc_ic_t2f_mou_8</td>\n",
       "      <td>1.12</td>\n",
       "    </tr>\n",
       "    <tr>\n",
       "      <th>12</th>\n",
       "      <td>aon</td>\n",
       "      <td>1.11</td>\n",
       "    </tr>\n",
       "    <tr>\n",
       "      <th>15</th>\n",
       "      <td>day_of_last_rech_shift</td>\n",
       "      <td>1.05</td>\n",
       "    </tr>\n",
       "  </tbody>\n",
       "</table>\n",
       "</div>"
      ],
      "text/plain": [
       "                       Var   Vif\n",
       "1             offnet_mou_8  1.82\n",
       "3         loc_og_t2m_mou_8  1.73\n",
       "7         total_rech_num_8  1.67\n",
       "5         loc_ic_t2t_mou_8  1.65\n",
       "17  loc_ic_t2t_mou_good_ph  1.58\n",
       "10             vol_2g_mb_8  1.49\n",
       "13       vol_2g_mb_good_ph  1.48\n",
       "11             sachet_2g_8  1.35\n",
       "16            arpu_good_ph  1.32\n",
       "14      monthly_2g_good_ph  1.28\n",
       "0                    const  1.27\n",
       "8       last_day_rch_amt_8  1.27\n",
       "4         std_og_t2t_mou_8  1.25\n",
       "2            roam_og_mou_8  1.24\n",
       "9          max_rech_data_8  1.20\n",
       "6         loc_ic_t2f_mou_8  1.12\n",
       "12                     aon  1.11\n",
       "15  day_of_last_rech_shift  1.05"
      ]
     },
     "execution_count": 350,
     "metadata": {},
     "output_type": "execute_result"
    }
   ],
   "source": [
    "# run with columns to be dropped to check the final p-values and VIF\n",
    "test_model(X_mju, X_test, y_mju, y_test, cols_to_drop=cols_to_drop)"
   ]
  },
  {
   "cell_type": "markdown",
   "metadata": {},
   "source": [
    "### Suggestion to Customer"
   ]
  },
  {
   "cell_type": "markdown",
   "metadata": {},
   "source": [
    "##### Below features are important and they decide whether the customer will churn or not."
   ]
  },
  {
   "cell_type": "markdown",
   "metadata": {},
   "source": [
    "- offnet_mou_8\n",
    "-\tloc_og_t2m_mou_8\n",
    "-\ttotal_rech_num_8\n",
    "-\tloc_ic_t2t_mou_8\n",
    "-\tloc_ic_t2t_mou_good_ph\n",
    "-\tvol_2g_mb_8\n",
    "-\tvol_2g_mb_good_ph\n",
    "-\tsachet_2g_8\n",
    "-\tarpu_good_ph\n",
    "-\tmonthly_2g_good_ph\n",
    "-\tlast_day_rch_amt_8\t\n",
    "-\tstd_og_t2t_mou_8\t\n",
    "-\troam_og_mou_8\t\n",
    "-\tmax_rech_data_8\t\n",
    "-\tloc_ic_t2f_mou_8\t\n",
    "-\taon\t\n",
    "-\tday_of_last_rech_shift"
   ]
  },
  {
   "cell_type": "markdown",
   "metadata": {},
   "source": [
    "Here the model Indicates that the good phase & the action phase parameters have comparative impact on customers churning. There is a higher chance of churn if any good phase indicator is high in range and if there is a drop in any action phase parameter value. "
   ]
  },
  {
   "cell_type": "code",
   "execution_count": 353,
   "metadata": {},
   "outputs": [
    {
     "data": {
      "text/html": [
       "<div>\n",
       "<style scoped>\n",
       "    .dataframe tbody tr th:only-of-type {\n",
       "        vertical-align: middle;\n",
       "    }\n",
       "\n",
       "    .dataframe tbody tr th {\n",
       "        vertical-align: top;\n",
       "    }\n",
       "\n",
       "    .dataframe thead th {\n",
       "        text-align: right;\n",
       "    }\n",
       "</style>\n",
       "<table border=\"1\" class=\"dataframe\">\n",
       "  <thead>\n",
       "    <tr style=\"text-align: right;\">\n",
       "      <th></th>\n",
       "      <th>vol_2g_mb_8</th>\n",
       "      <th>vol_3g_mb_8</th>\n",
       "      <th>vol_2g_mb_good_ph</th>\n",
       "      <th>vol_3g_mb_good_ph</th>\n",
       "    </tr>\n",
       "  </thead>\n",
       "  <tbody>\n",
       "    <tr>\n",
       "      <th>Churned</th>\n",
       "      <td>113.243187</td>\n",
       "      <td>374.884935</td>\n",
       "      <td>128.029971</td>\n",
       "      <td>366.686811</td>\n",
       "    </tr>\n",
       "    <tr>\n",
       "      <th>Non Churned</th>\n",
       "      <td>23.152745</td>\n",
       "      <td>87.399685</td>\n",
       "      <td>100.742509</td>\n",
       "      <td>250.429226</td>\n",
       "    </tr>\n",
       "  </tbody>\n",
       "</table>\n",
       "</div>"
      ],
      "text/plain": [
       "             vol_2g_mb_8  vol_3g_mb_8  vol_2g_mb_good_ph  vol_3g_mb_good_ph\n",
       "Churned       113.243187   374.884935         128.029971         366.686811\n",
       "Non Churned    23.152745    87.399685         100.742509         250.429226"
      ]
     },
     "execution_count": 353,
     "metadata": {},
     "output_type": "execute_result"
    }
   ],
   "source": [
    "# Analyzing volume of 2g and 3g usage\n",
    "cols_3g_2g = df.columns[df.columns.str.contains('vol_2g_mb|vol_3g_mb',regex=True)]\n",
    "\n",
    "# let's check the mean variation in total recharge numbers for churned and non churned customers\n",
    "pd.DataFrame([df.loc[df.churn==0,cols_3g_2g].mean()\n",
    "              ,df.loc[df.churn==1,cols_3g_2g].mean()],index={'Non Churned','Churned'})"
   ]
  },
  {
   "cell_type": "markdown",
   "metadata": {},
   "source": [
    "Apart from the above model based features we have also noticed in EDA that the % of churn is higher for 2G usage as compared to 3G usage suggesting that some users may be migrating to other operators due to availability of better 3G network. Also, in some cases there is a small increase in calls to call centre in 7th month followed by drop in 8th month, which indicates that customers might be calling for some issues based on which they might have decided to switch to a better service provider."
   ]
  },
  {
   "cell_type": "markdown",
   "metadata": {},
   "source": [
    "#### Recommendations:\n",
    "\n",
    "\n",
    "- The company should improve Network coverage for 2G in places where 3G is not avilable.\n",
    "- Reduced roaming charges as it is one of the major reasons for pre-paid customers to look for local operators while on roaming.\n",
    "- Customized pre-paid plan offers: Continuous monitoring of behavioural signs listed above in action phase to offer customized per-paid plans to customers, eg : Plans like extra talktime minutes for local and same operator calls\n",
    "- Privilege Customer offers: for customer who have been a part of the family since long like extra benefits which will further more strengthen the bond\n"
   ]
  },
  {
   "cell_type": "code",
   "execution_count": null,
   "metadata": {},
   "outputs": [],
   "source": []
  }
 ],
 "metadata": {
  "kernelspec": {
   "display_name": "Python 3",
   "language": "python",
   "name": "python3"
  },
  "language_info": {
   "codemirror_mode": {
    "name": "ipython",
    "version": 3
   },
   "file_extension": ".py",
   "mimetype": "text/x-python",
   "name": "python",
   "nbconvert_exporter": "python",
   "pygments_lexer": "ipython3",
   "version": "3.7.3"
  }
 },
 "nbformat": 4,
 "nbformat_minor": 2
}
